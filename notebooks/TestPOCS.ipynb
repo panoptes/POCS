{
 "cells": [
  {
   "cell_type": "code",
   "execution_count": null,
   "id": "0b8f187b-d6b4-4031-b75a-08071ec4bef7",
   "metadata": {},
   "outputs": [],
   "source": [
    "# %load pocs/scripts/pocs-startup.py\n",
    "from panoptes.pocs.core import POCS\n",
    "from panoptes.pocs.observatory import Observatory\n",
    "from panoptes.pocs.mount import create_mount_from_config\n",
    "from panoptes.pocs.camera import create_cameras_from_config\n",
    "from panoptes.pocs.scheduler import create_scheduler_from_config\n",
    "from panoptes.utils.time import current_time\n",
    "\n",
    "\n",
    "def create_pocs(simulators=None):\n",
    "    scheduler = create_scheduler_from_config()\n",
    "    mount = create_mount_from_config()\n",
    "    cameras = create_cameras_from_config()\n",
    "\n",
    "    observatory = Observatory(cameras=cameras, mount=mount, scheduler=scheduler)\n",
    "\n",
    "    # Add simulators if necessary before running.\n",
    "    pocs = POCS(observatory, simulators=simulators or list())\n",
    "    return pocs\n"
   ]
  },
  {
   "cell_type": "code",
   "execution_count": null,
   "id": "dab326ca-82af-499d-98de-95d745a4e9cf",
   "metadata": {},
   "outputs": [],
   "source": [
    "pocs = create_pocs()"
   ]
  },
  {
   "cell_type": "code",
   "execution_count": null,
   "id": "c99bfe96-4c52-4f3b-974c-c0ef9bf85feb",
   "metadata": {},
   "outputs": [],
   "source": [
    "pocs.initialize()"
   ]
  },
  {
   "cell_type": "markdown",
   "id": "6679f36e-3c61-4021-8b23-9b060f3013a3",
   "metadata": {},
   "source": [
    "# Mount testing commands"
   ]
  },
  {
   "cell_type": "code",
   "execution_count": null,
   "id": "d1e44dab-b621-4d5f-99b0-99d9c54572f9",
   "metadata": {},
   "outputs": [],
   "source": [
    "# We don't want to type this out every time.\n",
    "mount = pocs.observatory.mount"
   ]
  },
  {
   "cell_type": "code",
   "execution_count": null,
   "id": "79488400-a48e-4798-b857-4bc461344cad",
   "metadata": {},
   "outputs": [],
   "source": [
    "mount.unpark()"
   ]
  },
  {
   "cell_type": "code",
   "execution_count": null,
   "id": "e9756656-b6ef-43c1-8d12-43aa89ea9766",
   "metadata": {},
   "outputs": [],
   "source": [
    "mount.search_for_home()"
   ]
  },
  {
   "cell_type": "code",
   "execution_count": null,
   "id": "042c5df6-d656-4abf-be06-da3ddb230027",
   "metadata": {},
   "outputs": [],
   "source": [
    "mount.move_direction(direction='east', seconds=1)\n",
    "mount.move_direction(direction='south', seconds=3)"
   ]
  },
  {
   "cell_type": "code",
   "execution_count": null,
   "id": "d657801c-ba74-45c6-a93b-5a7af7243841",
   "metadata": {},
   "outputs": [],
   "source": [
    "mount.park()"
   ]
  },
  {
   "cell_type": "code",
   "execution_count": null,
   "id": "63168926-64c4-473f-83df-6379b8f4e7fa",
   "metadata": {},
   "outputs": [],
   "source": [
    "mount.unpark()"
   ]
  },
  {
   "cell_type": "code",
   "execution_count": null,
   "id": "03a30d87-ed12-4c8f-b563-8367b9a0e850",
   "metadata": {},
   "outputs": [],
   "source": [
    "mount.slew_to_home()"
   ]
  },
  {
   "cell_type": "markdown",
   "id": "a683c64c-4c1a-48c0-81a4-41c581edff44",
   "metadata": {},
   "source": [
    "# Camera testing commands"
   ]
  },
  {
   "cell_type": "code",
   "execution_count": null,
   "id": "7df0de6b-af02-4a82-b55a-ac0809e8c87c",
   "metadata": {},
   "outputs": [],
   "source": [
    "# For a unique filename.\n",
    "now = current_time(flatten=True)\n",
    "\n",
    "for cam_name, cam in pocs.observatory.cameras.items():\n",
    "    cam.take_exposure(seconds=2, filename=f'/home/panoptes/images/{cam_name}-test-{now}.cr2', blocking=True)"
   ]
  },
  {
   "cell_type": "markdown",
   "id": "13816d0a",
   "metadata": {},
   "source": [
    "# Scheduler testing commands\n",
    "\n",
    "To schedule an observation the `pocs.observatory` will look at all the potential targets in the fields file and try to determine the \"best\" observation. "
   ]
  },
  {
   "cell_type": "code",
   "execution_count": null,
   "id": "8eacb871",
   "metadata": {},
   "outputs": [],
   "source": [
    "pocs.observatory.get_observation()"
   ]
  },
  {
   "cell_type": "markdown",
   "id": "d552c57f",
   "metadata": {},
   "source": [
    "It's possible that there will not be any valid observations available.\n",
    "\n",
    "If a valid observation is found, it will be assigned to `pocs.observatory.current_observation` and also tells the mount about the target. You can then do things like:"
   ]
  },
  {
   "cell_type": "code",
   "execution_count": null,
   "id": "508d4980",
   "metadata": {},
   "outputs": [],
   "source": [
    "# Make sure the mount is unparked\n",
    "pocs.observatory.mount.unpark()\n",
    "\n",
    "# Move to the target.\n",
    "pocs.observatory.mount.slew_to_target()"
   ]
  }
 ],
 "metadata": {
  "kernelspec": {
   "display_name": "Python 3 (ipykernel)",
   "language": "python",
   "name": "python3"
  },
  "language_info": {
   "codemirror_mode": {
    "name": "ipython",
    "version": 3
   },
   "file_extension": ".py",
   "mimetype": "text/x-python",
   "name": "python",
   "nbconvert_exporter": "python",
   "pygments_lexer": "ipython3",
   "version": "3.11.3"
  }
 },
 "nbformat": 4,
 "nbformat_minor": 5
}
