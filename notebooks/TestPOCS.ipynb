{
 "cells": [
  {
   "attachments": {},
   "cell_type": "markdown",
   "id": "163bdb87",
   "metadata": {},
   "source": [
    "# Test POCS\n",
    "\n",
    "You can use this notebook to run some simple tests on POCS and some of the attached hardware.\n",
    "\n",
    "Use **Shift-Enter** to run each cell and advance to the next one.  You can use **Ctrl-Enter** to run the cell without advancing.\n",
    "\n",
    "See the [Official JupyterLab User Guider](https://jupyterlab.readthedocs.io/en/latest/user/index.html) for a comprehensive guide to JupyterLab."
   ]
  },
  {
   "attachments": {},
   "cell_type": "markdown",
   "id": "4c6ce451",
   "metadata": {},
   "source": [
    "## Loading POCS\n",
    "\n",
    "Below we load some helper functions that will attach to our hardware and create a `POCS` object.\n",
    "\n",
    "The `POCS` object is responsible for controlling the `Observatory` object. Think of `POCS` as the brains of your PANOPTES unit.\n",
    "\n",
    "An `Observatory` contains details about your unit, such as connections to all the hardware, information about where it is physically located and what time it is, a scheduler that can find targets to look at, and more!\n",
    "\n",
    "When your unit runs on its own each night all of these details are taken care of for you by the `POCS` object. In this notebook we will be the brains controlling the `Observatory` so we can test things."
   ]
  },
  {
   "cell_type": "code",
   "execution_count": null,
   "id": "0b8f187b-d6b4-4031-b75a-08071ec4bef7",
   "metadata": {},
   "outputs": [],
   "source": [
    "from panoptes.pocs.core import POCS\n",
    "from panoptes.pocs.observatory import Observatory\n",
    "from panoptes.pocs.mount import create_mount_from_config\n",
    "from panoptes.pocs.camera import create_cameras_from_config\n",
    "from panoptes.pocs.scheduler import create_scheduler_from_config\n",
    "from panoptes.utils.time import current_time\n",
    "\n",
    "\n",
    "def create_pocs(simulators=None):\n",
    "    scheduler = create_scheduler_from_config()\n",
    "    mount = create_mount_from_config()\n",
    "    cameras = create_cameras_from_config()\n",
    "\n",
    "    observatory = Observatory(cameras=cameras, mount=mount, scheduler=scheduler)\n",
    "\n",
    "    # Add simulators if necessary before running.\n",
    "    pocs = POCS(observatory, simulators=simulators or list())\n",
    "    return pocs\n"
   ]
  },
  {
   "attachments": {},
   "cell_type": "markdown",
   "id": "c793099c",
   "metadata": {},
   "source": [
    "After loading the code into the notebook above, we next want to create an individual `POCS` object (called an \"instance\" of `POCS`), which we assign to the `pocs` variable.\n",
    "\n",
    "Note that you will see some messages being output during some of the commands."
   ]
  },
  {
   "cell_type": "code",
   "execution_count": null,
   "id": "dab326ca-82af-499d-98de-95d745a4e9cf",
   "metadata": {},
   "outputs": [],
   "source": [
    "pocs = create_pocs()"
   ]
  },
  {
   "attachments": {},
   "cell_type": "markdown",
   "id": "074d52f0",
   "metadata": {},
   "source": [
    "After we have created the `pocs` instance, we need to initialize it. This is where all the connections to the hardware are created, so if something is hooked up incorrectly you will likely get errors here."
   ]
  },
  {
   "cell_type": "code",
   "execution_count": null,
   "id": "c99bfe96-4c52-4f3b-974c-c0ef9bf85feb",
   "metadata": {},
   "outputs": [],
   "source": [
    "pocs.initialize()"
   ]
  },
  {
   "attachments": {},
   "cell_type": "markdown",
   "id": "6679f36e-3c61-4021-8b23-9b060f3013a3",
   "metadata": {},
   "source": [
    "# Mount testing commands\n",
    "\n",
    "Now that we have initialized `pocs`, we want to test that our mount works as expected. To save ourselves some typing, we make a new variable (`mount`) that points to the mount instance in `pocs`.\n",
    "\n",
    "> **Warning** \n",
    "> \n",
    "> Before testing the mount, make sure that you have balanced the mount and that there are no cables or other obstructions that may interfere with the mount movement. See the [Balancing](https://www.projectpanoptes.org/build/hardware/mount-and-pier/mount/balancing-the-mount) page for more info.\n",
    "> \n",
    "> Watch the mount carefully and be ready to physically turn off the power to the mount if it looks like something is going wrong."
   ]
  },
  {
   "cell_type": "code",
   "execution_count": null,
   "id": "d1e44dab-b621-4d5f-99b0-99d9c54572f9",
   "metadata": {},
   "outputs": [],
   "source": [
    "# We don't want to type this out every time.\n",
    "mount = pocs.observatory.mount"
   ]
  },
  {
   "attachments": {},
   "cell_type": "markdown",
   "id": "3e945fda",
   "metadata": {},
   "source": [
    "The `mount` can be given a number of commands. The most useful for testing will be to have the mount automatically find the \"home\" (or \"zero\") position using the `search_for_home` command. Because we are manually controlling the mount we first need to unpark it before we make any movement commands."
   ]
  },
  {
   "cell_type": "code",
   "execution_count": null,
   "id": "79488400-a48e-4798-b857-4bc461344cad",
   "metadata": {},
   "outputs": [],
   "source": [
    "mount.unpark()"
   ]
  },
  {
   "cell_type": "code",
   "execution_count": null,
   "id": "e9756656-b6ef-43c1-8d12-43aa89ea9766",
   "metadata": {},
   "outputs": [],
   "source": [
    "mount.search_for_home()"
   ]
  },
  {
   "attachments": {},
   "cell_type": "markdown",
   "id": "a4e8e740",
   "metadata": {},
   "source": [
    "You can also use `move_direction` to mimic pushing the arrow buttons on the hand controller."
   ]
  },
  {
   "cell_type": "code",
   "execution_count": null,
   "id": "042c5df6-d656-4abf-be06-da3ddb230027",
   "metadata": {},
   "outputs": [],
   "source": [
    "mount.move_direction(direction='east', seconds=1)\n",
    "mount.move_direction(direction='south', seconds=3)"
   ]
  },
  {
   "attachments": {},
   "cell_type": "markdown",
   "id": "0700c71f",
   "metadata": {},
   "source": [
    "Finally, you can `park` the mount to test that your unit knows how to sleep at the end of a long night! \n",
    "\n",
    "The `park` command will take a few seconds to run and will first return to home before moving to the park position. Parking will consist of two movements, first around the RA axis and then around the Declination. If you have the camera box connected the lenses should be facing down after parking, otherwise see the section on [Saddle Plate Rotation](https://www.projectpanoptes.org/build/hardware/mount-and-pier/mount/saddle-plate-rotation)."
   ]
  },
  {
   "cell_type": "code",
   "execution_count": null,
   "id": "d657801c-ba74-45c6-a93b-5a7af7243841",
   "metadata": {},
   "outputs": [],
   "source": [
    "mount.park()"
   ]
  },
  {
   "attachments": {},
   "cell_type": "markdown",
   "id": "1bfc70e9",
   "metadata": {},
   "source": [
    "After you have verified the park position, you can unpark again and then go back to the home position. "
   ]
  },
  {
   "cell_type": "code",
   "execution_count": null,
   "id": "63168926-64c4-473f-83df-6379b8f4e7fa",
   "metadata": {},
   "outputs": [],
   "source": [
    "mount.unpark()\n",
    "mount.slew_to_home()"
   ]
  },
  {
   "attachments": {},
   "cell_type": "markdown",
   "id": "a683c64c-4c1a-48c0-81a4-41c581edff44",
   "metadata": {},
   "source": [
    "# Camera testing commands\n",
    "\n",
    "The cameras are stored in `pocs.observatory.cameras` and are each referenced by a name like `Cam00` and `Cam01`.\n",
    "\n",
    "Here we loop over each camera and use the `take_exposure` method, saving a unique filename for each."
   ]
  },
  {
   "cell_type": "code",
   "execution_count": null,
   "id": "7df0de6b-af02-4a82-b55a-ac0809e8c87c",
   "metadata": {},
   "outputs": [],
   "source": [
    "# For a unique filename.\n",
    "now = current_time(flatten=True)\n",
    "\n",
    "for cam_name, cam in pocs.observatory.cameras.items():\n",
    "    cam.take_exposure(seconds=2, filename=f'/home/panoptes/images/{cam_name}-test-{now}.cr2', blocking=True)"
   ]
  },
  {
   "cell_type": "markdown",
   "id": "13816d0a",
   "metadata": {},
   "source": [
    "# Scheduler testing commands\n",
    "\n",
    "To schedule an observation the `pocs.observatory` will look at all the potential targets in the fields file and try to determine the \"best\" observation. "
   ]
  },
  {
   "cell_type": "code",
   "execution_count": null,
   "id": "8eacb871",
   "metadata": {},
   "outputs": [],
   "source": [
    "pocs.observatory.get_observation()"
   ]
  },
  {
   "cell_type": "markdown",
   "id": "d552c57f",
   "metadata": {},
   "source": [
    "It's possible that there will not be any valid observations available.\n",
    "\n",
    "If a valid observation is found, it will be assigned to `pocs.observatory.current_observation` and also tells the mount about the target. You can then do things like:"
   ]
  },
  {
   "cell_type": "code",
   "execution_count": null,
   "id": "508d4980",
   "metadata": {},
   "outputs": [],
   "source": [
    "# Make sure the mount is unparked\n",
    "pocs.observatory.mount.unpark()\n",
    "\n",
    "# Move to the target.\n",
    "pocs.observatory.mount.slew_to_target()"
   ]
  }
 ],
 "metadata": {
  "kernelspec": {
   "display_name": "Python 3 (ipykernel)",
   "language": "python",
   "name": "python3"
  },
  "language_info": {
   "codemirror_mode": {
    "name": "ipython",
    "version": 3
   },
   "file_extension": ".py",
   "mimetype": "text/x-python",
   "name": "python",
   "nbconvert_exporter": "python",
   "pygments_lexer": "ipython3",
   "version": "3.11.3"
  }
 },
 "nbformat": 4,
 "nbformat_minor": 5
}
