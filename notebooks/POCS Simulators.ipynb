{
 "cells": [
  {
   "cell_type": "code",
   "execution_count": 1,
   "metadata": {},
   "outputs": [],
   "source": [
    "import time\n",
    "\n",
    "from panoptes.pocs.mount import create_mount_simulator\n",
    "from panoptes.pocs.scheduler import create_scheduler_from_config\n",
    "from panoptes.pocs.camera import create_cameras_from_config\n",
    "from panoptes.pocs.observatory import Observatory\n",
    "from panoptes.pocs.core import POCS"
   ]
  },
  {
   "cell_type": "code",
   "execution_count": 2,
   "metadata": {},
   "outputs": [
    {
     "name": "stdout",
     "output_type": "stream",
     "text": [
      "W 02-26 20:04:37.128 Problem with get_config: ConnectionError(MaxRetryError(\"HTTPConnectionPool(host='localhost', port=6563): Max retries exceeded with url: /get-config (Caused by NewConnectionError('<urllib3.connection.HTTPConnection object at 0x7f1c424324f0>: Failed to establish a new connection: [Errno 111] Connection refused'))\"))\n",
      "W 02-26 20:04:37.131 Current simulators: []\n",
      "I 02-26 20:04:37.133 Calling set_config on  url='http://localhost:6563/set-config'\n",
      "W 02-26 20:04:37.142 Problem with set_config: ConnectionError(MaxRetryError(\"HTTPConnectionPool(host='localhost', port=6563): Max retries exceeded with url: /set-config (Caused by NewConnectionError('<urllib3.connection.HTTPConnection object at 0x7f1c423d20a0>: Failed to establish a new connection: [Errno 111] Connection refused'))\"))\n",
      "W 02-26 20:04:37.149 Problem with get_config: ConnectionError(MaxRetryError(\"HTTPConnectionPool(host='localhost', port=6563): Max retries exceeded with url: /get-config (Caused by NewConnectionError('<urllib3.connection.HTTPConnection object at 0x7f1c744407c0>: Failed to establish a new connection: [Errno 111] Connection refused'))\"))\n",
      "E 02-26 20:04:37.152 PanError: location information not found in config.\n",
      "E 02-26 20:04:37.155 PanError: Bad site information: PanError()\n"
     ]
    },
    {
     "ename": "PanError",
     "evalue": "PanError: Bad site information: PanError()",
     "output_type": "error",
     "traceback": [
      "\u001b[0;31m---------------------------------------------------------------------------\u001b[0m",
      "\u001b[0;31mPanError\u001b[0m                                  Traceback (most recent call last)",
      "\u001b[0;32m/mnt/storage/panoptes/POCS/src/panoptes/pocs/utils/location.py\u001b[0m in \u001b[0;36mcreate_location_from_config\u001b[0;34m()\u001b[0m\n\u001b[1;32m     31\u001b[0m         \u001b[0;32mif\u001b[0m \u001b[0mconfig_site\u001b[0m \u001b[0;32mis\u001b[0m \u001b[0;32mNone\u001b[0m\u001b[0;34m:\u001b[0m\u001b[0;34m\u001b[0m\u001b[0;34m\u001b[0m\u001b[0m\n\u001b[0;32m---> 32\u001b[0;31m             \u001b[0;32mraise\u001b[0m \u001b[0merror\u001b[0m\u001b[0;34m.\u001b[0m\u001b[0mPanError\u001b[0m\u001b[0;34m(\u001b[0m\u001b[0mmsg\u001b[0m\u001b[0;34m=\u001b[0m\u001b[0;34m'location information not found in config.'\u001b[0m\u001b[0;34m)\u001b[0m\u001b[0;34m\u001b[0m\u001b[0;34m\u001b[0m\u001b[0m\n\u001b[0m\u001b[1;32m     33\u001b[0m \u001b[0;34m\u001b[0m\u001b[0m\n",
      "\u001b[0;31mPanError\u001b[0m: PanError: location information not found in config.",
      "\nDuring handling of the above exception, another exception occurred:\n",
      "\u001b[0;31mPanError\u001b[0m                                  Traceback (most recent call last)",
      "\u001b[0;32m<ipython-input-2-bf17d55e7acf>\u001b[0m in \u001b[0;36m<module>\u001b[0;34m\u001b[0m\n\u001b[0;32m----> 1\u001b[0;31m pocs = POCS(Observatory(mount=create_mount_simulator(),\n\u001b[0m\u001b[1;32m      2\u001b[0m                         \u001b[0mscheduler\u001b[0m\u001b[0;34m=\u001b[0m\u001b[0mcreate_scheduler_from_config\u001b[0m\u001b[0;34m(\u001b[0m\u001b[0;34m)\u001b[0m\u001b[0;34m,\u001b[0m\u001b[0;34m\u001b[0m\u001b[0;34m\u001b[0m\u001b[0m\n\u001b[1;32m      3\u001b[0m                         \u001b[0mcameras\u001b[0m\u001b[0;34m=\u001b[0m\u001b[0mcreate_cameras_from_config\u001b[0m\u001b[0;34m(\u001b[0m\u001b[0;34m)\u001b[0m\u001b[0;34m,\u001b[0m\u001b[0;34m\u001b[0m\u001b[0;34m\u001b[0m\u001b[0m\n\u001b[1;32m      4\u001b[0m                         db_type='memory'),\n\u001b[1;32m      5\u001b[0m             simulators=['dome', 'night', 'weather', 'power'])\n",
      "\u001b[0;32m/mnt/storage/panoptes/POCS/src/panoptes/pocs/mount/__init__.py\u001b[0m in \u001b[0;36mcreate_mount_simulator\u001b[0;34m(mount_info, earth_location, db_type, *args, **kwargs)\u001b[0m\n\u001b[1;32m    124\u001b[0m     \u001b[0mset_config\u001b[0m\u001b[0;34m(\u001b[0m\u001b[0;34m'mount'\u001b[0m\u001b[0;34m,\u001b[0m \u001b[0mmount_config\u001b[0m\u001b[0;34m)\u001b[0m\u001b[0;34m\u001b[0m\u001b[0;34m\u001b[0m\u001b[0m\n\u001b[1;32m    125\u001b[0m \u001b[0;34m\u001b[0m\u001b[0m\n\u001b[0;32m--> 126\u001b[0;31m     \u001b[0mearth_location\u001b[0m \u001b[0;34m=\u001b[0m \u001b[0mearth_location\u001b[0m \u001b[0;32mor\u001b[0m \u001b[0mcreate_location_from_config\u001b[0m\u001b[0;34m(\u001b[0m\u001b[0;34m)\u001b[0m\u001b[0;34m[\u001b[0m\u001b[0;34m'earth_location'\u001b[0m\u001b[0;34m]\u001b[0m\u001b[0;34m\u001b[0m\u001b[0;34m\u001b[0m\u001b[0m\n\u001b[0m\u001b[1;32m    127\u001b[0m \u001b[0;34m\u001b[0m\u001b[0m\n\u001b[1;32m    128\u001b[0m     \u001b[0mlogger\u001b[0m\u001b[0;34m.\u001b[0m\u001b[0mdebug\u001b[0m\u001b[0;34m(\u001b[0m\u001b[0;34mf\"Loading mount driver: pocs.mount.{mount_config['driver']}\"\u001b[0m\u001b[0;34m)\u001b[0m\u001b[0;34m\u001b[0m\u001b[0;34m\u001b[0m\u001b[0m\n",
      "\u001b[0;32m/mnt/storage/panoptes/POCS/src/panoptes/pocs/utils/location.py\u001b[0m in \u001b[0;36mcreate_location_from_config\u001b[0;34m()\u001b[0m\n\u001b[1;32m     73\u001b[0m \u001b[0;34m\u001b[0m\u001b[0m\n\u001b[1;32m     74\u001b[0m     \u001b[0;32mexcept\u001b[0m \u001b[0mException\u001b[0m \u001b[0;32mas\u001b[0m \u001b[0me\u001b[0m\u001b[0;34m:\u001b[0m\u001b[0;34m\u001b[0m\u001b[0;34m\u001b[0m\u001b[0m\n\u001b[0;32m---> 75\u001b[0;31m         \u001b[0;32mraise\u001b[0m \u001b[0merror\u001b[0m\u001b[0;34m.\u001b[0m\u001b[0mPanError\u001b[0m\u001b[0;34m(\u001b[0m\u001b[0mmsg\u001b[0m\u001b[0;34m=\u001b[0m\u001b[0;34mf'Bad site information: {e!r}'\u001b[0m\u001b[0;34m)\u001b[0m\u001b[0;34m\u001b[0m\u001b[0;34m\u001b[0m\u001b[0m\n\u001b[0m",
      "\u001b[0;31mPanError\u001b[0m: PanError: Bad site information: PanError()"
     ]
    }
   ],
   "source": [
    "pocs = POCS(Observatory(mount=create_mount_simulator(),\n",
    "                        scheduler=create_scheduler_from_config(),\n",
    "                        cameras=create_cameras_from_config(),\n",
    "                        db_type='memory'),\n",
    "            simulators=['dome', 'night', 'weather', 'power'])\n",
    "print(f'POCS simulator instance created as \"pocs\"')"
   ]
  },
  {
   "cell_type": "code",
   "execution_count": null,
   "metadata": {},
   "outputs": [],
   "source": []
  }
 ],
 "metadata": {
  "kernelspec": {
   "display_name": "Python 3",
   "language": "python",
   "name": "python3"
  },
  "language_info": {
   "codemirror_mode": {
    "name": "ipython",
    "version": 3
   },
   "file_extension": ".py",
   "mimetype": "text/x-python",
   "name": "python",
   "nbconvert_exporter": "python",
   "pygments_lexer": "ipython3",
   "version": "3.8.5"
  }
 },
 "nbformat": 4,
 "nbformat_minor": 4
}
