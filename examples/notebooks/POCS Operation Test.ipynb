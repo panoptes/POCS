{
 "cells": [
  {
   "cell_type": "markdown",
   "metadata": {},
   "source": [
    "# Intro\n",
    "This notebook is designed to serve as an example of how to manually control a PANOPTES unit using the high-level software interface. It also acts as a basic test of hardware functionality."
   ]
  },
  {
   "cell_type": "markdown",
   "metadata": {},
   "source": [
    "#### POCS\n",
    "\n",
    "`POCS` is a high-level object that acts as the \"brains\" for the unit. We build an `Observatory` object that has knowledge of our hardware and then pass this object into the `POCS` object instance. While `POCS` is running it is responsible for moving the unit between the various _states_, doing safety checks (weather, darkness, hard drive space, etc.) as well as performing other tasks. So `POCS` decides which commands to send to the `Observatory` based on what _state_ it is in. The `Observatory` is then responsible for controlling individual hardware components.\n",
    "\n",
    "Normal automated operation of a unit involves creating an `Observatory` and a `POCS` instance, which is then run in a non-interactive fashion, such as:\n",
    "\n",
    "```python3\n",
    "observatory = Observatory()\n",
    "pocs = POCS(observatory)\n",
    "pocs.initialize()\n",
    "pocs.run()\n",
    "```\n",
    "\n",
    "The `pocs_shell` that is normally used wraps the statements above:\n",
    "\n",
    "```\n",
    "Welcome to POCS Shell! Type ? for help\n",
    "POCS > setup_pocs\n",
    "POCS > run_pocs\n",
    "```\n",
    "\n",
    "In this notebook we are goinng to create the `POCS` and `Observatory` instance but then interact with it manually rather than using the `pocs.run()` method.\n",
    "\n",
    "---"
   ]
  },
  {
   "cell_type": "markdown",
   "metadata": {},
   "source": [
    "### Setup\n",
    "\n",
    "There are a few basic things that need to be set up before:\n",
    "\n",
    "* Firmware updated for iOptron.\n",
    "* Set Horizon limits and behaviour via handset (30° for limit and stop as behaviour).\n",
    "* Define park position on via handset (operation steps below will test this).\n",
    "* Make sure data has been downloaded  (see below)."
   ]
  },
  {
   "cell_type": "markdown",
   "metadata": {},
   "source": [
    "##### Log files\n",
    "You will also probably want to watch the log file. Assuming a standard POCS installation, the log files are in `/var/panoptes/logs/`. When running in a jupyter notebook (such as here), you can run the following in a separate terminal:\n",
    "\n",
    "```\n",
    "grc tail -F /var/panoptes/logs/ipykernel_launcher.py-all.log\n",
    "```\n",
    "\n",
    "The `grc` portion is optional and needs to be installed on Ubuntu (`sudo apt install grc`) but gives helpful color output to the log file. The `tail` command is standard on all linux systems. The `-F` option just means \"follow\"."
   ]
  },
  {
   "cell_type": "markdown",
   "metadata": {},
   "source": [
    "##### Download data\n",
    "\n",
    "If you need to download data files.  Note that the instructions should have had you set up a cron job which does this same thing every week, see [instructions here](https://github.com/panoptes/POCS/wiki/Cron-Jobs). There is no harm in re-running this but it does not need to be run every time."
   ]
  },
  {
   "cell_type": "code",
   "execution_count": 1,
   "metadata": {},
   "outputs": [
    {
     "name": "stdout",
     "output_type": "stream",
     "text": [
      "Downloading http://maia.usno.navy.mil/ser7/finals2000A.all [Done]\n"
     ]
    },
    {
     "data": {
      "text/plain": [
       "True"
      ]
     },
     "execution_count": 1,
     "metadata": {},
     "output_type": "execute_result"
    }
   ],
   "source": [
    "from pocs.utils.data import Downloader\n",
    "Downloader().download_all_files()"
   ]
  },
  {
   "cell_type": "markdown",
   "metadata": {},
   "source": [
    "# Operation"
   ]
  },
  {
   "cell_type": "markdown",
   "metadata": {},
   "source": [
    "### Initialization"
   ]
  },
  {
   "cell_type": "code",
   "execution_count": 2,
   "metadata": {},
   "outputs": [],
   "source": [
    "# Load the required modules\n",
    "from pocs.core import POCS\n",
    "from pocs.observatory import Observatory\n",
    "from pocs.utils import error"
   ]
  },
  {
   "cell_type": "code",
   "execution_count": 3,
   "metadata": {},
   "outputs": [],
   "source": [
    "# Create the observatory object with simulators attached\n",
    "observatory = Observatory(simulator=['all']) # Could be any of: ['weather', 'night', 'camera', 'mount', 'all']"
   ]
  },
  {
   "cell_type": "code",
   "execution_count": 4,
   "metadata": {},
   "outputs": [],
   "source": [
    "# Create an instance of POCS and pass it the observatory instance\n",
    "pocs = POCS(observatory) "
   ]
  },
  {
   "cell_type": "markdown",
   "metadata": {},
   "source": [
    "The `pocs` instance needs to be initialized, which will set up the cameras, mount, scheduler, etc."
   ]
  },
  {
   "cell_type": "code",
   "execution_count": 5,
   "metadata": {},
   "outputs": [
    {
     "data": {
      "text/plain": [
       "True"
      ]
     },
     "execution_count": 5,
     "metadata": {},
     "output_type": "execute_result"
    }
   ],
   "source": [
    "pocs.initialize()"
   ]
  },
  {
   "cell_type": "markdown",
   "metadata": {},
   "source": [
    "### Test home and park positions\n",
    "\n",
    "By default the mount is parked when operations start. Here we want to simply unpark the mount, slew to the home position (with RA axis vertical and cameras pointing at Polaris), move around in a few directions, then park."
   ]
  },
  {
   "cell_type": "markdown",
   "metadata": {},
   "source": [
    "#### Home"
   ]
  },
  {
   "cell_type": "code",
   "execution_count": 6,
   "metadata": {},
   "outputs": [
    {
     "data": {
      "text/plain": [
       "True"
      ]
     },
     "execution_count": 6,
     "metadata": {},
     "output_type": "execute_result"
    }
   ],
   "source": [
    "# Easier to work with shorter name\n",
    "mount = pocs.observatory.mount\n",
    "\n",
    "# Unpark the mount\n",
    "mount.unpark()"
   ]
  },
  {
   "cell_type": "code",
   "execution_count": 7,
   "metadata": {},
   "outputs": [],
   "source": [
    "# Slew to home\n",
    "mount.slew_to_home()"
   ]
  },
  {
   "cell_type": "code",
   "execution_count": 8,
   "metadata": {},
   "outputs": [
    {
     "data": {
      "text/plain": [
       "True"
      ]
     },
     "execution_count": 8,
     "metadata": {},
     "output_type": "execute_result"
    }
   ],
   "source": [
    "# We can check if at home\n",
    "mount.is_home"
   ]
  },
  {
   "cell_type": "code",
   "execution_count": 9,
   "metadata": {},
   "outputs": [
    {
     "data": {
      "text/plain": [
       "False"
      ]
     },
     "execution_count": 9,
     "metadata": {},
     "output_type": "execute_result"
    }
   ],
   "source": [
    "# Or if parked\n",
    "mount.is_parked"
   ]
  },
  {
   "cell_type": "code",
   "execution_count": 10,
   "metadata": {},
   "outputs": [
    {
     "data": {
      "text/plain": [
       "False"
      ]
     },
     "execution_count": 10,
     "metadata": {},
     "output_type": "execute_result"
    }
   ],
   "source": [
    "# Or slewing\n",
    "mount.is_slewing"
   ]
  },
  {
   "cell_type": "code",
   "execution_count": 11,
   "metadata": {},
   "outputs": [
    {
     "data": {
      "text/plain": [
       "False"
      ]
     },
     "execution_count": 11,
     "metadata": {},
     "output_type": "execute_result"
    }
   ],
   "source": [
    "# Or tracking\n",
    "mount.is_tracking"
   ]
  },
  {
   "cell_type": "markdown",
   "metadata": {},
   "source": [
    "#### Move direction\n",
    "\n",
    "We want to simply move the mount around a bit to test that directions work."
   ]
  },
  {
   "cell_type": "code",
   "execution_count": 24,
   "metadata": {},
   "outputs": [],
   "source": [
    "# Set mount to move at the fastest speed for manual movements\n",
    "# Note: there is no high-level method for doing this so we use the underlying `query`\n",
    "# command to send commands and values. This is not a common procedure as we normally\n",
    "# leave it at the fastest speed.\n",
    "mount.query('set_button_moving_rate', 9)"
   ]
  },
  {
   "cell_type": "code",
   "execution_count": 13,
   "metadata": {},
   "outputs": [],
   "source": [
    "# Slew the Dec south\n",
    "mount.move_direction(direction='south', seconds=3)"
   ]
  },
  {
   "cell_type": "code",
   "execution_count": 14,
   "metadata": {},
   "outputs": [],
   "source": [
    "# Slew the RA to the west\n",
    "mount.move_direction(direction='west', seconds=3)"
   ]
  },
  {
   "cell_type": "code",
   "execution_count": 26,
   "metadata": {},
   "outputs": [],
   "source": [
    "# Set a slower speed just to test visible difference, then move again\n",
    "# Note: it can be hard to tell the mount is even moving at slower speeds\n",
    "mount.query('set_button_moving_rate', 7)\n",
    "mount.move_direction(direction='north', seconds=3)\n",
    "mount.move_direction(direction='east', seconds=3)"
   ]
  },
  {
   "cell_type": "markdown",
   "metadata": {},
   "source": [
    "Since the above was at a slower movement rate this should not return to the exact home position. "
   ]
  },
  {
   "cell_type": "code",
   "execution_count": 25,
   "metadata": {},
   "outputs": [],
   "source": [
    "# Reset movement speed\n",
    "mount.query('set_button_moving_rate', 9)"
   ]
  },
  {
   "cell_type": "markdown",
   "metadata": {},
   "source": [
    "#### Park\n",
    "\n",
    "When parking we usually want to first go home and then park:"
   ]
  },
  {
   "cell_type": "code",
   "execution_count": 16,
   "metadata": {},
   "outputs": [],
   "source": [
    "mount.home_and_park()"
   ]
  },
  {
   "cell_type": "code",
   "execution_count": 17,
   "metadata": {},
   "outputs": [
    {
     "data": {
      "text/plain": [
       "False"
      ]
     },
     "execution_count": 17,
     "metadata": {},
     "output_type": "execute_result"
    }
   ],
   "source": [
    "mount.is_home"
   ]
  },
  {
   "cell_type": "code",
   "execution_count": 18,
   "metadata": {},
   "outputs": [
    {
     "data": {
      "text/plain": [
       "True"
      ]
     },
     "execution_count": 18,
     "metadata": {},
     "output_type": "execute_result"
    }
   ],
   "source": [
    "mount.is_parked"
   ]
  },
  {
   "cell_type": "markdown",
   "metadata": {},
   "source": [
    "##### Status\n",
    "\n",
    "We can check the status of the mount at any time. Right now this won't contain much information but once we have acquired a target you will see more information here:"
   ]
  },
  {
   "cell_type": "code",
   "execution_count": 19,
   "metadata": {},
   "outputs": [
    {
     "data": {
      "text/plain": [
       "{'tracking_rate': '1.0000',\n",
       " 'ra_guide_rate': 0.5,\n",
       " 'dec_guide_rate': 0.5,\n",
       " 'movement_speed': '',\n",
       " 'current_ra': <Longitude 11.87005046 deg>,\n",
       " 'current_dec': <Latitude -10. deg>,\n",
       " 'timestamp': <Time object: scale='utc' format='datetime' value=2018-08-09 06:12:31.646216>,\n",
       " 'tracking_rate_ra': 1.0,\n",
       " 'state': 'Parked'}"
      ]
     },
     "execution_count": 19,
     "metadata": {},
     "output_type": "execute_result"
    }
   ],
   "source": [
    "mount.status()"
   ]
  },
  {
   "cell_type": "markdown",
   "metadata": {},
   "source": [
    "Note that we can also check the status on our `pocs` instance, which will recursively call `status` for all the objects in knows about. Again, this will also include target information as appropriate."
   ]
  },
  {
   "cell_type": "code",
   "execution_count": 20,
   "metadata": {},
   "outputs": [
    {
     "data": {
      "text/plain": [
       "{'state': 'sleeping',\n",
       " 'system': {'free_space': 13.258313728000001},\n",
       " 'observatory': {'mount': {'tracking_rate': '1.0000',\n",
       "   'ra_guide_rate': 0.5,\n",
       "   'dec_guide_rate': 0.5,\n",
       "   'movement_speed': '',\n",
       "   'current_ra': <Longitude 11.87005046 deg>,\n",
       "   'current_dec': <Latitude -10. deg>,\n",
       "   'timestamp': <Time object: scale='utc' format='datetime' value=2018-08-09 06:12:31.672009>,\n",
       "   'tracking_rate_ra': 1.0,\n",
       "   'state': 'Parked',\n",
       "   'current_ha': <Longitude 12.67120839 hourangle>},\n",
       "  'observer': {'siderealtime': '13h27m45.4834s',\n",
       "   'utctime': <Time object: scale='utc' format='datetime' value=2018-08-09 06:12:31.669894>,\n",
       "   'localtime': '2018-08-09 16:12:31',\n",
       "   'local_evening_astro_time': <Time object: scale='utc' format='jd' value=2458339.8656154433>,\n",
       "   'local_morning_astro_time': <Time object: scale='utc' format='jd' value=2458340.3022836037>,\n",
       "   'local_sun_set_time': <Time object: scale='utc' format='jd' value=2458339.803693587>,\n",
       "   'local_sun_rise_time': <Time object: scale='utc' format='jd' value=2458339.3647814887>,\n",
       "   'local_moon_alt': <Latitude -15.99899165 deg>,\n",
       "   'local_moon_illumination': 0.06955166219491465,\n",
       "   'local_moon_phase': <Quantity 2.60782578 rad>}}}"
      ]
     },
     "execution_count": 20,
     "metadata": {},
     "output_type": "execute_result"
    }
   ],
   "source": [
    "pocs.status()"
   ]
  },
  {
   "cell_type": "markdown",
   "metadata": {},
   "source": [
    "### Slew to position, take images\n",
    "\n",
    "We want to give the mount a valid target, have it slew to and acquire target, then take an image with the cameras.\n",
    "\n",
    "Here we create a target from a set of AltAz coordinates. Normally the targets are specifcied in an external targets file and the `pocs.observatory.get_observation` method is responsible for running the scheduler to detremine the most appropriate object."
   ]
  },
  {
   "cell_type": "code",
   "execution_count": 30,
   "metadata": {},
   "outputs": [],
   "source": [
    "from pocs.utils import altaz_to_radec\n",
    "from pocs.utils import current_time"
   ]
  },
  {
   "cell_type": "code",
   "execution_count": 34,
   "metadata": {},
   "outputs": [
    {
     "data": {
      "text/plain": [
       "<SkyCoord (ICRS): (ra, dec) in deg\n",
       "    (236.09174716, -31.43589531)>"
      ]
     },
     "execution_count": 34,
     "metadata": {},
     "output_type": "execute_result"
    }
   ],
   "source": [
    "# Create a target for the given AltAz coordinates. To create AltAz we need to know where\n",
    "# on earth we are and at what time we are looking.\n",
    "\n",
    "alt = 70\n",
    "az = 90\n",
    "\n",
    "target = altaz_to_radec(\n",
    "    alt=alt, \n",
    "    az=az, \n",
    "    location=pocs.observatory.earth_location, \n",
    "    obstime=current_time()\n",
    ")\n",
    "\n",
    "target"
   ]
  },
  {
   "cell_type": "code",
   "execution_count": 35,
   "metadata": {},
   "outputs": [
    {
     "data": {
      "text/plain": [
       "True"
      ]
     },
     "execution_count": 35,
     "metadata": {},
     "output_type": "execute_result"
    }
   ],
   "source": [
    "# Make sure our mount is unparked\n",
    "mount.unpark()"
   ]
  },
  {
   "cell_type": "code",
   "execution_count": 36,
   "metadata": {},
   "outputs": [
    {
     "data": {
      "text/plain": [
       "True"
      ]
     },
     "execution_count": 36,
     "metadata": {},
     "output_type": "execute_result"
    }
   ],
   "source": [
    "mount.set_target_coordinates(target)"
   ]
  },
  {
   "cell_type": "code",
   "execution_count": 38,
   "metadata": {},
   "outputs": [
    {
     "data": {
      "text/plain": [
       "True"
      ]
     },
     "execution_count": 38,
     "metadata": {},
     "output_type": "execute_result"
    }
   ],
   "source": [
    "mount.slew_to_target()"
   ]
  },
  {
   "cell_type": "code",
   "execution_count": 40,
   "metadata": {},
   "outputs": [
    {
     "data": {
      "text/plain": [
       "True"
      ]
     },
     "execution_count": 40,
     "metadata": {},
     "output_type": "execute_result"
    }
   ],
   "source": [
    "mount.is_tracking"
   ]
  },
  {
   "cell_type": "code",
   "execution_count": 42,
   "metadata": {},
   "outputs": [],
   "source": [
    "# Track when camera is done exposing\n",
    "camera_events = dict()\n",
    "\n",
    "# Take exposure with each camera\n",
    "for cam_name, camera in pocs.observatory.cameras.items():\n",
    "\n",
    "    try:\n",
    "        # Start the exposures\n",
    "        cam_event = camera.take_exposure(\n",
    "            seconds=2,\n",
    "            filename='/var/panoptes/images/temp/test_pic_{}.cr2'.format(cam_name)\n",
    "        )\n",
    "\n",
    "        camera_events[cam_name] = cam_event\n",
    "    except Exception as e:\n",
    "        print(\"Problem waiting for images: {}\".format(e))        "
   ]
  },
  {
   "cell_type": "code",
   "execution_count": 50,
   "metadata": {},
   "outputs": [
    {
     "data": {
      "text/plain": [
       "{'Cam00': <threading.Event at 0x7f294bad7ba8>,\n",
       " 'Cam01': <threading.Event at 0x7f294c266860>}"
      ]
     },
     "execution_count": 50,
     "metadata": {},
     "output_type": "execute_result"
    }
   ],
   "source": [
    "# See our stored events\n",
    "camera_events"
   ]
  },
  {
   "cell_type": "code",
   "execution_count": 51,
   "metadata": {},
   "outputs": [
    {
     "data": {
      "text/plain": [
       "True"
      ]
     },
     "execution_count": 51,
     "metadata": {},
     "output_type": "execute_result"
    }
   ],
   "source": [
    "# We can check if the event is complete\n",
    "camera_events['Cam00'].is_set()"
   ]
  },
  {
   "cell_type": "markdown",
   "metadata": {},
   "source": [
    "Now let's very we got a picture by making a jpg"
   ]
  },
  {
   "cell_type": "code",
   "execution_count": 62,
   "metadata": {},
   "outputs": [],
   "source": [
    "# Show images in the notebook\n",
    "from IPython.display import display, Image\n",
    "\n",
    "from pocs.utils.images import make_pretty_image"
   ]
  },
  {
   "cell_type": "code",
   "execution_count": 63,
   "metadata": {},
   "outputs": [
    {
     "data": {
      "image/jpeg": "[encoded data removed]",
      "text/plain": [
       "<IPython.core.display.Image object>"
      ]
     },
     "metadata": {},
     "output_type": "display_data"
    },
    {
     "data": {
      "image/jpeg": "[encoded data removed]",
      "text/plain": [
       "<IPython.core.display.Image object>"
      ]
     },
     "metadata": {},
     "output_type": "display_data"
    }
   ],
   "source": [
    "# Turn it into a pretty image\n",
    "for cam_name in pocs.observatory.cameras.keys():\n",
    "    jpg_fn = make_pretty_image('/var/panoptes/images/temp/test_pic_{}.cr2'.format(cam_name))\n",
    "    display(Image(jpg_fn))"
   ]
  },
  {
   "cell_type": "markdown",
   "metadata": {},
   "source": [
    "### Scheduler - Add a custom target"
   ]
  },
  {
   "cell_type": "code",
   "execution_count": 21,
   "metadata": {},
   "outputs": [],
   "source": [
    "# Remove all possible observations\n",
    "obs_names = [o for o in pocs.observatory.scheduler.observations]\n",
    "for obs_name in obs_names:\n",
    "    pocs.observatory.scheduler.remove_observation(obs_name)"
   ]
  },
  {
   "cell_type": "markdown",
   "metadata": {},
   "source": [
    "Below we are setting the target to HD 189733 just as an example. If you are running this notebook in the daytime and want to actually go to a target, change the below to a target that is up (at least 30° above horizon) and make sure to include the `night` simulator when constructing the `Observatory` object, i.e.: `Observatory(simulator=['night', 'weather'])`."
   ]
  },
  {
   "cell_type": "code",
   "execution_count": 27,
   "metadata": {},
   "outputs": [],
   "source": [
    "# Set a new high priority target.\n",
    "target = {\n",
    "    'name': 'HD 189733',\n",
    "    'position': '20h00m43.713s +22d42m39.07s',\n",
    "    'priority': 999,\n",
    "    'exp_time': 45,\n",
    "}\n",
    "\n",
    "pocs.observatory.scheduler.add_observation(target)"
   ]
  },
  {
   "cell_type": "code",
   "execution_count": 23,
   "metadata": {},
   "outputs": [
    {
     "name": "stdout",
     "output_type": "stream",
     "text": [
      "No targets available\n"
     ]
    }
   ],
   "source": [
    "# Get a new observation, which should be our new event\n",
    "try:\n",
    "    new_obs = pocs.observatory.get_observation(reread_fields_file=False)  # Don't want to add default targets back\n",
    "except error.NoObservation:\n",
    "    print(\"No targets available\")"
   ]
  },
  {
   "cell_type": "code",
   "execution_count": null,
   "metadata": {},
   "outputs": [],
   "source": []
  }
 ],
 "metadata": {
  "anaconda-cloud": {},
  "kernelspec": {
   "display_name": "Python 3",
   "language": "python",
   "name": "python3"
  },
  "language_info": {
   "codemirror_mode": {
    "name": "ipython",
    "version": 3
   },
   "file_extension": ".py",
   "mimetype": "text/x-python",
   "name": "python",
   "nbconvert_exporter": "python",
   "pygments_lexer": "ipython3",
   "version": "3.6.6"
  }
 },
 "nbformat": 4,
 "nbformat_minor": 2
}
