{
 "cells": [
  {
   "cell_type": "markdown",
   "metadata": {},
   "source": [
    "## TOC:\n",
    "* [Intro](#intro)\n",
    "* [Operation](#operation)\n",
    "* [Manual Observation](#manual)"
   ]
  },
  {
   "cell_type": "markdown",
   "metadata": {},
   "source": [
    "<a id='intro'></a>\n",
    "# Intro\n",
    "This notebook is designed to serve as an example of how to manually control a PANOPTES unit using the high-level software interface. It also acts as a basic test of hardware functionality."
   ]
  },
  {
   "cell_type": "markdown",
   "metadata": {},
   "source": [
    "#### POCS\n",
    "\n",
    "`POCS` is a high-level object that acts as the \"brains\" for the unit. We build an `Observatory` object that has knowledge of our hardware and then pass this object into the `POCS` object instance. While `POCS` is running it is responsible for moving the unit between the various _states_, doing safety checks (weather, darkness, hard drive space, etc.) as well as performing other tasks. So `POCS` decides which commands to send to the `Observatory` based on what _state_ it is in. The `Observatory` is then responsible for controlling individual hardware components.\n",
    "\n",
    "Normal automated operation of a unit involves creating an `Observatory` and a `POCS` instance, which is then run in a non-interactive fashion, such as:\n",
    "\n",
    "```python3\n",
    "observatory = Observatory()\n",
    "pocs = POCS(observatory)\n",
    "pocs.initialize()\n",
    "pocs.run()\n",
    "```\n",
    "\n",
    "The `pocs_shell` that is normally used wraps the statements above:\n",
    "\n",
    "```\n",
    "Welcome to POCS Shell! Type ? for help\n",
    "POCS > setup_pocs\n",
    "POCS > run_pocs\n",
    "```\n",
    "\n",
    "In this notebook we are goinng to create the `POCS` and `Observatory` instance but then interact with it manually rather than using the `pocs.run()` method. This notebook starts with some basic control and testing of the mount in the [Operation](#operation) section. The [Manual Observation](#manual) goes through a complete observation cycle similar to the POCS state machine.\n",
    "\n",
    "---"
   ]
  },
  {
   "cell_type": "markdown",
   "metadata": {},
   "source": [
    "### Setup\n",
    "\n",
    "There are a few basic things that need to be set up before:\n",
    "\n",
    "* Firmware updated for iOptron.\n",
    "* Set Horizon limits and behaviour via handset (30° for limit and stop as behaviour).\n",
    "* Define park position on via handset (operation steps below will test this).\n",
    "* Make sure data has been downloaded  (see below)."
   ]
  },
  {
   "cell_type": "markdown",
   "metadata": {},
   "source": [
    "##### Log files\n",
    "You will also probably want to watch the log file. Assuming a standard POCS installation, the log files are in `/var/panoptes/logs/`. When running in a jupyter notebook (such as here), you can run the following in a separate terminal:\n",
    "\n",
    "```\n",
    "grc tail -F /var/panoptes/logs/ipykernel_launcher.py-all.log\n",
    "```\n",
    "\n",
    "The `grc` portion is optional and needs to be installed on Ubuntu (`sudo apt install grc`) but gives helpful color output to the log file. The `tail` command is standard on all linux systems. The `-F` option just means \"follow\"."
   ]
  },
  {
   "cell_type": "markdown",
   "metadata": {},
   "source": [
    "##### Download data\n",
    "\n",
    "If you need to download data files.  Note that the instructions should have had you set up a cron job which does this same thing every week, see [instructions here](https://github.com/panoptes/POCS/wiki/Cron-Jobs). There is no harm in re-running this but it does not need to be run every time. (~3MB - 50+MB depending on which files need to be downloaded)"
   ]
  },
  {
   "cell_type": "code",
   "execution_count": null,
   "metadata": {},
   "outputs": [],
   "source": [
    "from pocs.utils.data import Downloader\n",
    "Downloader().download_all_files()"
   ]
  },
  {
   "cell_type": "markdown",
   "metadata": {},
   "source": [
    "<a id=\"operation\"></a>\n",
    "\n",
    "# Operation"
   ]
  },
  {
   "cell_type": "markdown",
   "metadata": {},
   "source": [
    "### Initialization"
   ]
  },
  {
   "cell_type": "code",
   "execution_count": 1,
   "metadata": {},
   "outputs": [],
   "source": [
    "# Load the required modules\n",
    "from pocs.core import POCS\n",
    "from pocs.observatory import Observatory\n",
    "from pocs.utils import error"
   ]
  },
  {
   "cell_type": "code",
   "execution_count": 2,
   "metadata": {},
   "outputs": [],
   "source": [
    "# Create the observatory object with simulators attached\n",
    "# Could be any of: ['weather', 'night', 'camera', 'mount', 'all']\n",
    "observatory = Observatory(simulator=['all']) "
   ]
  },
  {
   "cell_type": "code",
   "execution_count": 3,
   "metadata": {},
   "outputs": [],
   "source": [
    "# Create an instance of POCS and pass it the observatory instance\n",
    "pocs = POCS(observatory) "
   ]
  },
  {
   "cell_type": "markdown",
   "metadata": {},
   "source": [
    "The `pocs` instance needs to be initialized, which will set up the cameras, mount, scheduler, etc."
   ]
  },
  {
   "cell_type": "code",
   "execution_count": 4,
   "metadata": {},
   "outputs": [
    {
     "data": {
      "text/plain": [
       "True"
      ]
     },
     "execution_count": 4,
     "metadata": {},
     "output_type": "execute_result"
    }
   ],
   "source": [
    "pocs.initialize()"
   ]
  },
  {
   "cell_type": "markdown",
   "metadata": {},
   "source": [
    "### Test home and park positions\n",
    "\n",
    "By default the mount is parked when operations start. Here we want to simply unpark the mount, slew to the home position (with RA axis vertical and cameras pointing at Polaris), move around in a few directions, then park."
   ]
  },
  {
   "cell_type": "markdown",
   "metadata": {},
   "source": [
    "#### Home"
   ]
  },
  {
   "cell_type": "code",
   "execution_count": 5,
   "metadata": {},
   "outputs": [
    {
     "data": {
      "text/plain": [
       "True"
      ]
     },
     "execution_count": 5,
     "metadata": {},
     "output_type": "execute_result"
    }
   ],
   "source": [
    "# Easier to work with shorter name\n",
    "mount = pocs.observatory.mount\n",
    "\n",
    "# Unpark the mount\n",
    "mount.unpark()"
   ]
  },
  {
   "cell_type": "code",
   "execution_count": 6,
   "metadata": {},
   "outputs": [],
   "source": [
    "# Slew to home\n",
    "mount.slew_to_home()"
   ]
  },
  {
   "cell_type": "code",
   "execution_count": 7,
   "metadata": {},
   "outputs": [
    {
     "data": {
      "text/plain": [
       "True"
      ]
     },
     "execution_count": 7,
     "metadata": {},
     "output_type": "execute_result"
    }
   ],
   "source": [
    "# We can check if at home\n",
    "mount.is_home"
   ]
  },
  {
   "cell_type": "code",
   "execution_count": 8,
   "metadata": {},
   "outputs": [
    {
     "data": {
      "text/plain": [
       "False"
      ]
     },
     "execution_count": 8,
     "metadata": {},
     "output_type": "execute_result"
    }
   ],
   "source": [
    "# Or if parked\n",
    "mount.is_parked"
   ]
  },
  {
   "cell_type": "code",
   "execution_count": 9,
   "metadata": {},
   "outputs": [
    {
     "data": {
      "text/plain": [
       "False"
      ]
     },
     "execution_count": 9,
     "metadata": {},
     "output_type": "execute_result"
    }
   ],
   "source": [
    "# Or slewing\n",
    "mount.is_slewing"
   ]
  },
  {
   "cell_type": "code",
   "execution_count": 10,
   "metadata": {},
   "outputs": [
    {
     "data": {
      "text/plain": [
       "False"
      ]
     },
     "execution_count": 10,
     "metadata": {},
     "output_type": "execute_result"
    }
   ],
   "source": [
    "# Or tracking\n",
    "mount.is_tracking"
   ]
  },
  {
   "cell_type": "markdown",
   "metadata": {},
   "source": [
    "#### Move direction\n",
    "\n",
    "We want to simply move the mount around a bit to test that directions work."
   ]
  },
  {
   "cell_type": "code",
   "execution_count": 11,
   "metadata": {},
   "outputs": [],
   "source": [
    "# Set mount to move at the fastest speed for manual movements\n",
    "# Note: there is no high-level method for doing this so we use the underlying `query`\n",
    "# command to send commands and values. This is not a common procedure as we normally\n",
    "# leave it at the fastest speed.\n",
    "mount.query('set_button_moving_rate', 9)"
   ]
  },
  {
   "cell_type": "code",
   "execution_count": 12,
   "metadata": {},
   "outputs": [],
   "source": [
    "# Slew the Dec south\n",
    "mount.move_direction(direction='south', seconds=3)"
   ]
  },
  {
   "cell_type": "code",
   "execution_count": 13,
   "metadata": {},
   "outputs": [],
   "source": [
    "# Slew the RA to the west\n",
    "mount.move_direction(direction='west', seconds=3)"
   ]
  },
  {
   "cell_type": "code",
   "execution_count": 14,
   "metadata": {},
   "outputs": [],
   "source": [
    "# Set a slower speed just to test visible difference, then move again\n",
    "# Note: it can be hard to tell the mount is even moving at slower speeds\n",
    "mount.query('set_button_moving_rate', 7)\n",
    "mount.move_direction(direction='north', seconds=3)\n",
    "mount.move_direction(direction='east', seconds=3)"
   ]
  },
  {
   "cell_type": "markdown",
   "metadata": {},
   "source": [
    "Since the above was at a slower movement rate this should not return to the exact home position. "
   ]
  },
  {
   "cell_type": "code",
   "execution_count": 15,
   "metadata": {},
   "outputs": [],
   "source": [
    "# Reset movement speed\n",
    "mount.query('set_button_moving_rate', 9)"
   ]
  },
  {
   "cell_type": "markdown",
   "metadata": {},
   "source": [
    "#### Park\n",
    "\n",
    "When parking we usually want to first go home and then park:"
   ]
  },
  {
   "cell_type": "code",
   "execution_count": 16,
   "metadata": {},
   "outputs": [],
   "source": [
    "mount.home_and_park()"
   ]
  },
  {
   "cell_type": "code",
   "execution_count": 17,
   "metadata": {},
   "outputs": [
    {
     "data": {
      "text/plain": [
       "False"
      ]
     },
     "execution_count": 17,
     "metadata": {},
     "output_type": "execute_result"
    }
   ],
   "source": [
    "mount.is_home"
   ]
  },
  {
   "cell_type": "code",
   "execution_count": 18,
   "metadata": {},
   "outputs": [
    {
     "data": {
      "text/plain": [
       "True"
      ]
     },
     "execution_count": 18,
     "metadata": {},
     "output_type": "execute_result"
    }
   ],
   "source": [
    "mount.is_parked"
   ]
  },
  {
   "cell_type": "markdown",
   "metadata": {},
   "source": [
    "#### Status\n",
    "\n",
    "We can check the status of the mount at any time. Right now this won't contain much information but once we have acquired a target you will see more information here:"
   ]
  },
  {
   "cell_type": "code",
   "execution_count": 19,
   "metadata": {},
   "outputs": [
    {
     "data": {
      "text/plain": [
       "{'tracking_rate': '1.0000',\n",
       " 'ra_guide_rate': 0.5,\n",
       " 'dec_guide_rate': 0.5,\n",
       " 'movement_speed': '',\n",
       " 'current_ra': <Longitude 84.65258608 deg>,\n",
       " 'current_dec': <Latitude -10. deg>,\n",
       " 'timestamp': <Time object: scale='utc' format='datetime' value=2018-08-09 11:02:54.924719>,\n",
       " 'tracking_rate_ra': 1.0,\n",
       " 'state': 'Parked'}"
      ]
     },
     "execution_count": 19,
     "metadata": {},
     "output_type": "execute_result"
    }
   ],
   "source": [
    "mount.status()"
   ]
  },
  {
   "cell_type": "markdown",
   "metadata": {},
   "source": [
    "Note that we can also check the status on our `pocs` instance, which will recursively call `status` for all the objects in knows about. Again, this will also include target information as appropriate."
   ]
  },
  {
   "cell_type": "code",
   "execution_count": 20,
   "metadata": {},
   "outputs": [
    {
     "data": {
      "text/plain": [
       "{'state': 'sleeping',\n",
       " 'system': {'free_space': 13.229215744000001},\n",
       " 'observatory': {'mount': {'tracking_rate': '1.0000',\n",
       "   'ra_guide_rate': 0.5,\n",
       "   'dec_guide_rate': 0.5,\n",
       "   'movement_speed': '',\n",
       "   'current_ra': <Longitude 84.65258608 deg>,\n",
       "   'current_dec': <Latitude -10. deg>,\n",
       "   'timestamp': <Time object: scale='utc' format='datetime' value=2018-08-09 11:02:54.971165>,\n",
       "   'tracking_rate_ra': 1.0,\n",
       "   'state': 'Parked',\n",
       "   'current_ha': <Longitude 12.67209515 hourangle>},\n",
       "  'observer': {'siderealtime': '18h18m56.6533s',\n",
       "   'utctime': <Time object: scale='utc' format='datetime' value=2018-08-09 11:02:54.965991>,\n",
       "   'localtime': '2018-08-09 21:02:54',\n",
       "   'local_evening_astro_time': <Time object: scale='utc' format='jd' value=2458340.8660200317>,\n",
       "   'local_morning_astro_time': <Time object: scale='utc' format='jd' value=2458340.3022840945>,\n",
       "   'local_sun_set_time': <Time object: scale='utc' format='jd' value=2458339.8036932736>,\n",
       "   'local_sun_rise_time': <Time object: scale='utc' format='jd' value=2458340.3640922136>,\n",
       "   'local_moon_alt': <Latitude -71.07835706 deg>,\n",
       "   'local_moon_illumination': 0.05747221946186487,\n",
       "   'local_moon_phase': <Quantity 2.65740969 rad>}}}"
      ]
     },
     "execution_count": 20,
     "metadata": {},
     "output_type": "execute_result"
    }
   ],
   "source": [
    "pocs.status()"
   ]
  },
  {
   "cell_type": "markdown",
   "metadata": {},
   "source": [
    "### Slew to position, take images\n",
    "\n",
    "We want to give the mount a valid target, have it slew to and acquire target, then take an image with the cameras.\n",
    "\n",
    "Here we create a target from a set of AltAz coordinates. Normally the targets are specifcied in an external targets file and the `pocs.observatory.get_observation` method is responsible for running the scheduler to detremine the most appropriate object."
   ]
  },
  {
   "cell_type": "code",
   "execution_count": 21,
   "metadata": {},
   "outputs": [],
   "source": [
    "from pocs.utils import altaz_to_radec\n",
    "from pocs.utils import current_time"
   ]
  },
  {
   "cell_type": "code",
   "execution_count": 22,
   "metadata": {},
   "outputs": [
    {
     "data": {
      "text/plain": [
       "<SkyCoord (ICRS): (ra, dec) in deg\n",
       "    (298.09280778, -31.54299888)>"
      ]
     },
     "execution_count": 22,
     "metadata": {},
     "output_type": "execute_result"
    }
   ],
   "source": [
    "# Create a target for the given AltAz coordinates. To create AltAz we need to know where\n",
    "# on earth we are and at what time we are looking.\n",
    "\n",
    "alt = 70\n",
    "az = 90\n",
    "\n",
    "target = altaz_to_radec(\n",
    "    alt=alt, \n",
    "    az=az, \n",
    "    location=pocs.observatory.earth_location, \n",
    "    obstime=current_time()\n",
    ")\n",
    "\n",
    "target"
   ]
  },
  {
   "cell_type": "code",
   "execution_count": 23,
   "metadata": {},
   "outputs": [
    {
     "data": {
      "text/plain": [
       "True"
      ]
     },
     "execution_count": 23,
     "metadata": {},
     "output_type": "execute_result"
    }
   ],
   "source": [
    "# Make sure our mount is unparked\n",
    "mount.unpark()"
   ]
  },
  {
   "cell_type": "code",
   "execution_count": 24,
   "metadata": {},
   "outputs": [
    {
     "data": {
      "text/plain": [
       "True"
      ]
     },
     "execution_count": 24,
     "metadata": {},
     "output_type": "execute_result"
    }
   ],
   "source": [
    "mount.set_target_coordinates(target)"
   ]
  },
  {
   "cell_type": "code",
   "execution_count": 25,
   "metadata": {},
   "outputs": [
    {
     "data": {
      "text/plain": [
       "True"
      ]
     },
     "execution_count": 25,
     "metadata": {},
     "output_type": "execute_result"
    }
   ],
   "source": [
    "mount.slew_to_target()"
   ]
  },
  {
   "cell_type": "code",
   "execution_count": 26,
   "metadata": {},
   "outputs": [
    {
     "data": {
      "text/plain": [
       "True"
      ]
     },
     "execution_count": 26,
     "metadata": {},
     "output_type": "execute_result"
    }
   ],
   "source": [
    "mount.is_tracking"
   ]
  },
  {
   "cell_type": "code",
   "execution_count": 27,
   "metadata": {},
   "outputs": [],
   "source": [
    "# Track when camera is done exposing\n",
    "camera_events = dict()\n",
    "\n",
    "# Take exposure with each camera\n",
    "for cam_name, camera in pocs.observatory.cameras.items():\n",
    "\n",
    "    try:\n",
    "        # Start the exposures\n",
    "        cam_event = camera.take_exposure(\n",
    "            seconds=2,\n",
    "            filename='/var/panoptes/images/temp/test_pic_{}.cr2'.format(cam_name)\n",
    "        )\n",
    "\n",
    "        # Store the camera event\n",
    "        camera_events[cam_name] = cam_event\n",
    "    except Exception as e:\n",
    "        print(\"Problem waiting for images: {}\".format(e))        "
   ]
  },
  {
   "cell_type": "code",
   "execution_count": 28,
   "metadata": {},
   "outputs": [
    {
     "data": {
      "text/plain": [
       "{'Cam00': <threading.Event at 0x7f2b28892b38>,\n",
       " 'Cam01': <threading.Event at 0x7f2b288a4d68>}"
      ]
     },
     "execution_count": 28,
     "metadata": {},
     "output_type": "execute_result"
    }
   ],
   "source": [
    "# See our stored events\n",
    "camera_events"
   ]
  },
  {
   "cell_type": "code",
   "execution_count": 29,
   "metadata": {},
   "outputs": [
    {
     "data": {
      "text/plain": [
       "False"
      ]
     },
     "execution_count": 29,
     "metadata": {},
     "output_type": "execute_result"
    }
   ],
   "source": [
    "# We can check if the event is complete\n",
    "camera_events['Cam00'].is_set()"
   ]
  },
  {
   "cell_type": "markdown",
   "metadata": {},
   "source": [
    "Now let's very we got a picture by making a jpg. _(Note: the camera simulator won't actually take picture so you will just get an image of a timestamp)._"
   ]
  },
  {
   "cell_type": "code",
   "execution_count": 30,
   "metadata": {},
   "outputs": [],
   "source": [
    "# Show images in the notebook\n",
    "from IPython.display import Image as ShowImage\n",
    "from IPython.display import display\n",
    "\n",
    "from pocs.utils.images import make_pretty_image"
   ]
  },
  {
   "cell_type": "code",
   "execution_count": 31,
   "metadata": {},
   "outputs": [
    {
     "data": {
      "image/jpeg": "[encoded data removed]",
      "text/plain": [
       "<IPython.core.display.Image object>"
      ]
     },
     "metadata": {
      "image/jpeg": {
       "width": 500
      }
     },
     "output_type": "display_data"
    },
    {
     "data": {
      "image/jpeg": "[encoded data removed]",
      "text/plain": [
       "<IPython.core.display.Image object>"
      ]
     },
     "metadata": {
      "image/jpeg": {
       "width": 500
      }
     },
     "output_type": "display_data"
    }
   ],
   "source": [
    "# Turn it into a pretty image\n",
    "for cam_name in pocs.observatory.cameras.keys():\n",
    "    jpg_fn = make_pretty_image('/var/panoptes/images/temp/test_pic_{}.cr2'.format(cam_name))\n",
    "    display(ShowImage(jpg_fn, width=500))"
   ]
  },
  {
   "cell_type": "markdown",
   "metadata": {},
   "source": [
    "<a id=\"manual\"></a>\n",
    "## Manual `Observation`\n",
    "\n",
    "POCS doesn't usually work directly with targets but instead creates an `Observation`. This object has coordinates (the `target` above is just a set of coordinates) as well as information about the exposures, including the exposure time, the minimum number of exposures needed, the observation's priority, etc."
   ]
  },
  {
   "cell_type": "code",
   "execution_count": 32,
   "metadata": {},
   "outputs": [
    {
     "name": "stdout",
     "output_type": "stream",
     "text": [
      "Kepler 1100: 120.0 s exposures in blocks of 10, minimum 60, priority 125\n",
      "KIC 8462852: 120.0 s exposures in blocks of 10, minimum 60, priority 200\n",
      "HD 23630: 120.0 s exposures in blocks of 10, minimum 60, priority 100\n",
      "HD 189733: 100.0 s exposures in blocks of 10, minimum 60, priority 105\n",
      "HD 209458: 120.0 s exposures in blocks of 10, minimum 60, priority 100\n",
      "Wasp 140: 120.0 s exposures in blocks of 10, minimum 60, priority 100\n",
      "Wasp 104: 120.0 s exposures in blocks of 10, minimum 60, priority 100\n",
      "Wasp 44: 120.0 s exposures in blocks of 10, minimum 60, priority 100\n",
      "Wasp 2: 120.0 s exposures in blocks of 10, minimum 60, priority 100\n",
      "Wasp 24: 120.0 s exposures in blocks of 10, minimum 60, priority 100\n",
      "Wasp 77: 120.0 s exposures in blocks of 10, minimum 60, priority 100\n",
      "Wasp 33: 120.0 s exposures in blocks of 10, minimum 60, priority 100\n",
      "Wasp 43: 120.0 s exposures in blocks of 10, minimum 60, priority 100\n",
      "Wasp 36: 120.0 s exposures in blocks of 10, minimum 60, priority 100\n",
      "Wasp 11: 120.0 s exposures in blocks of 10, minimum 60, priority 100\n",
      "Wasp 35: 120.0 s exposures in blocks of 10, minimum 60, priority 100\n",
      "HAT-P-20: 120.0 s exposures in blocks of 10, minimum 60, priority 100\n",
      "Qatar-1: 120.0 s exposures in blocks of 10, minimum 60, priority 100\n",
      "Qatar-2: 120.0 s exposures in blocks of 10, minimum 60, priority 100\n",
      "Tres 3: 120.0 s exposures in blocks of 10, minimum 60, priority 100\n",
      "EPIC-211089792: 120.0 s exposures in blocks of 10, minimum 60, priority 100\n",
      "HAT-P-1: 120.0 s exposures in blocks of 10, minimum 60, priority 100\n",
      "HAT-P-12: 120.0 s exposures in blocks of 10, minimum 60, priority 100\n",
      "HAT-P-30: 120.0 s exposures in blocks of 10, minimum 60, priority 100\n",
      "HAT-P-36: 120.0 s exposures in blocks of 10, minimum 60, priority 100\n",
      "HAT-P-37: 120.0 s exposures in blocks of 10, minimum 60, priority 100\n",
      "M42: 120.0 s exposures in blocks of 5, minimum 10, priority 75\n",
      "M44: 120.0 s exposures in blocks of 10, minimum 60, priority 50\n",
      "M45: 120.0 s exposures in blocks of 10, minimum 60, priority 50\n",
      "M5: 120.0 s exposures in blocks of 10, minimum 60, priority 50\n",
      "CoRoT-18: 120.0 s exposures in blocks of 10, minimum 60, priority 100\n"
     ]
    }
   ],
   "source": [
    "# Show the observations\n",
    "for name, obs in pocs.observatory.scheduler.observations.items():\n",
    "    print(obs)"
   ]
  },
  {
   "cell_type": "markdown",
   "metadata": {},
   "source": [
    "### Schedule\n",
    "\n",
    "We can set the current exposure. Normally this would be done by the scheduler, which would take into account the `priority`, the sky location, proximity to moon, etc. The `Observatory` itself does not restrict what `Observation` can be set and it is the job of the scheduler to check for ideal conditions. However, the mount will refuse to move to coordinates below the horizon.\n",
    "\n",
    "> If you are running this notebook in the daytime and want to actually go to a target, change the below to a target that is up (at least 30° above horizon) and make sure to include the `night` simulator when constructing the `Observatory` object, i.e.: `Observatory(simulator=['night', 'weather'])`.\n",
    "\n",
    "> It is your job to make sure it is not pointing at the Sun or raining or something else harmful. Remember, you are the \"brains\" while running this notebook."
   ]
  },
  {
   "cell_type": "code",
   "execution_count": 33,
   "metadata": {},
   "outputs": [],
   "source": [
    "# Get one observation\n",
    "observation = pocs.observatory.scheduler.observations['HD 189733']"
   ]
  },
  {
   "cell_type": "code",
   "execution_count": 34,
   "metadata": {},
   "outputs": [
    {
     "data": {
      "text/plain": [
       "{'current_exp': 0,\n",
       " 'dec_mnt': 22.710852777777777,\n",
       " 'equinox': 'J2000.000',\n",
       " 'exp_set_size': 10,\n",
       " 'exp_time': 100.0,\n",
       " 'field_dec': 22.710852777777777,\n",
       " 'field_name': 'HD 189733',\n",
       " 'field_ra': 300.18213749999995,\n",
       " 'merit': 0.0,\n",
       " 'min_nexp': 60,\n",
       " 'minimum_duration': 6000.0,\n",
       " 'priority': 105.0,\n",
       " 'ra_mnt': 300.18213749999995,\n",
       " 'seq_time': None,\n",
       " 'set_duration': 1000.0}"
      ]
     },
     "execution_count": 34,
     "metadata": {},
     "output_type": "execute_result"
    }
   ],
   "source": [
    "# Show observation status - some of these values change with time, some don't\n",
    "observation.status()"
   ]
  },
  {
   "cell_type": "code",
   "execution_count": 35,
   "metadata": {},
   "outputs": [],
   "source": [
    "# Set the current observation - also sets the mount\n",
    "pocs.observatory.current_observation = observation"
   ]
  },
  {
   "cell_type": "code",
   "execution_count": 36,
   "metadata": {},
   "outputs": [
    {
     "data": {
      "text/plain": [
       "True"
      ]
     },
     "execution_count": 36,
     "metadata": {},
     "output_type": "execute_result"
    }
   ],
   "source": [
    "# Check we have target set\n",
    "mount.has_target"
   ]
  },
  {
   "cell_type": "markdown",
   "metadata": {},
   "source": [
    "### Slew"
   ]
  },
  {
   "cell_type": "code",
   "execution_count": 37,
   "metadata": {},
   "outputs": [
    {
     "data": {
      "text/plain": [
       "True"
      ]
     },
     "execution_count": 37,
     "metadata": {},
     "output_type": "execute_result"
    }
   ],
   "source": [
    "# Make sure we are unparked\n",
    "mount.unpark()"
   ]
  },
  {
   "cell_type": "code",
   "execution_count": 38,
   "metadata": {},
   "outputs": [
    {
     "data": {
      "text/plain": [
       "True"
      ]
     },
     "execution_count": 38,
     "metadata": {},
     "output_type": "execute_result"
    }
   ],
   "source": [
    "# Slew to our target\n",
    "mount.slew_to_target()"
   ]
  },
  {
   "cell_type": "markdown",
   "metadata": {},
   "source": [
    "### Check pointing\n",
    "\n",
    "Before we start normal observations, we take a 30 second image in order to check if the mount is pointed at the coordinates we expect.\n",
    "\n",
    "> Note: Currently all of the logic to do a pointing image is in the `pointing` state. Ideally this will be moved into the `Observatory` object so we have a high-level method, i.e. `pocs.observatory.take_pointing_image()`, that would take care of all of this for us. See the `observe()` and `analyze_recent()` examples below. In the future this may change. However here it is still a good example of how to use some of the code:"
   ]
  },
  {
   "cell_type": "markdown",
   "metadata": {},
   "source": [
    "#### Setup pointing image"
   ]
  },
  {
   "cell_type": "code",
   "execution_count": 39,
   "metadata": {},
   "outputs": [
    {
     "data": {
      "text/plain": [
       "{'airmass': 2.101390579354788,\n",
       " 'creator': 'POCSv0.6.0',\n",
       " 'elevation': 100.0,\n",
       " 'ha_mnt': 22.304145565902168,\n",
       " 'latitude': -33.7738,\n",
       " 'longitude': 151.1126,\n",
       " 'moon_fraction': 0.05747058287772033,\n",
       " 'moon_separation': 42.82503471342596,\n",
       " 'observer': 'BigMac',\n",
       " 'origin': 'Project PANOPTES',\n",
       " 'tracking_rate_ra': 1.0,\n",
       " 'current_exp': 0,\n",
       " 'dec_mnt': 22.710852777777777,\n",
       " 'equinox': 2000.0,\n",
       " 'exp_set_size': 10,\n",
       " 'exp_time': 100.0,\n",
       " 'field_dec': 22.710852777777777,\n",
       " 'field_name': 'HD 189733',\n",
       " 'field_ra': 300.18213749999995,\n",
       " 'merit': 0.0,\n",
       " 'min_nexp': 60,\n",
       " 'minimum_duration': 6000.0,\n",
       " 'priority': 105.0,\n",
       " 'ra_mnt': 300.18213749999995,\n",
       " 'seq_time': '20180809T110257',\n",
       " 'set_duration': 1000.0,\n",
       " 'POINTING': 'True'}"
      ]
     },
     "execution_count": 39,
     "metadata": {},
     "output_type": "execute_result"
    }
   ],
   "source": [
    "observation = pocs.observatory.current_observation\n",
    "\n",
    "# Same FITS headers as current observation\n",
    "fits_headers = pocs.observatory.get_standard_headers(\n",
    "    observation=observation\n",
    ")\n",
    "fits_headers['POINTING'] = 'True'\n",
    "fits_headers"
   ]
  },
  {
   "cell_type": "markdown",
   "metadata": {},
   "source": [
    "#### Take picture"
   ]
  },
  {
   "cell_type": "code",
   "execution_count": 40,
   "metadata": {},
   "outputs": [
    {
     "name": "stdout",
     "output_type": "stream",
     "text": [
      "Waiting for images: 0.0 seconds\n"
     ]
    }
   ],
   "source": [
    "import time\n",
    "\n",
    "# Take an image with the primary camera\n",
    "try:\n",
    "    # Start the exposures\n",
    "    camera_event = pocs.observatory.primary_camera.take_observation(\n",
    "        observation,\n",
    "        fits_headers,\n",
    "        exp_time=30.,\n",
    "        filename='pointing00'\n",
    "    )\n",
    "except Exception as e:\n",
    "    print(\"Problem: \", e)\n",
    "    \n",
    "# Wait for the image\n",
    "wait_time_elapsed = 0.\n",
    "timeout = 35.\n",
    "wait_interval = 3.\n",
    "while camera_event.is_set() is False:\n",
    "    \n",
    "    print('Waiting for images: {} seconds'.format(wait_time_elapsed))\n",
    "\n",
    "    if wait_time_elapsed > timeout:\n",
    "        raise error.Timeout(\"Timeout waiting for pointing image\")\n",
    "\n",
    "    time.sleep(wait_interval)\n",
    "    wait_time_elapsed += wait_interval"
   ]
  },
  {
   "cell_type": "markdown",
   "metadata": {},
   "source": [
    "#### Plate-solve"
   ]
  },
  {
   "cell_type": "code",
   "execution_count": 41,
   "metadata": {},
   "outputs": [
    {
     "name": "stdout",
     "output_type": "stream",
     "text": [
      "Pointing Coords:  <SkyCoord (ICRS): (ra, dec) in deg\n",
      "    (303.20188114, 46.0172759)>\n",
      "Pointing Error:  OffsetError(delta_ra=<Angle 5894.968104 arcsec>, delta_dec=<Angle 5617.44322776 arcsec>, magnitude=<Angle 6984.43269828 arcsec>)\n"
     ]
    }
   ],
   "source": [
    "from pocs.images import Image as PocsImage\n",
    "\n",
    "# Get information about the last exposure, which was the pointing image we just took\n",
    "pointing_id, pointing_path = pocs.observatory.current_observation.last_exposure\n",
    "\n",
    "# Create an Image object\n",
    "pointing_image = PocsImage(\n",
    "    pointing_path,\n",
    "    location=pocs.observatory.earth_location\n",
    ")\n",
    "\n",
    "# Do the plate-solving\n",
    "pointing_image.solve_field()\n",
    "\n",
    "# Set this as our pointing image. This is used as a reference for tracking\n",
    "observation.pointing_image = pointing_image\n",
    "\n",
    "print(\"Pointing Coords: \", pointing_image.pointing)\n",
    "print(\"Pointing Error: \", pointing_image.pointing_error)"
   ]
  },
  {
   "cell_type": "markdown",
   "metadata": {},
   "source": [
    "#### Take observation images \n",
    "Since we set `pocs.observatory.current_observation`, that means we are ready to simply `observe`. \n",
    "\n",
    "If you want to change the exposure time you can uncomment the next lines."
   ]
  },
  {
   "cell_type": "code",
   "execution_count": 42,
   "metadata": {},
   "outputs": [],
   "source": [
    "# from astropy import units as u\n",
    "# pocs.observatory.current_observation.exp_time = 10 * u.second"
   ]
  },
  {
   "cell_type": "code",
   "execution_count": 43,
   "metadata": {},
   "outputs": [
    {
     "name": "stdout",
     "output_type": "stream",
     "text": [
      "Waiting for images: 0.0 seconds\n"
     ]
    }
   ],
   "source": [
    "import time\n",
    "\n",
    "# Observe - capture the camera events\n",
    "camera_events = pocs.observatory.observe()\n",
    "\n",
    "wait_time_elapsed = 0.\n",
    "wait_interval = 5.\n",
    "timeout = pocs.observatory.current_observation.exp_time.value + 10\n",
    "\n",
    "# Wait for cameras to finish exposing\n",
    "while not all([event.is_set() for event in camera_events.values()]):\n",
    "\n",
    "    print('Waiting for images: {} seconds'.format(wait_time_elapsed))\n",
    "\n",
    "    # Don't wait forever if something is going wrong\n",
    "    if wait_time_elapsed > timeout:\n",
    "        raise error.Timeout\n",
    "\n",
    "    time.sleep(wait_interval)\n",
    "    wait_time_elapsed += wait_interval"
   ]
  },
  {
   "cell_type": "markdown",
   "metadata": {},
   "source": [
    "#### Analyze images\n",
    "\n",
    "We can also simply instruct the `Observatory` to `analyze_recent()`. This will take care of making the pretty image, converting the raw image to FITS, and plate-solving the FITS file for the primary camera (usually just the first camera but can be set in the config)."
   ]
  },
  {
   "cell_type": "code",
   "execution_count": 44,
   "metadata": {},
   "outputs": [
    {
     "data": {
      "text/plain": [
       "OffsetError(delta_ra=<Angle 0. arcsec>, delta_dec=<Angle 0. arcsec>, magnitude=<Angle 0. arcsec>)"
      ]
     },
     "execution_count": 44,
     "metadata": {},
     "output_type": "execute_result"
    }
   ],
   "source": [
    "offset_info = pocs.observatory.analyze_recent()\n",
    "offset_info"
   ]
  },
  {
   "cell_type": "code",
   "execution_count": 45,
   "metadata": {},
   "outputs": [
    {
     "name": "stdout",
     "output_type": "stream",
     "text": [
      "BigMac_SC8254_20180809T110258 /var/panoptes//images/fields/Hd189733/SC8254/20180809T110257//pointing00.fits\n",
      "BigMac_SC8254_20180809T110304 /var/panoptes//images/fields/Hd189733/SC8254/20180809T110257//20180809T110304.fits\n"
     ]
    }
   ],
   "source": [
    "# Check the exposure list\n",
    "for img_id, img_path in pocs.observatory.current_observation.exposure_list.items():\n",
    "    print(img_id, img_path)"
   ]
  },
  {
   "cell_type": "code",
   "execution_count": 46,
   "metadata": {},
   "outputs": [
    {
     "data": {
      "image/jpeg": "[encoded data removed]",
      "text/plain": [
       "<IPython.core.display.Image object>"
      ]
     },
     "metadata": {
      "image/jpeg": {
       "width": 500
      }
     },
     "output_type": "display_data"
    }
   ],
   "source": [
    "recent_image_path = list(pocs.observatory.current_observation.exposure_list.values())[-1]\n",
    "display(ShowImage(recent_image_path.replace('.fits', '.jpg'), width=500))"
   ]
  },
  {
   "cell_type": "markdown",
   "metadata": {},
   "source": [
    "#### Tracking adjustment\n",
    "\n",
    "With the offset info above we can instruct the mount to do a tracking correction.\n",
    "\n",
    "> Note: Unfortunately this doesn't return a success variable currently. Keep checking the logs for output during long running operations."
   ]
  },
  {
   "cell_type": "code",
   "execution_count": 47,
   "metadata": {},
   "outputs": [],
   "source": [
    "# Perform tracking update\n",
    "pocs.observatory.update_tracking()"
   ]
  },
  {
   "cell_type": "markdown",
   "metadata": {},
   "source": [
    "#### Wash, rinse, repeat\n",
    "\n",
    "The POCS state machine would continue to go through a `observe`->`analyze_recent`->`update-tracking` loop for `pocs.observatory.current_observation.min_nexp` times. At that point it would call the scheduler again. The scheduler will optimally choose to stay on this save field, taking `pocs.observatory.current_observation.exp_set_size` images each time before calling the scheduler again."
   ]
  },
  {
   "cell_type": "code",
   "execution_count": 48,
   "metadata": {},
   "outputs": [
    {
     "data": {
      "text/plain": [
       "{'state': 'sleeping',\n",
       " 'system': {'free_space': 13.226127360000001},\n",
       " 'observatory': {'mount': {'tracking_rate': '1.0000',\n",
       "   'ra_guide_rate': 0.5,\n",
       "   'dec_guide_rate': 0.5,\n",
       "   'movement_speed': '',\n",
       "   'current_ra': <Longitude 298.09280778 deg>,\n",
       "   'current_dec': <Latitude -31.54299888 deg>,\n",
       "   'mount_target_ra': <Longitude 298.09280778 deg>,\n",
       "   'mount_target_dec': <Latitude -31.54299888 deg>,\n",
       "   'timestamp': <Time object: scale='utc' format='datetime' value=2018-08-09 11:03:12.632679>,\n",
       "   'tracking_rate_ra': 1.0,\n",
       "   'state': 'Tracking',\n",
       "   'current_ha': <Longitude 22.4476662 hourangle>,\n",
       "   'mount_target_ha': <Longitude 22.4476662 hourangle>},\n",
       "  'observation': {'current_exp': 0,\n",
       "   'dec_mnt': 22.710852777777777,\n",
       "   'equinox': 'J2000.000',\n",
       "   'exp_set_size': 10,\n",
       "   'exp_time': 100.0,\n",
       "   'field_dec': 22.710852777777777,\n",
       "   'field_name': 'HD 189733',\n",
       "   'field_ra': 300.18213749999995,\n",
       "   'merit': 0.0,\n",
       "   'min_nexp': 60,\n",
       "   'minimum_duration': 6000.0,\n",
       "   'priority': 105.0,\n",
       "   'ra_mnt': 300.18213749999995,\n",
       "   'seq_time': '20180809T110257',\n",
       "   'set_duration': 1000.0,\n",
       "   'field_ha': <Longitude 22.30837756 hourangle>},\n",
       "  'observer': {'siderealtime': '18h19m14.3066s',\n",
       "   'utctime': <Time object: scale='utc' format='datetime' value=2018-08-09 11:03:12.626642>,\n",
       "   'localtime': '2018-08-09 21:03:12',\n",
       "   'local_evening_astro_time': <Time object: scale='utc' format='jd' value=2458340.866019785>,\n",
       "   'local_morning_astro_time': <Time object: scale='utc' format='jd' value=2458340.302284328>,\n",
       "   'local_sun_set_time': <Time object: scale='utc' format='jd' value=2458339.8036930454>,\n",
       "   'local_sun_rise_time': <Time object: scale='utc' format='jd' value=2458340.364091616>,\n",
       "   'local_moon_alt': <Latitude -71.12276349 deg>,\n",
       "   'local_moon_illumination': 0.0574605044246444,\n",
       "   'local_moon_phase': <Quantity 2.65746002 rad>}}}"
      ]
     },
     "execution_count": 48,
     "metadata": {},
     "output_type": "execute_result"
    }
   ],
   "source": [
    "# Show our status\n",
    "pocs.status()"
   ]
  },
  {
   "cell_type": "markdown",
   "metadata": {},
   "source": [
    "#### Home and park"
   ]
  },
  {
   "cell_type": "code",
   "execution_count": 49,
   "metadata": {},
   "outputs": [],
   "source": [
    "# Now go back home\n",
    "pocs.observatory.mount.home_and_park()"
   ]
  },
  {
   "cell_type": "markdown",
   "metadata": {},
   "source": [
    "#### Cleanup\n",
    "\n",
    "\n",
    "The POCS state machine would also do some `housekeeping` after successfully parking. This involves compressing the FITS files, making a timelapse movie of the observations, and uploading the files to our google storage buckets. Finally, POCS would put itself to sleep during the day, checking safety conditions (day, weather) until it was safe again."
   ]
  }
 ],
 "metadata": {
  "anaconda-cloud": {},
  "kernelspec": {
   "display_name": "Python 3",
   "language": "python",
   "name": "python3"
  },
  "language_info": {
   "codemirror_mode": {
    "name": "ipython",
    "version": 3
   },
   "file_extension": ".py",
   "mimetype": "text/x-python",
   "name": "python",
   "nbconvert_exporter": "python",
   "pygments_lexer": "ipython3",
   "version": "3.6.6"
  }
 },
 "nbformat": 4,
 "nbformat_minor": 2
}
