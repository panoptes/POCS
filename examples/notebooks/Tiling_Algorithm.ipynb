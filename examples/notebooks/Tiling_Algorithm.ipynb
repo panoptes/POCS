{
 "cells": [
  {
   "cell_type": "markdown",
   "metadata": {},
   "source": [
    "# Tiling Algorithm"
   ]
  },
  {
   "cell_type": "markdown",
   "metadata": {},
   "source": [
    "Here is where I play with the tiling algorithm"
   ]
  },
  {
   "cell_type": "code",
   "execution_count": 1,
   "metadata": {
    "collapsed": false
   },
   "outputs": [],
   "source": [
    "%matplotlib inline"
   ]
  },
  {
   "cell_type": "code",
   "execution_count": 2,
   "metadata": {
    "collapsed": true
   },
   "outputs": [],
   "source": [
    "def get_redshift(cat):\n",
    "    \n",
    "    z = (u.Quantity(cat['cz']) / c.c).to(u.dimensionless_unscaled)\n",
    "    MK = cat['Ktmag'] - cosmo.distmod(z)\n",
    "    \n",
    "    return z"
   ]
  },
  {
   "cell_type": "markdown",
   "metadata": {},
   "source": [
    "We can find samples here: https://dcc.ligo.org/P1500071/public"
   ]
  },
  {
   "cell_type": "code",
   "execution_count": 4,
   "metadata": {
    "collapsed": false
   },
   "outputs": [
    {
     "name": "stderr",
     "output_type": "stream",
     "text": [
      "/home/bernie/miniconda3/lib/python3.5/site-packages/scipy/integrate/quadpack.py:356: IntegrationWarning: The occurrence of roundoff error is detected, which prevents \n",
      "  the requested tolerance from being achieved.  The error may be \n",
      "  underestimated.\n",
      "  warnings.warn(msg, IntegrationWarning)\n",
      "/home/bernie/miniconda3/lib/python3.5/site-packages/numpy/lib/function_base.py:2287: RuntimeWarning: invalid value encountered in ? (vectorized)\n",
      "  outputs = ufunc(*inputs)\n",
      "/home/bernie/miniconda3/lib/python3.5/site-packages/astropy/cosmology/core.py:1414: RuntimeWarning: divide by zero encountered in log10\n",
      "  val = 5. * np.log10(abs(self.luminosity_distance(z).value)) + 25.0\n"
     ]
    },
    {
     "name": "stdout",
     "output_type": "stream",
     "text": [
      "NSIDE = 512\n",
      "ORDERING = NESTED in fits file\n",
      "INDXSCHM = IMPLICIT\n",
      "Ordering converted to RING\n",
      "Ordering converted to RING\n",
      "Ordering converted to RING\n",
      "Ordering converted to RING\n",
      "3145728\n"
     ]
    },
    {
     "data": {
      "text/plain": [
       "3.994741635118857e-06"
      ]
     },
     "execution_count": 4,
     "metadata": {},
     "output_type": "execute_result"
    }
   ],
   "source": [
    "import healpy as hp\n",
    "import numpy as np\n",
    "from matplotlib import pyplot as plt\n",
    "from scipy.stats import norm\n",
    "\n",
    "from matplotlib import pyplot as plt\n",
    "from astropy.cosmology import WMAP9 as cosmo\n",
    "from astropy.table import Column\n",
    "import astropy.units as u\n",
    "import astropy.constants as c\n",
    "from matplotlib import colors\n",
    "import math as m\n",
    "import numpy as np\n",
    "\n",
    "from astropy.coordinates import EarthLocation\n",
    "from pytz import timezone\n",
    "from astroplan import Observer\n",
    "from astropy.time import Time\n",
    "import datetime\n",
    "\n",
    "from astroquery.skyview import SkyView\n",
    "from astropy.coordinates import SkyCoord\n",
    "from astroquery.irsa_dust import IrsaDust\n",
    "from astropy.io import fits as pyfits\n",
    "import glob\n",
    "#!pip install aplpy\n",
    "#import aplpy\n",
    "\n",
    "from astropy.utils.data import download_file\n",
    "\n",
    "url = ('https://dcc.ligo.org/P1500071/public/10202_bayestar.fits.gz')\n",
    "filename = download_file(url, cache=True)\n",
    "\n",
    "from astroquery.vizier import Vizier\n",
    "\n",
    "Vizier.ROW_LIMIT = -1\n",
    "cat, = Vizier.get_catalogs('J/ApJS/199/26/table3')\n",
    "len(cat)\n",
    "\n",
    "z = get_redshift(cat)\n",
    "\n",
    "#prob = hp.read_map(filename)\n",
    "\n",
    "#prob, distmu, distsigma, distnorm = hp.read_map(filename, field=[0, 1, 2, 3])\n",
    "\n",
    "prob, distmu, distsigma, distnorm = hp.read_map(filename, field=range(4))\n",
    "\n",
    "npix = len(prob)\n",
    "print(npix)\n",
    "nside = hp.npix2nside(npix)\n",
    "pixarea = hp.nside2pixarea(nside)\n",
    "pixarea"
   ]
  },
  {
   "cell_type": "code",
   "execution_count": 5,
   "metadata": {
    "collapsed": false
   },
   "outputs": [
    {
     "name": "stdout",
     "output_type": "stream",
     "text": [
      "<class 'astropy.table.table.Table'>\n"
     ]
    }
   ],
   "source": [
    "cat_now = cat\n",
    "print(type(cat))"
   ]
  },
  {
   "cell_type": "code",
   "execution_count": 6,
   "metadata": {
    "collapsed": false
   },
   "outputs": [
    {
     "name": "stderr",
     "output_type": "stream",
     "text": [
      "/home/bernie/miniconda3/lib/python3.5/site-packages/scipy/integrate/quadpack.py:356: IntegrationWarning: The occurrence of roundoff error is detected, which prevents \n",
      "  the requested tolerance from being achieved.  The error may be \n",
      "  underestimated.\n",
      "  warnings.warn(msg, IntegrationWarning)\n",
      "/home/bernie/miniconda3/lib/python3.5/site-packages/numpy/lib/function_base.py:2287: RuntimeWarning: invalid value encountered in ? (vectorized)\n",
      "  outputs = ufunc(*inputs)\n"
     ]
    }
   ],
   "source": [
    "r = cosmo.luminosity_distance(z).to('Mpc').value\n",
    "theta = 0.5*np.pi - cat_now['_DEJ2000'].to('rad').value\n",
    "phi = cat_now['_RAJ2000'].to('rad').value\n",
    "ipix = hp.ang2pix(nside, theta, phi)"
   ]
  },
  {
   "cell_type": "code",
   "execution_count": 7,
   "metadata": {
    "collapsed": false
   },
   "outputs": [
    {
     "name": "stderr",
     "output_type": "stream",
     "text": [
      "/home/bernie/miniconda3/lib/python3.5/site-packages/scipy/stats/_distn_infrastructure.py:872: RuntimeWarning: invalid value encountered in greater_equal\n",
      "  return (self.a <= x) & (x <= self.b)\n",
      "/home/bernie/miniconda3/lib/python3.5/site-packages/scipy/stats/_distn_infrastructure.py:872: RuntimeWarning: invalid value encountered in less_equal\n",
      "  return (self.a <= x) & (x <= self.b)\n"
     ]
    }
   ],
   "source": [
    "dp_dV = prob[ipix]*distnorm[ipix]*norm(distmu[ipix], distsigma[ipix]).pdf(r) / pixarea"
   ]
  },
  {
   "cell_type": "code",
   "execution_count": 8,
   "metadata": {
    "collapsed": false
   },
   "outputs": [
    {
     "name": "stderr",
     "output_type": "stream",
     "text": [
      "/home/bernie/miniconda3/lib/python3.5/site-packages/ipykernel/__main__.py:1: RuntimeWarning: invalid value encountered in greater_equal\n",
      "  if __name__ == '__main__':\n",
      "/home/bernie/miniconda3/lib/python3.5/site-packages/ipykernel/__main__.py:1: RuntimeWarning: invalid value encountered in less_equal\n",
      "  if __name__ == '__main__':\n"
     ]
    }
   ],
   "source": [
    "cands = cat_now[(dp_dV >= np.nanpercentile(dp_dV,95)) & (r <= 50.0)]\n"
   ]
  },
  {
   "cell_type": "code",
   "execution_count": 9,
   "metadata": {
    "collapsed": false
   },
   "outputs": [
    {
     "name": "stdout",
     "output_type": "stream",
     "text": [
      "602\n"
     ]
    }
   ],
   "source": [
    "print(len(cands))"
   ]
  },
  {
   "cell_type": "code",
   "execution_count": null,
   "metadata": {
    "collapsed": false
   },
   "outputs": [],
   "source": [
    "cands['ID'][0]"
   ]
  },
  {
   "cell_type": "code",
   "execution_count": null,
   "metadata": {
    "collapsed": false
   },
   "outputs": [],
   "source": [
    "def isnt_in(coords, covered_coords):\n",
    "    isnt_in = True\n",
    "    if len(covered_coords) > 0:\n",
    "        for cov_cord in covered_coords:\n",
    "            if abs(coords[0]-cov_cord[0]) <= 5.0 and abs(coords[1]-cov_cord[1]) <= 5.0:\n",
    "                isnt_in = False\n",
    "\n",
    "    return isnt_in"
   ]
  },
  {
   "cell_type": "code",
   "execution_count": null,
   "metadata": {
    "collapsed": false
   },
   "outputs": [],
   "source": [
    "\n",
    "def get_tile_cands(cands):\n",
    "    %%time\n",
    "    tile_cands = []\n",
    "    max_score = {}\n",
    "    max_score['score'] = []\n",
    "    max_score['coords'] = []\n",
    "    ra_corr = cands['_RAJ2000']*np.cos(np.radians(cands['_DEJ2000']))\n",
    "    k = 0\n",
    "    foo = True\n",
    "    for cand in cands:\n",
    "        #if foo == True:\n",
    "            if k%100 == 0:\n",
    "                print('indexing... ' + str(k))\n",
    "\n",
    "            ra = cand['_RAJ2000']\n",
    "            dec = cand['_DEJ2000']\n",
    "            coords = SkyCoord(ra, dec, frame='fk5', unit='deg')\n",
    "\n",
    "            # Top Left\n",
    "            top_left = {}\n",
    "            top_left['name'] = 'Top Left on ' + str(cand['SimbadName'])\n",
    "            top_left['ra_min'] = np.float64((ra - 0.05)*np.cos(coords.dec.to('radian')))\n",
    "            top_left['ra_max'] = np.float64((ra + 2.55)*np.cos(coords.dec.to('radian')))\n",
    "            top_left['dec_max'] = np.float64(dec + 0.05)\n",
    "            top_left['dec_min'] = np.float64(dec - 1.95)\n",
    "            top_left['center_ra'] = 0.5*(top_left['ra_min'] + top_left['ra_max'])\n",
    "            top_left['center_dec'] = 0.5*(top_left['dec_min'] + top_left['dec_max'])\n",
    "\n",
    "            # Top Right\n",
    "            top_right = {}\n",
    "            top_right['name'] = 'Top Right on ' + str(cand['SimbadName'])\n",
    "            top_right['ra_max'] = np.float64((ra + 0.05)*np.cos(coords.dec.to('radian')))\n",
    "            top_right['ra_min'] = np.float64((ra - 2.55)*np.cos(coords.dec.to('radian')))\n",
    "            top_right['dec_max'] = top_left['dec_max']\n",
    "            top_right['dec_min'] = top_left['dec_min']\n",
    "            top_right['center_ra'] = 0.5*(top_right['ra_min'] + top_right['ra_max'])\n",
    "            top_right['center_dec'] = top_left['center_dec']\n",
    "\n",
    "            # Bottom Left\n",
    "            bottom_left = {}\n",
    "            bottom_left['name'] = 'Bottom Left on ' + str(cand['SimbadName'])\n",
    "            bottom_left['ra_min'] = top_left['ra_min']\n",
    "            bottom_left['ra_max'] = top_left['ra_max']\n",
    "            bottom_left['dec_min'] = np.float64(dec - 0.05)\n",
    "            bottom_left['dec_max'] = np.float64(dec + 1.95)\n",
    "            bottom_left['center_ra'] = top_left['center_ra']\n",
    "            bottom_left['center_dec'] = 0.5*(bottom_left['dec_min'] + bottom_left['dec_max'])\n",
    "\n",
    "            # Bottom Right\n",
    "            bottom_right = {}\n",
    "            bottom_right['name'] = 'Bottom Right on ' + str(cand['SimbadName'])\n",
    "            bottom_right['ra_max'] = top_right['ra_max']\n",
    "            bottom_right['ra_min'] = top_right['ra_min']\n",
    "            bottom_right['dec_min'] = bottom_left['dec_min']\n",
    "            bottom_right['dec_max'] = bottom_left['dec_max']\n",
    "            bottom_right['center_ra'] = top_right['center_ra']\n",
    "            bottom_right['center_dec'] = bottom_left['center_dec']\n",
    "\n",
    "            # Centered\n",
    "            centered = {}\n",
    "            centered['name'] = 'Centered on ' + str(cand['SimbadName'])\n",
    "            centered['ra_min'] = np.float64((ra - 1.3)*np.cos(coords.dec.to('radian')))\n",
    "            centered['ra_max'] = np.float64((ra + 1.3)*np.cos(coords.dec.to('radian')))\n",
    "            centered['dec_max'] = np.float64(dec + 1.0)\n",
    "            centered['dec_min'] = np.float64(dec - 1.0)\n",
    "            centered['center_ra'] = ra*np.cos(np.radians(dec))\n",
    "            centered['center_dec'] = dec\n",
    "\n",
    "            cords = [top_left,top_right,bottom_left,bottom_right,centered]\n",
    "\n",
    "            for cord in cords:\n",
    "                tile = {}\n",
    "                tile['gal_indexes'] = []\n",
    "                center_coords = SkyCoord(float(cord['center_ra']), float(cord['center_dec']), 'fk5', unit='deg')\n",
    "\n",
    "                tile['properties'] = {'name': cord['name'],\n",
    "                                      'coords': center_coords.to_string('hmsdms'),\n",
    "                                      'coords_num': [cord['center_ra'], cord['center_dec']],\n",
    "                                      'score': 0}\n",
    "\n",
    "                keep = (ra_corr<=cord['ra_max']) & (ra_corr>=cord['ra_min']) & (cands['_DEJ2000']<=cord['dec_max']) & (cands['_DEJ2000']>=cord['dec_min'])\n",
    "\n",
    "                cands2 = cands[keep]\n",
    "\n",
    "                tile['galaxies'] = []\n",
    "\n",
    "                for cand_k in cands2:\n",
    "\n",
    "\n",
    "                    cand_coords = SkyCoord(float(cand_k['_RAJ2000']*np.cos(np.radians(cand_k['_DEJ2000']))), float(cand_k['_DEJ2000']), frame='fk5', unit='deg')\n",
    "\n",
    "                    tile['galaxies'].append({'name': cand_k['SimbadName'],\n",
    "                                             'coords': cand_coords.to_string('hmsdms'),\n",
    "                                             'anything else': 'other stuff'})\n",
    "\n",
    "                    tile['gal_indexes'].append(cand_k['index'])\n",
    "\n",
    "                tile['properties']['score'] = len(tile['galaxies'])\n",
    "\n",
    "                if tile['properties']['score'] < 10:\n",
    "                    foo = False\n",
    "\n",
    "                #if tile['properties']['score'] >= max(max_score['score']):\n",
    "                tile_cands.append(tile)\n",
    "                max_score['score'].append(tile['properties']['score'])\n",
    "                #print('New max score: ', max(max_score['score']))\n",
    "                max_score['coords'].append(tile['properties']['coords_num'])\n",
    "\n",
    "            k = k+1\n",
    "        \n",
    "    return tile_cands, max_score"
   ]
  },
  {
   "cell_type": "code",
   "execution_count": null,
   "metadata": {
    "collapsed": true
   },
   "outputs": [],
   "source": [
    "def get_tiles(cands, tile_cands, max_score, tiles):\n",
    "    \n",
    "    appended = 0\n",
    "    \n",
    "    new_cands = cands\n",
    "    max_scores = np.array(max_score['score'])\n",
    "    len_max = len(max_scores[max_scores >= np.nanpercentile(max_scores, 98)])\n",
    "\n",
    "    scores = np.array(max_score['score'])\n",
    "    coords = np.array(max_score['coords'])\n",
    "    indexes = np.argsort(-scores)\n",
    "    scores = scores[indexes]\n",
    "    coords = coords[indexes]\n",
    "    tile_cands = np.array(tile_cands)\n",
    "    tile_cands = tile_cands[indexes]\n",
    "    \n",
    "    #if len_max >= 50:\n",
    "    #    sort = {'score': scores[:50], 'coords': coords[:50]}\n",
    "    #else:\n",
    "        \n",
    "    sort = {'score': scores[:len_max], 'coords': coords[:len_max]}\n",
    "\n",
    "    print(sort)\n",
    "    range_covered = []\n",
    "    gal_indexes = []\n",
    "    for j in range(len(tile_cands)):\n",
    "        if len(tiles) < 16:\n",
    "            tile = tile_cands[j]\n",
    "        #print(tile['properties'])\n",
    "            if tile['properties']['score'] in sort['score'] and isnt_in(tile['properties']['coords_num'], range_covered)==True:\n",
    "                appended = appended + 1\n",
    "                tiles.append(tile)\n",
    "                if len(tile['gal_indexes']) > 0:\n",
    "                    for ind in tile['gal_indexes']:\n",
    "                        if ind not in gal_indexes:\n",
    "                            gal_indexes.append(ind)\n",
    "            #print('Appended!')\n",
    "                range_covered.append(tile['properties']['coords_num'])\n",
    "\n",
    "            \n",
    "    galaxy_indexes = np.array(gal_indexes)\n",
    "    new_cands.remove_rows(galaxy_indexes[np.argsort(-galaxy_indexes)])\n",
    "\n",
    "    return new_cands"
   ]
  },
  {
   "cell_type": "code",
   "execution_count": null,
   "metadata": {
    "collapsed": true
   },
   "outputs": [],
   "source": [
    "def tile_sky(cands):\n",
    "    \n",
    "    cands = cat_now[(dp_dV >= np.nanpercentile(dp_dV,95)) & (r <= 50.0)]\n",
    "    cands = cands[cands['_DEJ2000'] <= 18.0]\n",
    "    \n",
    "    \n",
    "    \n",
    "    tiles = []\n",
    "    loop_cands = cands\n",
    "    one_to_n = np.arange(len(loop_cands))\n",
    "    idx = Column(name='index', data=one_to_n)\n",
    "    loop_cands.add_column(idx, index=0)\n",
    "    while len(tiles) < 16:\n",
    "        print(len(tiles))\n",
    "        print(str(len(loop_cands))+' candidates left')\n",
    "        \n",
    "        tile_cands, max_score = get_tile_cands(loop_cands)\n",
    "        \n",
    "        loop_cands = get_tiles(loop_cands, tile_cands, max_score, tiles)\n",
    "        \n",
    "        \n",
    "        \n",
    "        loop_cands.remove_column('index')\n",
    "        one_to_n = np.arange(len(loop_cands))\n",
    "        idx = Column(name='index', data=one_to_n)\n",
    "        loop_cands.add_column(idx, index=0)\n",
    "        \n",
    "    return tiles"
   ]
  },
  {
   "cell_type": "code",
   "execution_count": null,
   "metadata": {
    "collapsed": false
   },
   "outputs": [],
   "source": [
    "cands = cat_now[(dp_dV >= np.nanpercentile(dp_dV,95)) & (r <= 50.0)]\n",
    "\n",
    "cands = cands[cands['_DEJ2000'] <= 18.0]\n",
    "print(len(cands))\n",
    "len_cands = len(cands)\n",
    "\n",
    "\n",
    "\n",
    "#cands.show_in_notebook()"
   ]
  },
  {
   "cell_type": "code",
   "execution_count": null,
   "metadata": {
    "collapsed": false
   },
   "outputs": [],
   "source": [
    "%%time\n",
    "\n",
    "tiles = tile_sky(cands)"
   ]
  },
  {
   "cell_type": "code",
   "execution_count": null,
   "metadata": {
    "collapsed": false
   },
   "outputs": [],
   "source": [
    "print(len(tiles))\n",
    "for tile in tiles:\n",
    "    print(tile['properties'])"
   ]
  },
  {
   "cell_type": "code",
   "execution_count": null,
   "metadata": {
    "collapsed": false
   },
   "outputs": [],
   "source": [
    "cands.show_in_notebook()"
   ]
  },
  {
   "cell_type": "code",
   "execution_count": null,
   "metadata": {
    "collapsed": false
   },
   "outputs": [],
   "source": [
    "cands_hist = cat_now[(dp_dV >= np.nanpercentile(dp_dV,95)) & (r <= 50.0)]\n",
    "\n",
    "cands_hist = cands_hist[cands_hist['_DEJ2000'] <= 18.0]\n",
    "print(len(cands_hist))\n",
    "len_cands = len(cands_hist)\n",
    "\n",
    "org_ra = []\n",
    "org_dec =[]\n",
    "\n",
    "for ra_ind in range(len(cands_hist['_RAJ2000'])):\n",
    "    org_dec.append(cands_hist['_DEJ2000'][ra_ind])\n",
    "    org_ra.append(cands_hist['_RAJ2000'][ra_ind]*m.cos(m.radians(cands_hist['_DEJ2000'][ra_ind])))"
   ]
  },
  {
   "cell_type": "code",
   "execution_count": null,
   "metadata": {
    "collapsed": false
   },
   "outputs": [],
   "source": [
    "tl = 0\n",
    "tr = 0\n",
    "br = 0\n",
    "bl = 0\n",
    "cent = 0\n",
    "\n",
    "for tile in tiles:\n",
    "    if 'Top Left' in tile['properties']['name']:\n",
    "        tl = tl + 1\n",
    "    elif 'Top Right' in tile['properties']['name']:\n",
    "        tr = tr + 1\n",
    "    elif 'Bottom Left' in tile['properties']['name']:\n",
    "        bl = bl + 1\n",
    "    elif 'Bottom Right' in tile['properties']['name']:\n",
    "        br = br + 1\n",
    "    elif 'Centered' in tile['properties']['name']:\n",
    "        cent = cent + 1"
   ]
  },
  {
   "cell_type": "code",
   "execution_count": null,
   "metadata": {
    "collapsed": false
   },
   "outputs": [],
   "source": [
    "fig, ax = plt.subplots()\n",
    "n_groups = 5\n",
    "index = np.arange(n_groups)\n",
    "bar_width = 0.35\n",
    "\n",
    "opacity = 0.7\n",
    "error_config = {'ecolor': '0.3'}\n",
    "\n",
    "rects1 = plt.bar(0.25 + index, [tl, tr, bl, br, cent], bar_width,\n",
    "                 alpha=opacity,\n",
    "                 color='b',\n",
    "                 label='')\n",
    "\n",
    "\n",
    "plt.xlabel('Group')\n",
    "plt.ylabel('Scores')\n",
    "plt.title('Scores By Group \\n With ' + str(len_cands-len(cands)) + ' Galaxies Covered!\\n')\n",
    "plt.xticks(0.25 + index + 0.5*bar_width, ('Top Left', 'Top Right', 'Bottom Left', 'Bottom Right', 'Centered'))\n",
    "plt.legend()\n",
    "\n",
    "plt.tight_layout()\n",
    "plt.show()\n",
    "\n",
    "print(len(cands))"
   ]
  },
  {
   "cell_type": "code",
   "execution_count": null,
   "metadata": {
    "collapsed": false
   },
   "outputs": [],
   "source": [
    "decs = []\n",
    "ras = []\n",
    "cands_hist = cat_now[(dp_dV >= np.nanpercentile(dp_dV,95)) & (r<=50.0)]\n",
    "cands_hist = cands_hist[cands_hist['_DEJ2000'] <= 18.0]\n",
    "for tile in tiles:\n",
    "    #for gal in tile['galaxies']:\n",
    "        coords = SkyCoord(tile['properties']['coords_num'][0], tile['properties']['coords_num'][1], unit='deg', frame='fk5')\n",
    "        decs.append(coords.dec.deg)\n",
    "        ras.append(coords.ra.deg)\n",
    "plt.figure(figsize=(20,10))\n",
    "from matplotlib import cm\n",
    "afm_cmap = cm.summer\n",
    "afm_cmap.set_under(\"w\") # sets background to white\n",
    "plt.hist2d(org_ra, org_dec, bins = [144, 90],range=np.array([(0,360), (-90,90)]), cmap = afm_cmap)\n",
    "plt.colorbar()\n",
    "\n",
    "plt.scatter(ras, decs, color='b', s=40, alpha=.6, marker = 's')\n",
    "\n",
    "\n",
    "plt.xlabel('RA (deg)', fontsize = 15)\n",
    "plt.ylabel('DEC (deg)', fontsize = 15)\n",
    "plt.title('Galaxy Method: Tiled Galaxies \\n With ' + str(len_cands-len(cands)) + ' Galaxies Covered and Taking '\n",
    "          + str(30) + ' Seconds Per Loop! \\n', fontsize = 20)\n",
    "plt.xlim([0,360])\n",
    "plt.ylim([-90,90])"
   ]
  },
  {
   "cell_type": "code",
   "execution_count": null,
   "metadata": {
    "collapsed": false
   },
   "outputs": [],
   "source": [
    "decs = []\n",
    "ras = []\n",
    "\n",
    "for tile in tiles:\n",
    "    for gal in tile['galaxies']:\n",
    "        coords = SkyCoord(gal['coords'], frame='fk5')\n",
    "        decs.append(coords.dec.deg)\n",
    "        ras.append(coords.ra.deg)\n",
    "plt.figure(figsize=(20,10))\n",
    "from matplotlib import cm\n",
    "afm_cmap = cm.summer\n",
    "afm_cmap.set_under(\"w\") # sets background to white\n",
    "plt.hist2d(org_ra, org_dec, bins = [144, 90],range=np.array([(0,360), (-90,90)]), cmap = afm_cmap)\n",
    "plt.colorbar()\n",
    "\n",
    "plt.scatter(ras, decs, color='b', s=1, alpha=.7)\n",
    "\n",
    "\n",
    "plt.xlabel('RA (deg)', fontsize = 15)\n",
    "plt.ylabel('DEC (deg)', fontsize = 15)\n",
    "plt.title('Galaxy Method: Groups of Tiled Galaxies \\n With ' + str(len_cands-len(cands)) + ' Galaxies Covered and Taking '\n",
    "          + str(30) + ' Seconds Per Loop! \\n', fontsize = 20)\n",
    "plt.xlim([0,360])\n",
    "plt.ylim([-90,90])\n",
    "#plt.colorbar()"
   ]
  },
  {
   "cell_type": "markdown",
   "metadata": {},
   "source": [
    "## Histogram Method"
   ]
  },
  {
   "cell_type": "code",
   "execution_count": null,
   "metadata": {
    "collapsed": false
   },
   "outputs": [],
   "source": [
    "cands_hist = cat_now[(dp_dV >= np.nanpercentile(dp_dV,95)) & (r<=50.0)]\n",
    "cands_hist = cands_hist[cands_hist['_DEJ2000'] <= 18.0]\n",
    "print(len(cands_hist))"
   ]
  },
  {
   "cell_type": "code",
   "execution_count": null,
   "metadata": {
    "collapsed": false
   },
   "outputs": [],
   "source": [
    "#histo, xes, ys = plt.hist2d(cands_hist['_RAJ2000'], cands_hist['_DEJ2000'], bins = [144, 180],range=np.array([(0,360), (-90,90)]))\n",
    "\n",
    "plt.figure(figsize=(20,10))\n",
    "plt.hist2d(cands_hist['_RAJ2000'], cands_hist['_DEJ2000'], bins = [144, 90],range=np.array([(0,360), (-90,90)]))\n",
    "\n",
    "plt.colorbar()\n",
    "\n"
   ]
  },
  {
   "cell_type": "code",
   "execution_count": null,
   "metadata": {
    "collapsed": false
   },
   "outputs": [],
   "source": [
    "histo, xes, ys, img = plt.hist2d(cands_hist['_RAJ2000'], cands_hist['_DEJ2000'], bins = [139, 90],range=np.array([(0,360), (-90,90)]))"
   ]
  },
  {
   "cell_type": "code",
   "execution_count": null,
   "metadata": {
    "collapsed": false
   },
   "outputs": [],
   "source": [
    "print(histo)"
   ]
  },
  {
   "cell_type": "code",
   "execution_count": null,
   "metadata": {
    "collapsed": false
   },
   "outputs": [],
   "source": [
    "foo= True\n",
    "def find_score(histo):\n",
    "#if foo == True:\n",
    "    tls = {'score': [], 'row': [], 'colmn': []}\n",
    "\n",
    "    for k in range(len(histo)):\n",
    "        row = k\n",
    "        colmn = np.where(histo[k]==max(histo[k]))\n",
    "        for col in colmn:\n",
    "            for co in col:\n",
    "                tls['score'].append(max(histo[k]))\n",
    "                tls['row'].append(row)\n",
    "                tls['colmn'].append(co)\n",
    "\n",
    "    tls['score']=np.array(tls['score'])\n",
    "    tls['row']=np.array(tls['row'])\n",
    "    tls['colmn']=np.array(tls['colmn'])\n",
    "\n",
    "    indexes_of_max = np.argsort(-tls['score'])\n",
    "    sorted_tls = {'score': tls['score'][indexes_of_max],\n",
    "                  'row': tls['row'][indexes_of_max],\n",
    "                  'colmn': tls['colmn'][indexes_of_max],\n",
    "                  'score_overall': 0}\n",
    "\n",
    "    #print(sorted_tls['score'][:16])\n",
    "    #print(sorted_tls['colmn'][:16])\n",
    "    #print(sorted_tls['row'][:16])\n",
    "    sorted_tls['score_overall'] = sum(sorted_tls['score'][:15])\n",
    "    #print(sorted_tls['score_overall'])\n",
    "    \n",
    "    return sorted_tls"
   ]
  },
  {
   "cell_type": "code",
   "execution_count": null,
   "metadata": {
    "collapsed": false
   },
   "outputs": [],
   "source": [
    "org_ra = []\n",
    "org_dec =[]\n",
    "\n",
    "for ra_ind in range(len(cands_hist['_RAJ2000'])):\n",
    "    org_dec.append(cands_hist['_DEJ2000'][ra_ind])\n",
    "    org_ra.append(cands_hist['_RAJ2000'][ra_ind]*m.cos(m.radians(cands_hist['_DEJ2000'][ra_ind])))"
   ]
  },
  {
   "cell_type": "code",
   "execution_count": null,
   "metadata": {
    "collapsed": false
   },
   "outputs": [],
   "source": [
    "\n",
    "\n",
    "%%time\n",
    "ra_fov = 2.6\n",
    "dec_fov = 2.0\n",
    "\n",
    "N_steps_ra = 50\n",
    "N_steps_dec = 20\n",
    "tiles_histo = {}\n",
    "tiles_histo['RA'] = []\n",
    "tiles_histo['DEC'] = []\n",
    "n_fin = -1\n",
    "mn_fin = -1\n",
    "\n",
    "max_score = -1\n",
    "\n",
    "for n in range(N_steps_dec):\n",
    "    \n",
    "    min_dec = -90 + n*dec_fov/N_steps_dec\n",
    "    max_dec = 90 + n*dec_fov/N_steps_dec\n",
    "    \n",
    "    for mn in range(N_steps_ra):\n",
    "        \n",
    "        min_ra = 0 + mn*ra_fov/N_steps_ra\n",
    "        max_ra = 360 + mn*ra_fov/N_steps_ra\n",
    "        \n",
    "        histo, xes, ys, img = plt.hist2d(org_ra,\n",
    "                                         org_dec, bins = [139, 90], \n",
    "                                         range=np.array([(min_ra,max_ra),\n",
    "                                                         (min_dec,max_dec)]))\n",
    "        sorted_tls = find_score(histo)\n",
    "        \n",
    "        if sorted_tls['score_overall'] > max_score:\n",
    "            tiles_histo = sorted_tls\n",
    "            max_score = sorted_tls['score_overall']\n",
    "            print('New max score! ', max_score)\n",
    "            n_fin  = n\n",
    "            mn_fin = mn\n",
    "\n",
    "tiles_histo['RA'] = []\n",
    "tiles_histo['DEC'] = []\n",
    "for ra_ind in range(len(tiles_histo['row'])):\n",
    "    tiles_histo['DEC'].append(-90+mn*dec_fov/N_steps_dec + 180*(tiles_histo['colmn'][ra_ind]+0.5)/90)\n",
    "    tiles_histo['RA'].append((mn*ra_fov/N_steps_ra + 360*(tiles_histo['row'][ra_ind]+0.5)/139))\n",
    "                             #*m.cos(m.radians(tiles_histo['DEC'][ra_ind])))"
   ]
  },
  {
   "cell_type": "code",
   "execution_count": null,
   "metadata": {
    "collapsed": false
   },
   "outputs": [],
   "source": [
    "decs = []\n",
    "ras = []\n",
    "\n",
    "for tile in tiles:\n",
    "    #for gal in tile['galaxies']:\n",
    "        coords = SkyCoord(tile['properties']['coords_num'][0], tile['properties']['coords_num'][1], unit='deg', frame='fk5')\n",
    "        decs.append(coords.dec.deg)\n",
    "        ras.append(coords.ra.deg)\n",
    "\n",
    "\n",
    "\n",
    "plt.figure(figsize=(20,10))\n",
    "from matplotlib import cm\n",
    "afm_cmap = cm.summer\n",
    "afm_cmap.set_under(\"w\") # sets background to white\n",
    "plt.hist2d(org_ra, org_dec, bins = [144, 90],range=np.array([(0,360), (-90,90)]), cmap = afm_cmap)\n",
    "plt.colorbar()\n",
    "\n",
    "plt.scatter(tiles_histo['RA'][:17], tiles_histo['DEC'][:17], marker='s', color='r', s=40, alpha=.6)\n",
    "plt.scatter(ras, decs, marker='s', color='b', s=40, alpha=.6)\n",
    "\n",
    "plt.xlabel('RA (deg)', fontsize = 15)\n",
    "plt.ylabel('DEC (deg)', fontsize=15)\n",
    "plt.title('Tiles Selected: 10202_bayestar Sample With Distance < 50 Mpc\\n With ' + str(int(tiles_histo['score_overall'])) \n",
    "          + ' Galaxies Covered and Taking ' + str(1.5) + ' Minutes by Histogram Method (RED)\\n'+ 'With '\n",
    "          + str(len_cands-len(cands)) + ' Galaxies Covered and Taking '+ str(30) +\n",
    "          ' Seconds Per Loop by Galaxy Method (BLUE)\\n', fontsize=20)\n",
    "plt.xlim([0,360])\n",
    "plt.ylim([-90,90])"
   ]
  },
  {
   "cell_type": "code",
   "execution_count": null,
   "metadata": {
    "collapsed": false
   },
   "outputs": [],
   "source": [
    "print(tiles_histo['score_overall'])\n",
    "for k in range(len(tiles_histo['score'][:16])):\n",
    "    print('score, ',tiles_histo['score'][k])\n"
   ]
  },
  {
   "cell_type": "code",
   "execution_count": null,
   "metadata": {
    "collapsed": false
   },
   "outputs": [],
   "source": [
    "all_gals = cat_now[(r<=50.0)]\n",
    "all_gals = cands_hist[cands_hist['_DEJ2000'] <= 18.0]\n",
    "print(len(all_gals))"
   ]
  },
  {
   "cell_type": "code",
   "execution_count": null,
   "metadata": {
    "collapsed": true
   },
   "outputs": [],
   "source": []
  }
 ],
 "metadata": {
  "anaconda-cloud": {},
  "kernelspec": {
   "display_name": "Python [default]",
   "language": "python",
   "name": "python3"
  },
  "language_info": {
   "codemirror_mode": {
    "name": "ipython",
    "version": 3
   },
   "file_extension": ".py",
   "mimetype": "text/x-python",
   "name": "python",
   "nbconvert_exporter": "python",
   "pygments_lexer": "ipython3",
   "version": "3.5.2"
  }
 },
 "nbformat": 4,
 "nbformat_minor": 1
}
