{
 "cells": [
  {
   "cell_type": "code",
   "execution_count": 2,
   "metadata": {
    "collapsed": false
   },
   "outputs": [],
   "source": [
    "# Load the PANOPTES module dir\n",
    "from IPython.display import Image, SVG, display, display_svg\n",
    "import sys\n",
    "sys.path.append('../../')\n",
    "\n",
    "%load_ext autoreload\n",
    "%autoreload 2\n",
    "\n",
    "from pocs.core import POCS"
   ]
  },
  {
   "cell_type": "code",
   "execution_count": 3,
   "metadata": {
    "collapsed": false
   },
   "outputs": [
    {
     "name": "stderr",
     "output_type": "stream",
     "text": [
      "2016-07-07 08:07:01 ganymede panoptes[20365] INFO Loading state table: simple_state_table\n",
      "2016-07-07 08:07:01 ganymede panoptes[20365] INFO ********************************************************************************\n",
      "2016-07-07 08:07:01 ganymede panoptes[20365] INFO Initializing PANOPTES unit\n",
      "2016-07-07 08:07:01 ganymede panoptes[20365] INFO Welcome PanTester!\n",
      "2016-07-07 08:07:01 ganymede panoptes[20365] INFO \t observatory\n",
      "2016-07-07 08:07:01 ganymede panoptes[20365] INFO \tInitializing observatory\n",
      "2016-07-07 08:07:01 ganymede panoptes[20365] INFO \t\t Setting up location\n",
      "2016-07-07 08:07:01 ganymede panoptes[20365] INFO \t\t Setting up mount\n",
      "2016-07-07 08:07:01 ganymede pocs.mount.simulator[20365] INFO \t\tUsing simulator mount\n",
      "2016-07-07 08:07:01 ganymede panoptes[20365] INFO \t\t Setting up cameras\n",
      "2016-07-07 08:07:01 ganymede pocs.camera.simulator[20365] INFO \t\t Using simulator camera\n",
      "2016-07-07 08:07:01 ganymede pocs.camera.simulator[20365] INFO \t\t Using simulator camera\n",
      "2016-07-07 08:07:01 ganymede panoptes[20365] INFO \t\t Setting up scheduler\n",
      "2016-07-07 08:07:02 ganymede panoptes[20365] INFO \t Observatory initialized\n",
      "2016-07-07 08:07:02 ganymede panoptes[20365] INFO PanTester says: Hi there!\n"
     ]
    }
   ],
   "source": [
    "# Get a simulated unit\n",
    "pocs = POCS(simulator=['all'])"
   ]
  },
  {
   "cell_type": "code",
   "execution_count": 4,
   "metadata": {
    "collapsed": false
   },
   "outputs": [
    {
     "name": "stderr",
     "output_type": "stream",
     "text": [
      "2016-07-07 08:07:03 ganymede pocs.utils.error[20365] ERROR PanError: Can't get target: 'Target' object has no attribute 'logger'\n"
     ]
    },
    {
     "ename": "PanError",
     "evalue": "Can't get target: 'Target' object has no attribute 'logger'",
     "output_type": "error",
     "traceback": [
      "\u001b[1;31m---------------------------------------------------------------------------\u001b[0m",
      "\u001b[1;31mAttributeError\u001b[0m                            Traceback (most recent call last)",
      "\u001b[1;32m/home/wtgee/Projects/panoptes/POCS/pocs/scheduler/target.py\u001b[0m in \u001b[0;36mcreate_skycoord\u001b[1;34m(self, target_config)\u001b[0m\n\u001b[0;32m    333\u001b[0m             \u001b[1;32mif\u001b[0m \u001b[1;34m'position'\u001b[0m \u001b[1;32min\u001b[0m \u001b[0mtarget_config\u001b[0m\u001b[1;33m:\u001b[0m\u001b[1;33m\u001b[0m\u001b[0m\n\u001b[1;32m--> 334\u001b[1;33m                 \u001b[0mself\u001b[0m\u001b[1;33m.\u001b[0m\u001b[0mlogger\u001b[0m\u001b[1;33m.\u001b[0m\u001b[0mdebug\u001b[0m\u001b[1;33m(\u001b[0m\u001b[1;34m\"Creating set of coordinates using position\"\u001b[0m\u001b[1;33m)\u001b[0m\u001b[1;33m\u001b[0m\u001b[0m\n\u001b[0m\u001b[0;32m    335\u001b[0m                 \u001b[0msky_coord\u001b[0m \u001b[1;33m=\u001b[0m \u001b[0mSkyCoord\u001b[0m\u001b[1;33m(\u001b[0m\u001b[0mtarget_config\u001b[0m\u001b[1;33m[\u001b[0m\u001b[1;34m'position'\u001b[0m\u001b[1;33m]\u001b[0m\u001b[1;33m,\u001b[0m \u001b[0mframe\u001b[0m\u001b[1;33m=\u001b[0m\u001b[0mframe\u001b[0m\u001b[1;33m)\u001b[0m\u001b[1;33m\u001b[0m\u001b[0m\n",
      "\u001b[1;31mAttributeError\u001b[0m: 'Target' object has no attribute 'logger'",
      "\nDuring handling of the above exception, another exception occurred:\n",
      "\u001b[1;31mAttributeError\u001b[0m                            Traceback (most recent call last)",
      "\u001b[1;32m/home/wtgee/Projects/panoptes/POCS/pocs/observatory.py\u001b[0m in \u001b[0;36mget_target\u001b[1;34m(self)\u001b[0m\n\u001b[0;32m    191\u001b[0m             \u001b[0mself\u001b[0m\u001b[1;33m.\u001b[0m\u001b[0mlogger\u001b[0m\u001b[1;33m.\u001b[0m\u001b[0mdebug\u001b[0m\u001b[1;33m(\u001b[0m\u001b[1;34m\"Getting target for observatory\"\u001b[0m\u001b[1;33m)\u001b[0m\u001b[1;33m\u001b[0m\u001b[0m\n\u001b[1;32m--> 192\u001b[1;33m             \u001b[0mtarget\u001b[0m \u001b[1;33m=\u001b[0m \u001b[0mself\u001b[0m\u001b[1;33m.\u001b[0m\u001b[0mscheduler\u001b[0m\u001b[1;33m.\u001b[0m\u001b[0mget_target\u001b[0m\u001b[1;33m(\u001b[0m\u001b[1;33m)\u001b[0m\u001b[1;33m\u001b[0m\u001b[0m\n\u001b[0m\u001b[0;32m    193\u001b[0m         \u001b[1;32mexcept\u001b[0m \u001b[0mException\u001b[0m \u001b[1;32mas\u001b[0m \u001b[0me\u001b[0m\u001b[1;33m:\u001b[0m\u001b[1;33m\u001b[0m\u001b[0m\n",
      "\u001b[1;32m/home/wtgee/Projects/panoptes/POCS/pocs/scheduler/core.py\u001b[0m in \u001b[0;36mget_target\u001b[1;34m(self, weights)\u001b[0m\n\u001b[0;32m     72\u001b[0m         \u001b[1;31m# Make sure we have some targets\u001b[0m\u001b[1;33m\u001b[0m\u001b[1;33m\u001b[0m\u001b[0m\n\u001b[1;32m---> 73\u001b[1;33m         \u001b[0mself\u001b[0m\u001b[1;33m.\u001b[0m\u001b[0mread_target_list\u001b[0m\u001b[1;33m(\u001b[0m\u001b[1;33m)\u001b[0m\u001b[1;33m\u001b[0m\u001b[0m\n\u001b[0m\u001b[0;32m     74\u001b[0m \u001b[1;33m\u001b[0m\u001b[0m\n",
      "\u001b[1;32m/home/wtgee/Projects/panoptes/POCS/pocs/scheduler/core.py\u001b[0m in \u001b[0;36mread_target_list\u001b[1;34m(self, target_list)\u001b[0m\n\u001b[0;32m    130\u001b[0m             \u001b[0mself\u001b[0m\u001b[1;33m.\u001b[0m\u001b[0mlogger\u001b[0m\u001b[1;33m.\u001b[0m\u001b[0mdebug\u001b[0m\u001b[1;33m(\u001b[0m\u001b[1;34m\"Creating target: {}\"\u001b[0m\u001b[1;33m.\u001b[0m\u001b[0mformat\u001b[0m\u001b[1;33m(\u001b[0m\u001b[0mtarget_dict\u001b[0m\u001b[1;33m)\u001b[0m\u001b[1;33m)\u001b[0m\u001b[1;33m\u001b[0m\u001b[0m\n\u001b[1;32m--> 131\u001b[1;33m             \u001b[0mtarget\u001b[0m \u001b[1;33m=\u001b[0m \u001b[0mTarget\u001b[0m\u001b[1;33m(\u001b[0m\u001b[0mtarget_dict\u001b[0m\u001b[1;33m)\u001b[0m\u001b[1;33m\u001b[0m\u001b[0m\n\u001b[0m\u001b[0;32m    132\u001b[0m             \u001b[0mtargets\u001b[0m\u001b[1;33m.\u001b[0m\u001b[0mappend\u001b[0m\u001b[1;33m(\u001b[0m\u001b[0mtarget\u001b[0m\u001b[1;33m)\u001b[0m\u001b[1;33m\u001b[0m\u001b[0m\n",
      "\u001b[1;32m/home/wtgee/Projects/panoptes/POCS/pocs/scheduler/target.py\u001b[0m in \u001b[0;36m__init__\u001b[1;34m(self, target_config, **kwargs)\u001b[0m\n\u001b[0;32m     57\u001b[0m \u001b[1;33m\u001b[0m\u001b[0m\n\u001b[1;32m---> 58\u001b[1;33m         \u001b[0msky_coord\u001b[0m \u001b[1;33m=\u001b[0m \u001b[0mself\u001b[0m\u001b[1;33m.\u001b[0m\u001b[0mcreate_skycoord\u001b[0m\u001b[1;33m(\u001b[0m\u001b[0mtarget_config\u001b[0m\u001b[1;33m)\u001b[0m\u001b[1;33m\u001b[0m\u001b[0m\n\u001b[0m\u001b[0;32m     59\u001b[0m \u001b[1;33m\u001b[0m\u001b[0m\n",
      "\u001b[1;32m/home/wtgee/Projects/panoptes/POCS/pocs/scheduler/target.py\u001b[0m in \u001b[0;36mcreate_skycoord\u001b[1;34m(self, target_config)\u001b[0m\n\u001b[0;32m    340\u001b[0m         \u001b[1;32mexcept\u001b[0m\u001b[1;33m:\u001b[0m\u001b[1;33m\u001b[0m\u001b[0m\n\u001b[1;32m--> 341\u001b[1;33m             self.logger.debug(\n\u001b[0m\u001b[0;32m    342\u001b[0m                 \"Create failed. Trying to look up coordinates for {}...\".format(target_config.get('name')))\n",
      "\u001b[1;31mAttributeError\u001b[0m: 'Target' object has no attribute 'logger'",
      "\nDuring handling of the above exception, another exception occurred:\n",
      "\u001b[1;31mPanError\u001b[0m                                  Traceback (most recent call last)",
      "\u001b[1;32m<ipython-input-4-2e1f9f073103>\u001b[0m in \u001b[0;36m<module>\u001b[1;34m()\u001b[0m\n\u001b[1;32m----> 1\u001b[1;33m \u001b[0mtarget\u001b[0m \u001b[1;33m=\u001b[0m \u001b[0mpocs\u001b[0m\u001b[1;33m.\u001b[0m\u001b[0mobservatory\u001b[0m\u001b[1;33m.\u001b[0m\u001b[0mget_target\u001b[0m\u001b[1;33m(\u001b[0m\u001b[1;33m)\u001b[0m\u001b[1;33m\u001b[0m\u001b[0m\n\u001b[0m",
      "\u001b[1;32m/home/wtgee/Projects/panoptes/POCS/pocs/observatory.py\u001b[0m in \u001b[0;36mget_target\u001b[1;34m(self)\u001b[0m\n\u001b[0;32m    192\u001b[0m             \u001b[0mtarget\u001b[0m \u001b[1;33m=\u001b[0m \u001b[0mself\u001b[0m\u001b[1;33m.\u001b[0m\u001b[0mscheduler\u001b[0m\u001b[1;33m.\u001b[0m\u001b[0mget_target\u001b[0m\u001b[1;33m(\u001b[0m\u001b[1;33m)\u001b[0m\u001b[1;33m\u001b[0m\u001b[0m\n\u001b[0;32m    193\u001b[0m         \u001b[1;32mexcept\u001b[0m \u001b[0mException\u001b[0m \u001b[1;32mas\u001b[0m \u001b[0me\u001b[0m\u001b[1;33m:\u001b[0m\u001b[1;33m\u001b[0m\u001b[0m\n\u001b[1;32m--> 194\u001b[1;33m             \u001b[1;32mraise\u001b[0m \u001b[0merror\u001b[0m\u001b[1;33m.\u001b[0m\u001b[0mPanError\u001b[0m\u001b[1;33m(\u001b[0m\u001b[1;34m\"Can't get target: {}\"\u001b[0m\u001b[1;33m.\u001b[0m\u001b[0mformat\u001b[0m\u001b[1;33m(\u001b[0m\u001b[0me\u001b[0m\u001b[1;33m)\u001b[0m\u001b[1;33m)\u001b[0m\u001b[1;33m\u001b[0m\u001b[0m\n\u001b[0m\u001b[0;32m    195\u001b[0m \u001b[1;33m\u001b[0m\u001b[0m\n\u001b[0;32m    196\u001b[0m         \u001b[1;32mif\u001b[0m \u001b[0mtarget\u001b[0m \u001b[1;32mis\u001b[0m \u001b[1;32mnot\u001b[0m \u001b[1;32mNone\u001b[0m\u001b[1;33m:\u001b[0m\u001b[1;33m\u001b[0m\u001b[0m\n",
      "\u001b[1;31mPanError\u001b[0m: Can't get target: 'Target' object has no attribute 'logger'"
     ]
    }
   ],
   "source": [
    "target = pocs.observatory.get_target()"
   ]
  },
  {
   "cell_type": "code",
   "execution_count": 4,
   "metadata": {
    "collapsed": false
   },
   "outputs": [
    {
     "data": {
      "text/plain": [
       "<Target \"Wasp 52\" at SkyCoord (ICRS): (ra, dec) in deg (348.49483333, 8.76127778)>"
      ]
     },
     "execution_count": 4,
     "metadata": {},
     "output_type": "execute_result"
    }
   ],
   "source": [
    "target"
   ]
  }
 ],
 "metadata": {
  "kernelspec": {
   "display_name": "Python 3",
   "language": "python",
   "name": "python3"
  },
  "language_info": {
   "codemirror_mode": {
    "name": "ipython",
    "version": 3
   },
   "file_extension": ".py",
   "mimetype": "text/x-python",
   "name": "python",
   "nbconvert_exporter": "python",
   "pygments_lexer": "ipython3",
   "version": "3.5.1"
  }
 },
 "nbformat": 4,
 "nbformat_minor": 0
}
