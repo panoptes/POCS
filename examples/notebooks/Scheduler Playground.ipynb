{
 "cells": [
  {
   "cell_type": "code",
   "execution_count": 1,
   "metadata": {
    "collapsed": false
   },
   "outputs": [],
   "source": [
    "%load_ext autoreload\n",
    "%autoreload 2"
   ]
  },
  {
   "cell_type": "code",
   "execution_count": 2,
   "metadata": {
    "collapsed": false
   },
   "outputs": [
    {
     "name": "stderr",
     "output_type": "stream",
     "text": [
      "/home/wtgee/miniconda/lib/python3.5/site-packages/PIL/Image.py:84: RuntimeWarning: The _imaging extension was built for another  version of Pillow or PIL\n",
      "  warnings.warn(str(v), RuntimeWarning)\n",
      "/home/wtgee/miniconda/lib/python3.5/site-packages/PIL/Image.py:84: RuntimeWarning: The _imaging extension was built for another  version of Pillow or PIL\n",
      "  warnings.warn(str(v), RuntimeWarning)\n"
     ]
    }
   ],
   "source": [
    "from astropy import units as u\n",
    "from astropy.coordinates import EarthLocation\n",
    "from astropy.time import Time\n",
    "\n",
    "from astroplan.plots import plot_airmass\n",
    "from matplotlib import pyplot as plt\n",
    "%matplotlib inline\n",
    "\n",
    "from astroplan import Observer\n",
    "\n",
    "from pocs.scheduler.dispatch import Scheduler\n",
    "from pocs.scheduler.constraint import Duration\n",
    "from pocs.utils.config import load_config\n",
    "\n",
    "config = load_config()"
   ]
  },
  {
   "cell_type": "code",
   "execution_count": 3,
   "metadata": {
    "collapsed": false
   },
   "outputs": [],
   "source": [
    "# Get a location\n",
    "loc = config['location']\n",
    "location = EarthLocation(lon=loc['longitude'], lat=loc['latitude'], height=loc['elevation'])\n",
    "\n",
    "# Get an observer at the location\n",
    "observer = Observer(location=location)\n",
    "\n",
    "# Get the night hours (you can use observer.tonight())\n",
    "start_of_night = Time('2016-08-15 06:57:45')\n",
    "end_of_night = Time('2016-08-15T14:46:08')"
   ]
  },
  {
   "cell_type": "code",
   "execution_count": 4,
   "metadata": {
    "collapsed": false
   },
   "outputs": [],
   "source": [
    "simple_fields_file = config['directories']['targets'] + '/default_targets.yaml'\n",
    "\n",
    "# Simple constraint to maximize duration above a certain altitude\n",
    "constraints = [Duration(30 * u.deg)]\n",
    "\n",
    "# Create a scheduler\n",
    "scheduler = Scheduler(simple_fields_file, observer, constraints=constraints)"
   ]
  },
  {
   "cell_type": "code",
   "execution_count": 5,
   "metadata": {
    "collapsed": false
   },
   "outputs": [
    {
     "name": "stdout",
     "output_type": "stream",
     "text": [
      "HD 209458: 120.0 s exposures in blocks of 10, minimum 60, priority 100\n",
      "KIC 8462852: 120.0 s exposures in blocks of 10, minimum 60, priority 100\n",
      "HD 17156: 120.0 s exposures in blocks of 10, minimum 60, priority 120\n",
      "M 42: 120.0 s exposures in blocks of 10, minimum 60, priority 105\n",
      "Kelt-3: 120.0 s exposures in blocks of 10, minimum 60, priority 125\n",
      "Wasp 52: 120.0 s exposures in blocks of 10, minimum 60, priority 110\n",
      "HAT-P-16: 120.0 s exposures in blocks of 10, minimum 60, priority 115\n",
      "Kelt-7: 120.0 s exposures in blocks of 10, minimum 60, priority 125\n",
      "Wasp 35: 120.0 s exposures in blocks of 10, minimum 60, priority 125\n",
      "Groombridge 1618: 120.0 s exposures in blocks of 10, minimum 60, priority 125\n",
      "HR 8799: 120.0 s exposures in blocks of 10, minimum 60, priority 100\n",
      "Wasp 76: 120.0 s exposures in blocks of 10, minimum 60, priority 115\n",
      "Wasp 33: 120.0 s exposures in blocks of 10, minimum 60, priority 130\n",
      "Tres 3: 120.0 s exposures in blocks of 10, minimum 60, priority 100\n",
      "HD 189733: 120.0 s exposures in blocks of 10, minimum 60, priority 100\n",
      "Wasp 104: 120.0 s exposures in blocks of 10, minimum 60, priority 125\n"
     ]
    }
   ],
   "source": [
    "for obs in scheduler.observations.values():\n",
    "    print(obs)"
   ]
  },
  {
   "cell_type": "code",
   "execution_count": 6,
   "metadata": {
    "collapsed": false
   },
   "outputs": [
    {
     "name": "stdout",
     "output_type": "stream",
     "text": [
      "Field: Tres 3       Merit: 101.52673716564992\n",
      "Field: HD 209458    Merit: 101.49455088729071\n"
     ]
    }
   ],
   "source": [
    "# Get the best observations for the given time\n",
    "# show_all returns entire list along with merit\n",
    "best = scheduler.get_observation(show_all=True, time=start_of_night)\n",
    "\n",
    "for b in best:\n",
    "    print(\"Field: {:12s} Merit: {}\".format(b[0], b[1]))"
   ]
  },
  {
   "cell_type": "code",
   "execution_count": 7,
   "metadata": {
    "collapsed": false
   },
   "outputs": [
    {
     "data": {
      "image/png": "[encoded data removed]",
      "text/plain": [
       "<matplotlib.figure.Figure at 0x7fa21f71bf28>"
      ]
     },
     "metadata": {},
     "output_type": "display_data"
    }
   ],
   "source": [
    "plot_airmass([scheduler.observations[name].field for name, merit in best], \n",
    "             scheduler.observer, start_of_night, \n",
    "             brightness_shading=True)\n",
    "        \n",
    "plt.legend(loc=2)\n",
    "plt.show()"
   ]
  },
  {
   "cell_type": "code",
   "execution_count": 8,
   "metadata": {
    "collapsed": false
   },
   "outputs": [
    {
     "name": "stdout",
     "output_type": "stream",
     "text": [
      "Field: Wasp 33      Merit: 132.0\n",
      "Field: Wasp 76      Merit: 116.92144092571915\n",
      "Field: HD 209458    Merit: 102.0\n"
     ]
    }
   ],
   "source": [
    "# Set a later time to start\n",
    "t2 = end_of_night - 3 * u.hour\n",
    "\n",
    "# Get the best observation for the given time\n",
    "# show_all returns entire list along with merit\n",
    "best = scheduler.get_observation(show_all=True, time=t2)\n",
    "\n",
    "for b in best:\n",
    "    print(\"Field: {:12s} Merit: {}\".format(b[0], b[1]))"
   ]
  },
  {
   "cell_type": "code",
   "execution_count": 9,
   "metadata": {
    "collapsed": false
   },
   "outputs": [
    {
     "data": {
      "image/png": "[encoded data removed]",
      "text/plain": [
       "<matplotlib.figure.Figure at 0x7fa20c7cdbe0>"
      ]
     },
     "metadata": {},
     "output_type": "display_data"
    }
   ],
   "source": [
    "plot_airmass([scheduler.observations[name].field for name, merit in best], \n",
    "             scheduler.observer, t2, \n",
    "             brightness_shading=True)\n",
    "        \n",
    "plt.legend(loc=2)\n",
    "plt.show()"
   ]
  },
  {
   "cell_type": "markdown",
   "metadata": {},
   "source": [
    "## Entire Night Simulation\n",
    "\n",
    "Now let's simulate going through the whole evening"
   ]
  },
  {
   "cell_type": "code",
   "execution_count": 10,
   "metadata": {
    "collapsed": false
   },
   "outputs": [
    {
     "name": "stdout",
     "output_type": "stream",
     "text": [
      "Start of night at 2016-08-15 06:57:45.000\n",
      "Getting new observation at 2016-08-15 06:57:45.000\n",
      "\tWill observe Tres 3 with merit of 101.52674 for 7200.0 s\n",
      "\t60 of 60\n",
      "Getting new observation at 2016-08-15 08:57:45.000\n",
      "\tWill observe HAT-P-16 with merit of 116.76428 for 7200.0 s\n",
      "\t60 of 60\n",
      "Getting new observation at 2016-08-15 10:57:45.000\n",
      "\tWill observe Wasp 33 with merit of 132.00000 for 7200.0 s\n",
      "\t60 of 60\n",
      "Getting new observation at 2016-08-15 12:57:45.000\n",
      "\tWill observe Wasp 33 with merit of 132.00000 for 1200.0 s\n",
      "\t70 of 60\n",
      "Getting new observation at 2016-08-15 13:17:45.000\n",
      "\tWill observe Wasp 33 with merit of 132.00000 for 1200.0 s\n",
      "\t80 of 60\n",
      "Getting new observation at 2016-08-15 13:37:45.000\n",
      "\tWill observe Wasp 33 with merit of 132.00000 for 1200.0 s\n",
      "\t90 of 60\n",
      "Getting new observation at 2016-08-15 13:57:45.000\n",
      "\tWill observe Wasp 33 with merit of 132.00000 for 1200.0 s\n",
      "\t100 of 60\n",
      "Getting new observation at 2016-08-15 14:17:45.000\n",
      "\tWill observe Wasp 33 with merit of 132.00000 for 1200.0 s\n",
      "\t110 of 60\n",
      "Getting new observation at 2016-08-15 14:37:45.000\n"
     ]
    },
    {
     "name": "stderr",
     "output_type": "stream",
     "text": [
      "2016-08-15 18:50:21 ganymede panoptes[29436] WARNING No valid observations found\n"
     ]
    },
    {
     "name": "stdout",
     "output_type": "stream",
     "text": [
      "End of night at 2016-08-15T14:46:08.000\n"
     ]
    }
   ],
   "source": [
    "# Start at the beginning of the night\n",
    "next_time = start_of_night\n",
    "print(\"Start of night at {}\".format(start_of_night))\n",
    "\n",
    "# Reset scheduler\n",
    "# Create a scheduler\n",
    "scheduler = Scheduler(simple_fields_file, observer, constraints=constraints)\n",
    "\n",
    "while (next_time < end_of_night):    \n",
    "    # Only get new target if we have met min_nexp for observation\n",
    "    if (scheduler.current_observation is None) or \\\n",
    "        (scheduler.current_observation.current_exp >= scheduler.current_observation.min_nexp):\n",
    "        \n",
    "        print(\"Getting new observation at {}\".format(next_time))\n",
    "        new_obs = scheduler.get_observation(time=next_time)\n",
    "#         print(new_obs)\n",
    "        \n",
    "    if scheduler.current_observation is not None:\n",
    "\n",
    "        if (scheduler.current_observation.current_exp < scheduler.current_observation.min_nexp):\n",
    "            obs_duration = scheduler.current_observation.minimum_duration\n",
    "\n",
    "            # Fake the exposure count\n",
    "            scheduler.current_observation.current_exp = scheduler.current_observation.min_nexp\n",
    "        else:\n",
    "            obs_duration = scheduler.current_observation.set_duration\n",
    "            # Fake the exposure count\n",
    "            scheduler.current_observation.current_exp += scheduler.current_observation.exp_set_size\n",
    "\n",
    "        print(\"\\tWill observe {} with merit of {:0.5f} for {}\".format(\n",
    "                    scheduler.current_observation.name, \n",
    "                    scheduler.current_observation.merit, \n",
    "                    obs_duration))\n",
    "        print(\"\\t{} of {}\".format(scheduler.current_observation.current_exp, \n",
    "                                  scheduler.current_observation.min_nexp))\n",
    "                \n",
    "    next_time = next_time + obs_duration\n",
    "    \n",
    "print(\"End of night at {}\".format(end_of_night))"
   ]
  }
 ],
 "metadata": {
  "anaconda-cloud": {},
  "kernelspec": {
   "display_name": "Python [Root]",
   "language": "python",
   "name": "Python [Root]"
  },
  "language_info": {
   "codemirror_mode": {
    "name": "ipython",
    "version": 3
   },
   "file_extension": ".py",
   "mimetype": "text/x-python",
   "name": "python",
   "nbconvert_exporter": "python",
   "pygments_lexer": "ipython3",
   "version": "3.5.2"
  }
 },
 "nbformat": 4,
 "nbformat_minor": 0
}
