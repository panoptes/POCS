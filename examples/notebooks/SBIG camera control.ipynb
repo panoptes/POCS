{
 "cells": [
  {
   "cell_type": "markdown",
   "metadata": {},
   "source": [
    "# Demonstration of control of SBIG CCD cameras"
   ]
  },
  {
   "cell_type": "code",
   "execution_count": 1,
   "metadata": {
    "collapsed": false
   },
   "outputs": [],
   "source": [
    "# Load the PANOPTES module dir\n",
    "import sys\n",
    "sys.path.append('../../')"
   ]
  },
  {
   "cell_type": "code",
   "execution_count": 2,
   "metadata": {
    "collapsed": true
   },
   "outputs": [],
   "source": [
    "import astropy.units as u\n",
    "import os\n",
    "import glob\n",
    "import time"
   ]
  },
  {
   "cell_type": "code",
   "execution_count": 3,
   "metadata": {
    "collapsed": false,
    "scrolled": false
   },
   "outputs": [],
   "source": [
    "from pocs.camera.sbig import Camera\n",
    "from pocs.camera.sbigudrv import SBIGDriver\n",
    "from pocs.focuser.simulator import Focuser\n",
    "from pocs.scheduler.field import Field\n",
    "from pocs.scheduler.observation import Observation"
   ]
  },
  {
   "cell_type": "code",
   "execution_count": 4,
   "metadata": {
    "collapsed": false
   },
   "outputs": [
    {
     "name": "stderr",
     "output_type": "stream",
     "text": [
      "2017-01-18 11:55:32 aaomc48as.aao.gov.au panoptes[95168] INFO \t\t\t SBIGDriver initialised: found 1 cameras\n",
      "2017-01-18 11:55:46 aaomc48as.aao.gov.au panoptes[95168] INFO \t\t\t Birger Focuser (10858) on /dev/tty.USA49WG2P4.4 initialised\n",
      "2017-01-18 11:55:47 aaomc48as.aao.gov.au panoptes[95168] INFO \t\t\t SBIG Camera (83F011167) initialised\n"
     ]
    }
   ],
   "source": [
    "c0 = Camera(set_point=0, port='83F011167', focuser='birger', focus_port='/dev/tty.USA49WG2P4.4')"
   ]
  },
  {
   "cell_type": "code",
   "execution_count": 5,
   "metadata": {
    "collapsed": false
   },
   "outputs": [
    {
     "data": {
      "text/plain": [
       "<pocs.camera.sbig.Camera at 0x1042c17b8>"
      ]
     },
     "execution_count": 5,
     "metadata": {},
     "output_type": "execute_result"
    }
   ],
   "source": [
    "c0"
   ]
  },
  {
   "cell_type": "code",
   "execution_count": 6,
   "metadata": {
    "collapsed": false
   },
   "outputs": [
    {
     "data": {
      "text/plain": [
       "<pocs.focuser.birger.Focuser at 0x1035421d0>"
      ]
     },
     "execution_count": 6,
     "metadata": {},
     "output_type": "execute_result"
    }
   ],
   "source": [
    "c0.focuser"
   ]
  },
  {
   "cell_type": "code",
   "execution_count": 7,
   "metadata": {
    "collapsed": false
   },
   "outputs": [
    {
     "data": {
      "text/plain": [
       "<pocs.camera.sbig.Camera at 0x1042c17b8>"
      ]
     },
     "execution_count": 7,
     "metadata": {},
     "output_type": "execute_result"
    }
   ],
   "source": [
    "c0.focuser.camera"
   ]
  },
  {
   "cell_type": "code",
   "execution_count": null,
   "metadata": {
    "collapsed": false
   },
   "outputs": [],
   "source": [
    "c1 = Camera(set_point=0, focuser=c0.focuser, focus_port='not_needed')"
   ]
  },
  {
   "cell_type": "code",
   "execution_count": 8,
   "metadata": {
    "collapsed": false
   },
   "outputs": [
    {
     "data": {
      "text/plain": [
       "'83F011167'"
      ]
     },
     "execution_count": 8,
     "metadata": {},
     "output_type": "execute_result"
    }
   ],
   "source": [
    "c0.uid"
   ]
  },
  {
   "cell_type": "code",
   "execution_count": 9,
   "metadata": {
    "collapsed": false
   },
   "outputs": [
    {
     "data": {
      "text/plain": [
       "{'AO8': False,\n",
       " 'Biorad_TDI_support': False,\n",
       " 'STXL': False,\n",
       " 'Truesense': False,\n",
       " 'bad_columns': [],\n",
       " 'camera_name': 'SBIG STF-8300 CCD Camera',\n",
       " 'camera_type': 'STF_CAMERA',\n",
       " 'colour': False,\n",
       " 'dump_extra': 0,\n",
       " 'electronic_shutter': False,\n",
       " 'firmware_version': '2.45',\n",
       " 'frame_buffer': True,\n",
       " 'frame_transfer': False,\n",
       " 'imaging_ABG': True,\n",
       " 'mechanical_shutter': True,\n",
       " 'readout_modes': {'RM_1X1': {'gain': <Quantity 0.37 electron / adu>,\n",
       "   'height': <Quantity 2532.0 pix>,\n",
       "   'pixel_height': <Quantity 5.4 um>,\n",
       "   'pixel_width': <Quantity 5.4 um>,\n",
       "   'width': <Quantity 3352.0 pix>},\n",
       "  'RM_1X1_VOFFCHIP': {'gain': <Quantity 0.37 electron / adu>,\n",
       "   'height': <Quantity 2532.0 pix>,\n",
       "   'pixel_height': <Quantity 5.4 um>,\n",
       "   'pixel_width': <Quantity 5.4 um>,\n",
       "   'width': <Quantity 3352.0 pix>},\n",
       "  'RM_2X2': {'gain': <Quantity 0.37 electron / adu>,\n",
       "   'height': <Quantity 1266.0 pix>,\n",
       "   'pixel_height': <Quantity 10.8 um>,\n",
       "   'pixel_width': <Quantity 10.8 um>,\n",
       "   'width': <Quantity 1676.0 pix>},\n",
       "  'RM_2X2_VOFFCHIP': {'gain': <Quantity 0.37 electron / adu>,\n",
       "   'height': <Quantity 1266.0 pix>,\n",
       "   'pixel_height': <Quantity 10.8 um>,\n",
       "   'pixel_width': <Quantity 10.8 um>,\n",
       "   'width': <Quantity 1676.0 pix>},\n",
       "  'RM_3X3': {'gain': <Quantity 0.37 electron / adu>,\n",
       "   'height': <Quantity 844.0 pix>,\n",
       "   'pixel_height': <Quantity 16.2 um>,\n",
       "   'pixel_width': <Quantity 16.2 um>,\n",
       "   'width': <Quantity 1117.0 pix>},\n",
       "  'RM_3X3_VOFFCHIP': {'gain': <Quantity 0.37 electron / adu>,\n",
       "   'height': <Quantity 844.0 pix>,\n",
       "   'pixel_height': <Quantity 16.2 um>,\n",
       "   'pixel_width': <Quantity 16.2 um>,\n",
       "   'width': <Quantity 1117.0 pix>},\n",
       "  'RM_9X9': {'gain': <Quantity 0.37 electron / adu>,\n",
       "   'height': <Quantity 281.0 pix>,\n",
       "   'pixel_height': <Quantity 48.6 um>,\n",
       "   'pixel_width': <Quantity 48.6 um>,\n",
       "   'width': <Quantity 372.0 pix>},\n",
       "  'RM_NX1': {'gain': <Quantity 0.37 electron / adu>,\n",
       "   'height': <Quantity 0.0 pix>,\n",
       "   'pixel_height': <Quantity 5.4 um>,\n",
       "   'pixel_width': <Quantity 5.4 um>,\n",
       "   'width': <Quantity 3352.0 pix>},\n",
       "  'RM_NX2': {'gain': <Quantity 0.37 electron / adu>,\n",
       "   'height': <Quantity 0.0 pix>,\n",
       "   'pixel_height': <Quantity 5.4 um>,\n",
       "   'pixel_width': <Quantity 10.8 um>,\n",
       "   'width': <Quantity 1676.0 pix>},\n",
       "  'RM_NX3': {'gain': <Quantity 0.37 electron / adu>,\n",
       "   'height': <Quantity 0.0 pix>,\n",
       "   'pixel_height': <Quantity 5.4 um>,\n",
       "   'pixel_width': <Quantity 16.2 um>,\n",
       "   'width': <Quantity 1117.0 pix>},\n",
       "  'RM_NXN': {'gain': <Quantity 0.37 electron / adu>,\n",
       "   'height': <Quantity 0.0 pix>,\n",
       "   'pixel_height': <Quantity 5.4 um>,\n",
       "   'pixel_width': <Quantity 5.4 um>,\n",
       "   'width': <Quantity 0.0 pix>}},\n",
       " 'remote_guide_head_support': False,\n",
       " 'serial_number': '83F011167'}"
      ]
     },
     "execution_count": 9,
     "metadata": {},
     "output_type": "execute_result"
    }
   ],
   "source": [
    "c0._info"
   ]
  },
  {
   "cell_type": "code",
   "execution_count": 10,
   "metadata": {
    "collapsed": false
   },
   "outputs": [
    {
     "data": {
      "text/plain": [
       "True"
      ]
     },
     "execution_count": 10,
     "metadata": {},
     "output_type": "execute_result"
    }
   ],
   "source": [
    "c0.CCD_cooling_enabled"
   ]
  },
  {
   "cell_type": "code",
   "execution_count": 11,
   "metadata": {
    "collapsed": false
   },
   "outputs": [
    {
     "data": {
      "text/latex": [
       "$0.18901873 \\; \\mathrm{{}^{\\circ}C}$"
      ],
      "text/plain": [
       "<Quantity 0.18901872786513252 deg_C>"
      ]
     },
     "execution_count": 11,
     "metadata": {},
     "output_type": "execute_result"
    }
   ],
   "source": [
    "c0.CCD_set_point"
   ]
  },
  {
   "cell_type": "code",
   "execution_count": 12,
   "metadata": {
    "collapsed": false
   },
   "outputs": [
    {
     "data": {
      "text/latex": [
       "$-0.65181534 \\; \\mathrm{{}^{\\circ}C}$"
      ],
      "text/plain": [
       "<Quantity -0.6518153424969313 deg_C>"
      ]
     },
     "execution_count": 12,
     "metadata": {},
     "output_type": "execute_result"
    }
   ],
   "source": [
    "c0.CCD_temp"
   ]
  },
  {
   "cell_type": "code",
   "execution_count": 13,
   "metadata": {
    "collapsed": false
   },
   "outputs": [
    {
     "data": {
      "text/plain": [
       "43.92156862745098"
      ]
     },
     "execution_count": 13,
     "metadata": {},
     "output_type": "execute_result"
    }
   ],
   "source": [
    "c0.CCD_cooling_power"
   ]
  },
  {
   "cell_type": "markdown",
   "metadata": {},
   "source": [
    "Delete any FITS files from previous runs of this notebook"
   ]
  },
  {
   "cell_type": "code",
   "execution_count": 22,
   "metadata": {
    "collapsed": false
   },
   "outputs": [],
   "source": [
    "for fits_name in glob.glob('*.fits'):\n",
    "    os.unlink(fits_name)"
   ]
  },
  {
   "cell_type": "markdown",
   "metadata": {},
   "source": [
    "Basic exposure. By default this is non-blocking so sleep for a while to allow it to complete."
   ]
  },
  {
   "cell_type": "code",
   "execution_count": 15,
   "metadata": {
    "collapsed": false
   },
   "outputs": [],
   "source": [
    "c0.take_exposure(1.0, filename='test0.fits')\n",
    "time.sleep(5)"
   ]
  },
  {
   "cell_type": "markdown",
   "metadata": {},
   "source": [
    "Basic dark exposure, shutter will be kept closed throughout."
   ]
  },
  {
   "cell_type": "code",
   "execution_count": 16,
   "metadata": {
    "collapsed": false
   },
   "outputs": [],
   "source": [
    "c0.take_exposure(1.0, filename='test1.fits', dark = True)\n",
    "time.sleep(5)"
   ]
  },
  {
   "cell_type": "markdown",
   "metadata": {},
   "source": [
    "Take a series of dark exposures one after another using the blocking option"
   ]
  },
  {
   "cell_type": "code",
   "execution_count": 17,
   "metadata": {
    "collapsed": false
   },
   "outputs": [],
   "source": [
    "for i in range(2,5):\n",
    "    c0.take_exposure(0, filename='bias{}.fits'.format(i), dark=True, blocking=True)"
   ]
  },
  {
   "cell_type": "markdown",
   "metadata": {},
   "source": [
    "Start two dark exposures without waiting for the first to finish. This will generate warnings, but will still work. Don't do this though!"
   ]
  },
  {
   "cell_type": "code",
   "execution_count": 18,
   "metadata": {
    "collapsed": false
   },
   "outputs": [
    {
     "name": "stderr",
     "output_type": "stream",
     "text": [
      "2017-01-18 11:56:32 aaomc48as.aao.gov.au panoptes[95168] WARNING Attempt to start exposure on 0 while camera busy!\n",
      "2017-01-18 11:56:32 aaomc48as.aao.gov.au panoptes[95168] WARNING Waiting for exposure on 0 to complete\n",
      "2017-01-18 11:56:33 aaomc48as.aao.gov.au panoptes[95168] WARNING Waiting for exposure on 0 to complete\n"
     ]
    }
   ],
   "source": [
    "c0.take_exposure(1.0, filename='test5.fits', dark = True)\n",
    "c0.take_exposure(1.0, filename='test6.fits', dark = True)\n",
    "time.sleep(10)"
   ]
  },
  {
   "cell_type": "markdown",
   "metadata": {},
   "source": [
    "Take an exposure using the higher level `take_observation()` interface. This will also call `process_observation()` on the resulting FITS file."
   ]
  },
  {
   "cell_type": "code",
   "execution_count": 19,
   "metadata": {
    "collapsed": false
   },
   "outputs": [],
   "source": [
    "field = Field('Test Observation', '20h00m43.7135s +22d42m39.0645s')\n",
    "observation = Observation(field, exp_time=1.5 * u.second)\n",
    "e0 = c0.take_observation(observation, headers={})"
   ]
  },
  {
   "cell_type": "markdown",
   "metadata": {
    "collapsed": true
   },
   "source": [
    "## Focusing test"
   ]
  },
  {
   "cell_type": "code",
   "execution_count": 74,
   "metadata": {
    "collapsed": false
   },
   "outputs": [
    {
     "data": {
      "text/plain": [
       "<threading.Event at 0x111108f28>"
      ]
     },
     "execution_count": 74,
     "metadata": {},
     "output_type": "execute_result"
    }
   ],
   "source": [
    "c0.take_exposure(0.1, filename='office.fits', blocking=True)"
   ]
  },
  {
   "cell_type": "code",
   "execution_count": 72,
   "metadata": {
    "collapsed": false
   },
   "outputs": [
    {
     "data": {
      "text/plain": [
       "14363"
      ]
     },
     "execution_count": 72,
     "metadata": {},
     "output_type": "execute_result"
    }
   ],
   "source": [
    "c0.focuser.move_to(14360)"
   ]
  },
  {
   "cell_type": "code",
   "execution_count": 1,
   "metadata": {
    "collapsed": false
   },
   "outputs": [
    {
     "ename": "NameError",
     "evalue": "name 'glob' is not defined",
     "output_type": "error",
     "traceback": [
      "\u001b[0;31m---------------------------------------------------------------------------\u001b[0m",
      "\u001b[0;31mNameError\u001b[0m                                 Traceback (most recent call last)",
      "\u001b[0;32m<ipython-input-1-bdf7a54fbac8>\u001b[0m in \u001b[0;36m<module>\u001b[0;34m()\u001b[0m\n\u001b[0;32m----> 1\u001b[0;31m \u001b[0;32mfor\u001b[0m \u001b[0mfits_name\u001b[0m \u001b[0;32min\u001b[0m \u001b[0mglob\u001b[0m\u001b[0;34m.\u001b[0m\u001b[0mglob\u001b[0m\u001b[0;34m(\u001b[0m\u001b[0;34m'*.fits'\u001b[0m\u001b[0;34m)\u001b[0m\u001b[0;34m:\u001b[0m\u001b[0;34m\u001b[0m\u001b[0m\n\u001b[0m\u001b[1;32m      2\u001b[0m     \u001b[0mos\u001b[0m\u001b[0;34m.\u001b[0m\u001b[0munlink\u001b[0m\u001b[0;34m(\u001b[0m\u001b[0mfits_name\u001b[0m\u001b[0;34m)\u001b[0m\u001b[0;34m\u001b[0m\u001b[0m\n",
      "\u001b[0;31mNameError\u001b[0m: name 'glob' is not defined"
     ]
    }
   ],
   "source": [
    "for fits_name in glob.glob('*.fits'):\n",
    "    os.unlink(fits_name)"
   ]
  },
  {
   "cell_type": "code",
   "execution_count": null,
   "metadata": {
    "collapsed": true
   },
   "outputs": [],
   "source": []
  },
  {
   "cell_type": "code",
   "execution_count": null,
   "metadata": {
    "collapsed": true
   },
   "outputs": [],
   "source": []
  }
 ],
 "metadata": {
  "anaconda-cloud": {},
  "kernelspec": {
   "display_name": "Python [conda env:POCS]",
   "language": "python",
   "name": "conda-env-POCS-py"
  },
  "language_info": {
   "codemirror_mode": {
    "name": "ipython",
    "version": 3
   },
   "file_extension": ".py",
   "mimetype": "text/x-python",
   "name": "python",
   "nbconvert_exporter": "python",
   "pygments_lexer": "ipython3",
   "version": "3.5.2"
  }
 },
 "nbformat": 4,
 "nbformat_minor": 1
}
