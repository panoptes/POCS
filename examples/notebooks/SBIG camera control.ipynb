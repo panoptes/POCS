{
 "cells": [
  {
   "cell_type": "markdown",
   "metadata": {},
   "source": [
    "# Demonstration of control of SBIG CCD cameras"
   ]
  },
  {
   "cell_type": "code",
   "execution_count": 1,
   "metadata": {
    "collapsed": false
   },
   "outputs": [],
   "source": [
    "# Load the PANOPTES module dir\n",
    "import sys\n",
    "sys.path.append('../../')\n",
    "\n",
    "%load_ext autoreload\n",
    "%autoreload 2"
   ]
  },
  {
   "cell_type": "code",
   "execution_count": 2,
   "metadata": {
    "collapsed": true
   },
   "outputs": [],
   "source": [
    "from IPython.display import Image, SVG, display, display_svg"
   ]
  },
  {
   "cell_type": "code",
   "execution_count": 3,
   "metadata": {
    "collapsed": false
   },
   "outputs": [],
   "source": [
    "from pocs.camera.sbig import Camera"
   ]
  },
  {
   "cell_type": "code",
   "execution_count": 4,
   "metadata": {
    "collapsed": false
   },
   "outputs": [
    {
     "name": "stderr",
     "output_type": "stream",
     "text": [
      "2016-12-09 19:57:23 aaomc48as.aao.gov.au panoptes[80790] INFO Found 1 SBIG cameras\n"
     ]
    }
   ],
   "source": [
    "c0 = Camera()"
   ]
  },
  {
   "cell_type": "code",
   "execution_count": 5,
   "metadata": {
    "collapsed": false
   },
   "outputs": [
    {
     "data": {
      "text/plain": [
       "'83F011167'"
      ]
     },
     "execution_count": 5,
     "metadata": {},
     "output_type": "execute_result"
    }
   ],
   "source": [
    "c0.uid"
   ]
  },
  {
   "cell_type": "code",
   "execution_count": 6,
   "metadata": {
    "collapsed": false
   },
   "outputs": [
    {
     "data": {
      "text/plain": [
       "True"
      ]
     },
     "execution_count": 6,
     "metadata": {},
     "output_type": "execute_result"
    }
   ],
   "source": [
    "c0.CCD_cooling_enabled"
   ]
  },
  {
   "cell_type": "code",
   "execution_count": 7,
   "metadata": {
    "collapsed": false
   },
   "outputs": [
    {
     "data": {
      "text/plain": [
       "-9.787817267811569"
      ]
     },
     "execution_count": 7,
     "metadata": {},
     "output_type": "execute_result"
    }
   ],
   "source": [
    "c0.CCD_temp"
   ]
  },
  {
   "cell_type": "code",
   "execution_count": 8,
   "metadata": {
    "collapsed": false
   },
   "outputs": [
    {
     "data": {
      "text/plain": [
       "-9.787817267811569"
      ]
     },
     "execution_count": 8,
     "metadata": {},
     "output_type": "execute_result"
    }
   ],
   "source": [
    "c0.CCD_set_point"
   ]
  },
  {
   "cell_type": "code",
   "execution_count": 9,
   "metadata": {
    "collapsed": false
   },
   "outputs": [
    {
     "data": {
      "text/plain": [
       "100.0"
      ]
     },
     "execution_count": 9,
     "metadata": {},
     "output_type": "execute_result"
    }
   ],
   "source": [
    "c0.CCD_cooling_power"
   ]
  },
  {
   "cell_type": "code",
   "execution_count": 10,
   "metadata": {
    "collapsed": true
   },
   "outputs": [],
   "source": [
    "c0.CCD_set_point = -10"
   ]
  },
  {
   "cell_type": "code",
   "execution_count": 11,
   "metadata": {
    "collapsed": false
   },
   "outputs": [
    {
     "data": {
      "text/plain": [
       "{'AO8': False,\n",
       " 'Biorad_TDI_support': False,\n",
       " 'STXL': False,\n",
       " 'Truesense': False,\n",
       " 'bad_columns': [],\n",
       " 'camera_name': 'SBIG STF-8300 CCD Camera',\n",
       " 'camera_type': 'STF_CAMERA',\n",
       " 'colour': False,\n",
       " 'dump_extra': 0,\n",
       " 'electronic_shutter': False,\n",
       " 'firmware_version': '2.45',\n",
       " 'frame_buffer': True,\n",
       " 'frame_transfer': False,\n",
       " 'imaging_ABG': True,\n",
       " 'mechanical_shutter': True,\n",
       " 'readout_modes': {'RM_1X1': {'gain': <Quantity 0.37 electron / adu>,\n",
       "   'height': <Quantity 2532.0 pix>,\n",
       "   'pixel_height': <Quantity 5.4 um>,\n",
       "   'pixel_width': <Quantity 5.4 um>,\n",
       "   'width': <Quantity 3352.0 pix>},\n",
       "  'RM_1X1_VOFFCHIP': {'gain': <Quantity 0.37 electron / adu>,\n",
       "   'height': <Quantity 2532.0 pix>,\n",
       "   'pixel_height': <Quantity 5.4 um>,\n",
       "   'pixel_width': <Quantity 5.4 um>,\n",
       "   'width': <Quantity 3352.0 pix>},\n",
       "  'RM_2X2': {'gain': <Quantity 0.37 electron / adu>,\n",
       "   'height': <Quantity 1266.0 pix>,\n",
       "   'pixel_height': <Quantity 10.8 um>,\n",
       "   'pixel_width': <Quantity 10.8 um>,\n",
       "   'width': <Quantity 1676.0 pix>},\n",
       "  'RM_2X2_VOFFCHIP': {'gain': <Quantity 0.37 electron / adu>,\n",
       "   'height': <Quantity 1266.0 pix>,\n",
       "   'pixel_height': <Quantity 10.8 um>,\n",
       "   'pixel_width': <Quantity 10.8 um>,\n",
       "   'width': <Quantity 1676.0 pix>},\n",
       "  'RM_3X3': {'gain': <Quantity 0.37 electron / adu>,\n",
       "   'height': <Quantity 844.0 pix>,\n",
       "   'pixel_height': <Quantity 16.2 um>,\n",
       "   'pixel_width': <Quantity 16.2 um>,\n",
       "   'width': <Quantity 1117.0 pix>},\n",
       "  'RM_3X3_VOFFCHIP': {'gain': <Quantity 0.37 electron / adu>,\n",
       "   'height': <Quantity 844.0 pix>,\n",
       "   'pixel_height': <Quantity 16.2 um>,\n",
       "   'pixel_width': <Quantity 16.2 um>,\n",
       "   'width': <Quantity 1117.0 pix>},\n",
       "  'RM_9X9': {'gain': <Quantity 0.37 electron / adu>,\n",
       "   'height': <Quantity 281.0 pix>,\n",
       "   'pixel_height': <Quantity 48.6 um>,\n",
       "   'pixel_width': <Quantity 48.6 um>,\n",
       "   'width': <Quantity 372.0 pix>},\n",
       "  'RM_NX1': {'gain': <Quantity 0.37 electron / adu>,\n",
       "   'height': <Quantity 0.0 pix>,\n",
       "   'pixel_height': <Quantity 5.4 um>,\n",
       "   'pixel_width': <Quantity 5.4 um>,\n",
       "   'width': <Quantity 3352.0 pix>},\n",
       "  'RM_NX2': {'gain': <Quantity 0.37 electron / adu>,\n",
       "   'height': <Quantity 0.0 pix>,\n",
       "   'pixel_height': <Quantity 5.4 um>,\n",
       "   'pixel_width': <Quantity 10.8 um>,\n",
       "   'width': <Quantity 1676.0 pix>},\n",
       "  'RM_NX3': {'gain': <Quantity 0.37 electron / adu>,\n",
       "   'height': <Quantity 0.0 pix>,\n",
       "   'pixel_height': <Quantity 5.4 um>,\n",
       "   'pixel_width': <Quantity 16.2 um>,\n",
       "   'width': <Quantity 1117.0 pix>},\n",
       "  'RM_NXN': {'gain': <Quantity 0.37 electron / adu>,\n",
       "   'height': <Quantity 0.0 pix>,\n",
       "   'pixel_height': <Quantity 5.4 um>,\n",
       "   'pixel_width': <Quantity 5.4 um>,\n",
       "   'width': <Quantity 0.0 pix>}},\n",
       " 'remote_guide_head_support': False,\n",
       " 'serial_number': '83F011167'}"
      ]
     },
     "execution_count": 11,
     "metadata": {},
     "output_type": "execute_result"
    }
   ],
   "source": [
    "c0._info"
   ]
  },
  {
   "cell_type": "code",
   "execution_count": 13,
   "metadata": {
    "collapsed": false
   },
   "outputs": [],
   "source": [
    "t = c0.take_exposure(5.0, filename='test6.fits')"
   ]
  }
 ],
 "metadata": {
  "anaconda-cloud": {},
  "kernelspec": {
   "display_name": "Python [conda env:POCS]",
   "language": "python",
   "name": "conda-env-POCS-py"
  },
  "language_info": {
   "codemirror_mode": {
    "name": "ipython",
    "version": 3
   },
   "file_extension": ".py",
   "mimetype": "text/x-python",
   "name": "python",
   "nbconvert_exporter": "python",
   "pygments_lexer": "ipython3",
   "version": "3.5.2"
  }
 },
 "nbformat": 4,
 "nbformat_minor": 1
}
