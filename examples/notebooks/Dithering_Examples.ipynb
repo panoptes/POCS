{
 "cells": [
  {
   "cell_type": "markdown",
   "metadata": {},
   "source": [
    "# LOOPING DICE-9"
   ]
  },
  {
   "cell_type": "markdown",
   "metadata": {},
   "source": [
    "- This creates a rectangle of 8 points around the central designated point\n",
    "- No random selection at each point (random selection in a small region around the point such that no point is selected twice)\n",
    "- REQUIRED: \n",
    " - ra_dec: a RA and DEC created using 'SkyCoord'\n",
    " - offset: an offset for how far around the point you would like to dither. Default is 30*u.arcsec.\n",
    " - loop: a loop for how many times you would like to dither with the DICE_9 pattern. Default is 9 loop.\n",
    "- RETURNS: 'SkyCoord' as a list"
   ]
  },
  {
   "cell_type": "markdown",
   "metadata": {},
   "source": [
    "### - Example: dither_dice9(ra_dec='13 37 00' , '-29 51 56.74' [in SkyCoords], offset=0.5*u.deg, loop=18)"
   ]
  },
  {
   "cell_type": "code",
   "execution_count": 1,
   "metadata": {
    "collapsed": false
   },
   "outputs": [
    {
     "name": "stdout",
     "output_type": "stream",
     "text": [
      "<SkyCoord (ICRS): (ra, dec) in deg\n",
      "    [(204.25, -29.86576111), (204.60355339, -29.51220772),\n",
      "     (204.60355339, -29.86576111), (204.60355339, -30.2193145),\n",
      "     (204.25, -30.2193145), (203.89644661, -30.2193145),\n",
      "     (203.89644661, -29.86576111), (203.89644661, -29.51220772),\n",
      "     (204.25, -29.51220772), (204.25, -29.86576111),\n",
      "     (204.60355339, -29.51220772), (204.60355339, -29.86576111),\n",
      "     (204.60355339, -30.2193145), (204.25, -30.2193145),\n",
      "     (203.89644661, -30.2193145), (203.89644661, -29.86576111),\n",
      "     (203.89644661, -29.51220772), (204.25, -29.51220772)]>\n"
     ]
    }
   ],
   "source": [
    "import astropy.units as u\n",
    "from astropy.coordinates import SkyCoord\n",
    "import math\n",
    "import itertools\n",
    "\n",
    "ra='13 37 00'\n",
    "dec='-29 51 56.74'\n",
    "ra_dec=SkyCoord('%s %s'%(ra, dec), unit=(u.hourangle,u.deg))\n",
    "offset=0.5*u.deg\n",
    "loop=18\n",
    "\n",
    "def dither_dice9(ra_dec, offset=30*u.arcsec, loop=9):\n",
    "    if not isinstance(offset,u.Quantity):\n",
    "        offset=offset*u.arcsec\n",
    "    ra=ra_dec.ra\n",
    "    dec=ra_dec.dec\n",
    "    number=math.ceil(loop/9.0)\n",
    "    \n",
    "    RA_list=[ra]\n",
    "    DEC_list=[dec]\n",
    "    for _ in itertools.repeat(None, number):\n",
    "        ra1=ra+((0.5*2**0.5)*offset) #0.5*2**0.5 is due to adjacent side in a right angle triangle (cos45)\n",
    "        RA_list.append(ra1)\n",
    "        dec1=dec+((0.5*2**0.5)*offset)\n",
    "        DEC_list.append(dec1)\n",
    "        \n",
    "        ra2=ra+((0.5*2**0.5)*offset)\n",
    "        RA_list.append(ra2)\n",
    "        DEC_list.append(dec)\n",
    "        \n",
    "        ra3=ra+((0.5*2**0.5)*offset)\n",
    "        RA_list.append(ra3)\n",
    "        dec3=dec-((0.5*2**0.5)*offset)\n",
    "        DEC_list.append(dec3)\n",
    "        \n",
    "        RA_list.append(ra)\n",
    "        dec4=dec-((0.5*2**0.5)*offset)\n",
    "        DEC_list.append(dec4)\n",
    "        \n",
    "        ra5=ra-((0.5*2**0.5)*offset)\n",
    "        RA_list.append(ra5)\n",
    "        dec5=dec-((0.5*2**0.5)*offset)\n",
    "        DEC_list.append(dec5)\n",
    "        \n",
    "        ra6=ra-((0.5*2**0.5)*offset)\n",
    "        RA_list.append(ra6)\n",
    "        DEC_list.append(dec)\n",
    "        \n",
    "        ra7=ra-((0.5*2**0.5)*offset)\n",
    "        RA_list.append(ra7)\n",
    "        dec7=dec+((0.5*2**0.5)*offset)\n",
    "        DEC_list.append(dec7)\n",
    "        \n",
    "        RA_list.append(ra)\n",
    "        dec8=dec+((0.5*2**0.5)*offset)\n",
    "        DEC_list.append(dec8)\n",
    "        \n",
    "        \n",
    "        RA_list.append(ra)\n",
    "        DEC_list.append(dec)\n",
    "        \n",
    "    \n",
    "    RA_final_list=RA_list[:loop]\n",
    "    DEC_final_list=DEC_list[:loop]\n",
    "    All=SkyCoord(RA_final_list,DEC_final_list)\n",
    "    print (All)\n",
    "    return All\n",
    "\n",
    "All9=dither_dice9(ra_dec,offset,loop)"
   ]
  },
  {
   "cell_type": "markdown",
   "metadata": {},
   "source": [
    "# LOOPING DICE-5"
   ]
  },
  {
   "cell_type": "markdown",
   "metadata": {},
   "source": [
    "- This creates a square of 4 points around the central designated point\n",
    "- No random selection at each point (random selection in a small region around the point such that no point is selected twice)\n",
    "- REQUIRED: \n",
    " - ra_dec: a RA and DEC created using 'SkyCoord'\n",
    " - offset: an offset for how far around the point you would like to dither. Default is 30*u.arcsec.\n",
    " - loop: a loop for how many times you would like to dither with the DICE_5 pattern. Default is 5 loop.\n",
    "- RETURNS: 'SkyCoord' as a list"
   ]
  },
  {
   "cell_type": "markdown",
   "metadata": {},
   "source": [
    "### - Example: dither_dice5(ra_dec='13 37 00' , '-29 51 56.74' [in SkyCoords], offset=0.5*u.deg, loop=10)"
   ]
  },
  {
   "cell_type": "code",
   "execution_count": 2,
   "metadata": {
    "collapsed": false
   },
   "outputs": [
    {
     "name": "stdout",
     "output_type": "stream",
     "text": [
      "<SkyCoord (ICRS): (ra, dec) in deg\n",
      "    [(204.25, -29.86576111), (204.60355339, -29.51220772),\n",
      "     (204.60355339, -30.2193145), (203.89644661, -30.2193145),\n",
      "     (203.89644661, -29.51220772), (204.25, -29.86576111),\n",
      "     (204.60355339, -29.51220772), (204.60355339, -30.2193145),\n",
      "     (203.89644661, -30.2193145), (203.89644661, -29.51220772)]>\n"
     ]
    }
   ],
   "source": [
    "import astropy.units as u\n",
    "from astropy.coordinates import SkyCoord\n",
    "import math\n",
    "import itertools\n",
    "\n",
    "ra='13 37 00'\n",
    "dec='-29 51 56.74'\n",
    "ra_dec=SkyCoord('%s %s'%(ra, dec), unit=(u.hourangle,u.deg))\n",
    "offset=0.5*u.deg\n",
    "loop=10\n",
    "\n",
    "def dither_dice5(ra_dec, offset=30*u.arcsec, loop=5):\n",
    "    if not isinstance(offset,u.Quantity):\n",
    "        offset=offset*u.arcsec\n",
    "    ra=ra_dec.ra\n",
    "    dec=ra_dec.dec\n",
    "    number=math.ceil(loop/5.0)\n",
    "    \n",
    "    RA_list=[ra]\n",
    "    DEC_list=[dec]\n",
    "    for _ in itertools.repeat(None, number):\n",
    "        ra1=ra+((0.5*2**0.5)*offset) #0.5*2**0.5 is due to adjacent side in a right angle triangle (cos45)\n",
    "        RA_list.append(ra1)\n",
    "        dec1=dec+((0.5*2**0.5)*offset)\n",
    "        DEC_list.append(dec1)\n",
    "        \n",
    "        ra2=ra+((0.5*2**0.5)*offset)\n",
    "        RA_list.append(ra2)\n",
    "        dec2=dec-((0.5*2**0.5)*offset)\n",
    "        DEC_list.append(dec2)\n",
    "        \n",
    "        ra3=ra-((0.5*2**0.5)*offset)\n",
    "        RA_list.append(ra3)\n",
    "        dec3=dec-((0.5*2**0.5)*offset)\n",
    "        DEC_list.append(dec3)\n",
    "        \n",
    "        ra4=ra-((0.5*2**0.5)*offset)\n",
    "        RA_list.append(ra4)\n",
    "        dec4=dec+((0.5*2**0.5)*offset)\n",
    "        DEC_list.append(dec4)\n",
    "        \n",
    "        RA_list.append(ra)\n",
    "        DEC_list.append(dec)\n",
    "        \n",
    "    \n",
    "    RA_final_list=RA_list[:loop]\n",
    "    DEC_final_list=DEC_list[:loop]\n",
    "    All=SkyCoord(RA_final_list,DEC_final_list)\n",
    "    print (All)\n",
    "    return All\n",
    "\n",
    "All5=dither_dice5(ra_dec,offset,loop)"
   ]
  },
  {
   "cell_type": "markdown",
   "metadata": {},
   "source": [
    "# Random For All :)"
   ]
  },
  {
   "cell_type": "markdown",
   "metadata": {},
   "source": [
    "- The random selection in a small region around the designated point/s such that no point is selected twice to produce a more accurate image.\n",
    "- If only one SkyCoord is given, a loop must be selected such that that number of dithers is randomly selected within the defined offset region.\n",
    "- REQUIRED:\n",
    " - dice_list: a list of dithered points\n",
    " - offset: an offset for the defined small region around the points defined in the dither list provided\n",
    " - loop: If only one dice_list element is given, then a loop can be defined (for within a curtain offset) such that all dithered points are random. The dither number is that defined for loop. Default is 1 loop.\n",
    "- RETURNS: 'SkyCoord' as a list"
   ]
  },
  {
   "cell_type": "markdown",
   "metadata": {},
   "source": [
    "### - Example for defined random dither using coordinates from DICE 9:\n",
    "- dither_dice(dice_list=All9 [dice 9 results], offset=20*u.arcsec, loop=1)"
   ]
  },
  {
   "cell_type": "code",
   "execution_count": 3,
   "metadata": {
    "collapsed": false
   },
   "outputs": [
    {
     "name": "stdout",
     "output_type": "stream",
     "text": [
      "<SkyCoord (ICRS): (ra, dec) in deg\n",
      "    [(204.248849, -29.86660345), (204.60168528, -29.51387554),\n",
      "     (204.60177836, -29.8678337), (204.60262089, -30.22012054),\n",
      "     (204.24901288, -30.21802715), (203.89782574, -30.2207102),\n",
      "     (203.89598401, -29.8642165), (203.89554299, -29.51454633),\n",
      "     (204.25033791, -29.51307254), (204.24729385, -29.86328993),\n",
      "     (204.60196902, -29.51417941), (204.60585362, -29.86627537),\n",
      "     (204.60165936, -30.22048141), (204.2475109, -30.22173423),\n",
      "     (203.89576022, -30.21847495), (203.89815122, -29.86618579),\n",
      "     (203.89432265, -29.51262267), (204.24919406, -29.51104151)]>\n"
     ]
    }
   ],
   "source": [
    "import numpy as np\n",
    "import astropy.units as u\n",
    "from astropy.coordinates import SkyCoord\n",
    "import itertools\n",
    "import random\n",
    "\n",
    "dice_list=All9\n",
    "offset=20*u.arcsec\n",
    "\n",
    "def dither_dice(dice_list,offset,loop=1):\n",
    "    if not isinstance(offset,u.Quantity):\n",
    "        offset=offset*u.arcsec\n",
    "    ra=dice_list.ra\n",
    "    dec=dice_list.dec\n",
    "    RA_LIST=[]\n",
    "    DEC_LIST=[]\n",
    "    if loop>1:\n",
    "        for _ in itertools.repeat(None, loop):\n",
    "            offset_ra=random.uniform(ra-(offset*0.5),ra+(offset*0.5))\n",
    "            RA_LIST.append(offset_ra)\n",
    "            offset_dec=random.uniform(dec-(offset*0.5),dec+(offset*0.5))\n",
    "            DEC_LIST.append(offset_dec)\n",
    "    else:\n",
    "        #RA=[dice_list[0].ra]\n",
    "        #DEC=[dice_list[0].dec]\n",
    "        for i in range(0,len(ra)):\n",
    "            RA_offset=random.uniform(ra[i]-(offset*0.5),ra[i]+(offset*0.5))\n",
    "            RA_LIST.append(RA_offset)\n",
    "            DEC_offset=random.uniform(dec[i]-(offset*0.5),dec[i]+(offset*0.5))\n",
    "            DEC_LIST.append(DEC_offset)\n",
    "\n",
    "    All=SkyCoord(RA_LIST,DEC_LIST)\n",
    "    print (All)\n",
    "    return All\n",
    "\n",
    "All=dither_dice(dice_list,offset)"
   ]
  },
  {
   "cell_type": "markdown",
   "metadata": {},
   "source": [
    "### - Example for random dither using only one defined coordinate\n",
    "- dither_dice(dice_list='13 37 00' , '-29 51 56.74' [in SkyCoords], offset=20*u.arcsec, loop=30)"
   ]
  },
  {
   "cell_type": "code",
   "execution_count": 4,
   "metadata": {
    "collapsed": false
   },
   "outputs": [
    {
     "name": "stdout",
     "output_type": "stream",
     "text": [
      "<SkyCoord (ICRS): (ra, dec) in deg\n",
      "    [(204.25116586, -29.86530041), (204.24909518, -29.86559815),\n",
      "     (204.25228486, -29.86312918), (204.24838111, -29.86562178),\n",
      "     (204.24979432, -29.86618396), (204.25079024, -29.86809618),\n",
      "     (204.24828991, -29.86474824), (204.25170174, -29.86596173),\n",
      "     (204.25228109, -29.86476254), (204.25092002, -29.86717483),\n",
      "     (204.25223805, -29.86406032), (204.2492504, -29.8671992),\n",
      "     (204.25226299, -29.86551146), (204.25184366, -29.86680274),\n",
      "     (204.25259007, -29.86807778), (204.24745706, -29.8671158),\n",
      "     (204.24909819, -29.86747518), (204.24951301, -29.86788756),\n",
      "     (204.24856057, -29.86743897), (204.24819947, -29.86845982),\n",
      "     (204.25234256, -29.86500641), (204.25008419, -29.86627763),\n",
      "     (204.25108678, -29.8634377), (204.24946242, -29.8668677),\n",
      "     (204.25104704, -29.8683507), (204.24861104, -29.86324453),\n",
      "     (204.25085668, -29.86354758), (204.2501453, -29.86579542),\n",
      "     (204.25167224, -29.86357442), (204.25073683, -29.86557894)]>\n"
     ]
    }
   ],
   "source": [
    "import numpy as np\n",
    "import astropy.units as u\n",
    "from astropy.coordinates import SkyCoord\n",
    "import itertools\n",
    "import random\n",
    "\n",
    "ra='13 37 00'\n",
    "dec='-29 51 56.74'\n",
    "dice_list=SkyCoord('%s %s'%(ra, dec), unit=(u.hourangle,u.deg))\n",
    "offset=20*u.arcsec\n",
    "loop=30\n",
    "\n",
    "def dither_dice(dice_list,offset,loop=1):\n",
    "    if not isinstance(offset,u.Quantity):\n",
    "        offset=offset*u.arcsec\n",
    "    ra=dice_list.ra\n",
    "    dec=dice_list.dec\n",
    "    RA_LIST=[]\n",
    "    DEC_LIST=[]\n",
    "    if loop>1:\n",
    "        for _ in itertools.repeat(None, loop):\n",
    "            offset_ra=random.uniform(ra-(offset*0.5),ra+(offset*0.5))\n",
    "            RA_LIST.append(offset_ra)\n",
    "            offset_dec=random.uniform(dec-(offset*0.5),dec+(offset*0.5))\n",
    "            DEC_LIST.append(offset_dec)\n",
    "    else:\n",
    "        #RA=[dice_list[0].ra]\n",
    "        #DEC=[dice_list[0].dec]\n",
    "        for i in range(0,len(ra)):\n",
    "            RA_offset=random.uniform(ra[i]-(offset*0.5),ra[i]+(offset*0.5))\n",
    "            RA_LIST.append(RA_offset)\n",
    "            DEC_offset=random.uniform(dec[i]-(offset*0.5),dec[i]+(offset*0.5))\n",
    "            DEC_LIST.append(DEC_offset)\n",
    "\n",
    "    All=SkyCoord(RA_LIST,DEC_LIST)\n",
    "    print (All)\n",
    "    return All\n",
    "\n",
    "All=dither_dice(dice_list,offset, loop)"
   ]
  }
 ],
 "metadata": {
  "anaconda-cloud": {},
  "kernelspec": {
   "display_name": "Python [conda root]",
   "language": "python",
   "name": "conda-root-py"
  },
  "language_info": {
   "codemirror_mode": {
    "name": "ipython",
    "version": 3
   },
   "file_extension": ".py",
   "mimetype": "text/x-python",
   "name": "python",
   "nbconvert_exporter": "python",
   "pygments_lexer": "ipython3",
   "version": "3.5.2"
  }
 },
 "nbformat": 4,
 "nbformat_minor": 1
}
