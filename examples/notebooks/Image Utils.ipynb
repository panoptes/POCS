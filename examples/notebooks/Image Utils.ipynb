{
 "cells": [
  {
   "cell_type": "markdown",
   "metadata": {},
   "source": [
    "This notebook will demonstrate the various image utilities while working with a specific Image Sequence"
   ]
  },
  {
   "cell_type": "code",
   "execution_count": 5,
   "metadata": {
    "collapsed": true
   },
   "outputs": [],
   "source": [
    "from glob import glob\n",
    "\n",
    "from astropy.coordinates import SkyCoord"
   ]
  },
  {
   "cell_type": "markdown",
   "metadata": {},
   "source": [
    "## Setup\n",
    "\n",
    "Set some basic variables that we will use throughout. We assume all the files contained in the `image_dir` are Canon CR2 files to begin with and no conversion or solving has been done.\n",
    "\n",
    "The `target_name` is usually known in advance so we specifiy it here so that we can look up some basic properties later. _Note: In the future this will come from the PANOPTES Image Catalog (PIC)_"
   ]
  },
  {
   "cell_type": "code",
   "execution_count": 4,
   "metadata": {
    "collapsed": true
   },
   "outputs": [],
   "source": [
    "image_dir = '/var/panoptes/images/fields/HatP16/20160719T113853/'\n",
    "target_name = 'Hat-P-16'"
   ]
  },
  {
   "cell_type": "markdown",
   "metadata": {},
   "source": [
    "## Plate solve the guide image\n",
    "\n",
    "Guide images are stored as `guide_XXX.cr2` files so here we grab the one with the highest number. We then use `SkyCoord` to lookup the known RA/Dec for the target and use this as a guess parameter for plate-solving."
   ]
  },
  {
   "cell_type": "code",
   "execution_count": 6,
   "metadata": {
    "collapsed": false
   },
   "outputs": [
    {
     "name": "stdout",
     "output_type": "stream",
     "text": [
      "/var/panoptes/images/fields/HatP16/20160719T113853/guide_000.cr2\n"
     ]
    }
   ],
   "source": [
    "# First get the guide image used for this sequence\n",
    "guide_images = glob(image_dir + 'guide_*.cr2')\n",
    "guide_images.sort()\n",
    "\n",
    "ref_image = guide_images[-1]\n",
    "print(ref_image)"
   ]
  },
  {
   "cell_type": "code",
   "execution_count": 15,
   "metadata": {
    "collapsed": false
   },
   "outputs": [
    {
     "name": "stdout",
     "output_type": "stream",
     "text": [
      "<SkyCoord (ICRS): (ra, dec) in deg\n",
      "    (9.57317333, 42.46312472)>\n"
     ]
    }
   ],
   "source": [
    "# Find the catalog information\n",
    "target = SkyCoord.from_name(target_name)\n",
    "print(target)"
   ]
  },
  {
   "cell_type": "markdown",
   "metadata": {},
   "source": [
    "We can use `pocs.utils.images.calc"
   ]
  }
 ],
 "metadata": {
  "kernelspec": {
   "display_name": "Python [Root]",
   "language": "python",
   "name": "Python [Root]"
  },
  "language_info": {
   "codemirror_mode": {
    "name": "ipython",
    "version": 3
   },
   "file_extension": ".py",
   "mimetype": "text/x-python",
   "name": "python",
   "nbconvert_exporter": "python",
   "pygments_lexer": "ipython3",
   "version": "3.5.2"
  }
 },
 "nbformat": 4,
 "nbformat_minor": 0
}
