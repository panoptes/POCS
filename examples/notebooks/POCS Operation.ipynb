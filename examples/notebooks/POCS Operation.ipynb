{
 "cells": [
  {
   "cell_type": "markdown",
   "metadata": {},
   "source": [
    "An instance of `POCS` can be loaded and run as a simulator, which will then allow you to play with various aspects of of `POCS` and allow all of the different parts of the system. \n",
    "\n",
    "Any `INFO` level log messages will be displayed in the notebook but you can check `$PANDIR/logs/panoptes.log` for full debug output"
   ]
  },
  {
   "cell_type": "code",
   "execution_count": 1,
   "metadata": {
    "collapsed": true
   },
   "outputs": [],
   "source": [
    "# Load the POCS module\n",
    "from pocs import POCS"
   ]
  },
  {
   "cell_type": "code",
   "execution_count": 2,
   "metadata": {
    "collapsed": false
   },
   "outputs": [
    {
     "name": "stderr",
     "output_type": "stream",
     "text": [
      "2016-11-29 12:29:19 ganymede panoptes[24487] INFO Loading state table: simple_state_table\n",
      "2016-11-29 12:29:20 ganymede panoptes[24487] INFO ********************************************************************************\n",
      "2016-11-29 12:29:20 ganymede panoptes[24487] INFO Initializing PANOPTES unit\n",
      "2016-11-29 12:29:20 ganymede panoptes[24487] INFO Welcome GeeBot!\n",
      "2016-11-29 12:29:20 ganymede panoptes[24487] INFO \t observatory\n",
      "2016-11-29 12:29:20 ganymede panoptes[24487] INFO \tInitializing observatory\n",
      "2016-11-29 12:29:20 ganymede panoptes[24487] INFO \t\t Setting up location\n",
      "2016-11-29 12:29:20 ganymede panoptes[24487] INFO \t\t Setting up mount\n",
      "2016-11-29 12:29:20 ganymede panoptes[24487] INFO \t\tUsing simulator mount\n",
      "2016-11-29 12:29:20 ganymede panoptes[24487] INFO \t\t Setting up cameras\n",
      "2016-11-29 12:29:20 ganymede panoptes[24487] INFO \t\t Setting up scheduler\n",
      "2016-11-29 12:29:20 ganymede panoptes[24487] INFO \t Observatory initialized\n",
      "2016-11-29 12:29:22 ganymede root[24487] INFO PANCHAT Hi there!\n"
     ]
    }
   ],
   "source": [
    "# Create an instance of POCS that acts as a simulator\n",
    "pocs = POCS(simulator=['all']) # Could be a list of: 'weather', 'camera', 'mount'"
   ]
  },
  {
   "cell_type": "markdown",
   "metadata": {},
   "source": [
    "The `pocs` instance needs to be initialized, which will set up the cameras, mount, scheduler, etc."
   ]
  },
  {
   "cell_type": "code",
   "execution_count": 3,
   "metadata": {
    "collapsed": false
   },
   "outputs": [
    {
     "name": "stderr",
     "output_type": "stream",
     "text": [
      "2016-11-29 12:29:22 ganymede root[24487] INFO PANCHAT Initializing the system! Woohoo!\n"
     ]
    },
    {
     "data": {
      "text/plain": [
       "True"
      ]
     },
     "execution_count": 3,
     "metadata": {},
     "output_type": "execute_result"
    }
   ],
   "source": [
    "pocs.initialize()"
   ]
  },
  {
   "cell_type": "markdown",
   "metadata": {},
   "source": [
    "During automated operations a script would simply call `pocs.run()` and the state machine would begin. However, the `run()` method is a blocking call so you can't interact with the system any more. Here we manually inspect some items."
   ]
  },
  {
   "cell_type": "code",
   "execution_count": 4,
   "metadata": {
    "collapsed": false
   },
   "outputs": [
    {
     "name": "stdout",
     "output_type": "stream",
     "text": [
      "None\n"
     ]
    }
   ],
   "source": [
    "# Check if we have a current observation:\n",
    "print(pocs.observatory.current_observation)"
   ]
  },
  {
   "cell_type": "code",
   "execution_count": 5,
   "metadata": {
    "collapsed": false
   },
   "outputs": [
    {
     "name": "stderr",
     "output_type": "stream",
     "text": [
      "2016-11-29 12:29:38 ganymede panoptes[24487] INFO Setting new observation to Kepler 1100: 120.0 s exposures in blocks of 10, minimum 60, priority 125\n"
     ]
    }
   ],
   "source": [
    "# Get an observation by running the scheduler. Check the log file for details\n",
    "new_obs = pocs.observatory.get_observation()"
   ]
  },
  {
   "cell_type": "code",
   "execution_count": 6,
   "metadata": {
    "collapsed": false
   },
   "outputs": [
    {
     "name": "stdout",
     "output_type": "stream",
     "text": [
      "Kepler 1100: 120.0 s exposures in blocks of 10, minimum 60, priority 125\n"
     ]
    }
   ],
   "source": [
    "print(pocs.observatory.current_observation)"
   ]
  },
  {
   "cell_type": "code",
   "execution_count": 7,
   "metadata": {
    "collapsed": false
   },
   "outputs": [],
   "source": [
    "# Set a new high priority target. (NOTE this is a totally fake thing)\n",
    "target = {\n",
    "    'name': 'Super Grav Wave Event',\n",
    "    'position': '22h57m47.0s +38d40m30.0s',\n",
    "    'priority': 999,    \n",
    "}\n",
    "\n",
    "pocs.observatory.scheduler.add_observation(target)"
   ]
  },
  {
   "cell_type": "code",
   "execution_count": 8,
   "metadata": {
    "collapsed": false
   },
   "outputs": [
    {
     "name": "stderr",
     "output_type": "stream",
     "text": [
      "2016-11-29 12:29:53 ganymede panoptes[24487] INFO Setting new observation to Super Grav Wave Event: 120.0 s exposures in blocks of 10, minimum 60, priority 999\n"
     ]
    }
   ],
   "source": [
    "# Get a new observation, which should be our new event\n",
    "new_obs = pocs.observatory.get_observation()"
   ]
  },
  {
   "cell_type": "code",
   "execution_count": 9,
   "metadata": {
    "collapsed": true
   },
   "outputs": [],
   "source": [
    "pocs.observatory.scheduler.remove_observation('Super Grav Wave Event')"
   ]
  },
  {
   "cell_type": "code",
   "execution_count": 10,
   "metadata": {
    "collapsed": false
   },
   "outputs": [
    {
     "data": {
      "text/plain": [
       "{'EPIC-211089792': <pocs.scheduler.observation.Observation at 0x7f7a85418eb8>,\n",
       " 'HAT-P-1': <pocs.scheduler.observation.Observation at 0x7f7a85421e10>,\n",
       " 'HAT-P-20': <pocs.scheduler.observation.Observation at 0x7f7a853f8b38>,\n",
       " 'HD 189733': <pocs.scheduler.observation.Observation at 0x7f7a87558c50>,\n",
       " 'HD 209458': <pocs.scheduler.observation.Observation at 0x7f7a8755acc0>,\n",
       " 'KIC 8462852': <pocs.scheduler.observation.Observation at 0x7f7a85b84710>,\n",
       " 'Kepler 1100': <pocs.scheduler.observation.Observation at 0x7f7a85b83710>,\n",
       " 'M42': <pocs.scheduler.observation.Observation at 0x7f7a85428898>,\n",
       " 'M44': <pocs.scheduler.observation.Observation at 0x7f7a85431828>,\n",
       " 'M45': <pocs.scheduler.observation.Observation at 0x7f7a845057b8>,\n",
       " 'M5': <pocs.scheduler.observation.Observation at 0x7f7a8450d748>,\n",
       " 'Qatar-1': <pocs.scheduler.observation.Observation at 0x7f7a85423a90>,\n",
       " 'Tres 3': <pocs.scheduler.observation.Observation at 0x7f7a8540ff28>,\n",
       " 'Wasp 104': <pocs.scheduler.observation.Observation at 0x7f7a8751c630>,\n",
       " 'Wasp 11': <pocs.scheduler.observation.Observation at 0x7f7a865c8be0>,\n",
       " 'Wasp 140': <pocs.scheduler.observation.Observation at 0x7f7a8751c5c0>,\n",
       " 'Wasp 2': <pocs.scheduler.observation.Observation at 0x7f7a865bbb38>,\n",
       " 'Wasp 33': <pocs.scheduler.observation.Observation at 0x7f7a865b1cc0>,\n",
       " 'Wasp 35': <pocs.scheduler.observation.Observation at 0x7f7a853f8b70>,\n",
       " 'Wasp 36': <pocs.scheduler.observation.Observation at 0x7f7a865bcc50>,\n",
       " 'Wasp 44': <pocs.scheduler.observation.Observation at 0x7f7a8751ee48>,\n",
       " 'Wasp 77': <pocs.scheduler.observation.Observation at 0x7f7a865a5d30>}"
      ]
     },
     "execution_count": 10,
     "metadata": {},
     "output_type": "execute_result"
    }
   ],
   "source": [
    "pocs.observatory.scheduler.observations"
   ]
  }
 ],
 "metadata": {
  "anaconda-cloud": {},
  "kernelspec": {
   "display_name": "Python [conda root]",
   "language": "python",
   "name": "conda-root-py"
  },
  "language_info": {
   "codemirror_mode": {
    "name": "ipython",
    "version": 3
   },
   "file_extension": ".py",
   "mimetype": "text/x-python",
   "name": "python",
   "nbconvert_exporter": "python",
   "pygments_lexer": "ipython3",
   "version": "3.5.2"
  }
 },
 "nbformat": 4,
 "nbformat_minor": 1
}
